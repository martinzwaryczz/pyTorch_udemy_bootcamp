{
 "cells": [
  {
   "cell_type": "markdown",
   "id": "a4e7de5d",
   "metadata": {},
   "source": [
    "# PyTorch Workflow\n",
    "\n",
    "Durante el segundo modelo se verán algunos de los fundamentos de los modelos más básicos de ML y DL utilizando Pytorch.\n",
    "\n",
    "Verémos como cargar, limpiar y procesar datos, junto a sus correspondientes algoritmos.\n",
    "\n",
    "Para empezar utilizaremos mucho de torch nn: https://docs.pytorch.org/docs/stable/nn.html"
   ]
  },
  {
   "cell_type": "code",
   "execution_count": 266,
   "id": "9fcc4a85",
   "metadata": {},
   "outputs": [
    {
     "data": {
      "text/plain": [
       "'2.7.1+cpu'"
      ]
     },
     "execution_count": 266,
     "metadata": {},
     "output_type": "execute_result"
    }
   ],
   "source": [
    "import torch\n",
    "from torch import nn # nn contiene todos los bloques de PyTorch para la creación de redes neuronales\n",
    "import matplotlib.pyplot as plt\n",
    "\n",
    "torch.__version__"
   ]
  },
  {
   "cell_type": "markdown",
   "id": "1fbe8100",
   "metadata": {},
   "source": [
    "# Datos en general\n",
    "\n",
    "Los datos pueden venir en diversos formatos (por no decir infinitos), archivos JSON, XML, CSV, Excel, audio, video o todos ellos mezclados. \n",
    "\n",
    "Es importarte saber obtener los datos de forma correcta de cada uno de estos para poder de esta manera cargar nuestros modelos correctamente.\n",
    "\n",
    "Podemos decir que, genericamente, el ML se divide en dos partes:\n",
    "\n",
    "1. Obtener datos y llevarlos a números.\n",
    "2. Construir modelos para reconocer patrones en esta.\n",
    "\n",
    "Para esta primera parte en la que obtenemos y llevamos la data a números debemos tener en cuenta que los datos a su vez deben ser separados en:\n",
    "- Datos de entrenamiento: 60%-80%\n",
    "- Datos de validación: 10%-20% \n",
    "- Datos de prueba: 10%-20%\n",
    "\n",
    "<center><img src=\"img/split_data_train.png\" alt=\"Bootcamp\" width=\"500\"></center>\n",
    "\n",
    "Para realizar esta distinción entre los datos nos valdrémos de funciones de pyTorch, stiklearn y matplotlib para visualizar esta en gráficos.\n",
    "\n",
    "Matploblib es una libreria muy completa, llena de propiedades y opciones para la construcción de gráficos.\n",
    "\n",
    "Podríamos decir que es el CSS de los gráficos de python.\n",
    "\n",
    "Para este primer ejemplo realizaremos una función que grafique una serie de puntos correspondientes a un set de datos totalmente lineal, es un ejemplo introductorio."
   ]
  },
  {
   "cell_type": "code",
   "execution_count": 267,
   "id": "e73acadf",
   "metadata": {},
   "outputs": [
    {
     "data": {
      "text/plain": [
       "(tensor([[0.0000],\n",
       "         [0.0200],\n",
       "         [0.0400],\n",
       "         [0.0600],\n",
       "         [0.0800],\n",
       "         [0.1000],\n",
       "         [0.1200],\n",
       "         [0.1400],\n",
       "         [0.1600],\n",
       "         [0.1800]]),\n",
       " tensor([[0.3000],\n",
       "         [0.3140],\n",
       "         [0.3280],\n",
       "         [0.3420],\n",
       "         [0.3560],\n",
       "         [0.3700],\n",
       "         [0.3840],\n",
       "         [0.3980],\n",
       "         [0.4120],\n",
       "         [0.4260]]))"
      ]
     },
     "execution_count": 267,
     "metadata": {},
     "output_type": "execute_result"
    }
   ],
   "source": [
    "# Datos a visualizar\n",
    "\n",
    "weight = 0.7\n",
    "bias = 0.3\n",
    "\n",
    "start = 0\n",
    "end = 1\n",
    "step = 0.02\n",
    "\n",
    "X = torch.arange(start, end, step).unsqueeze(dim=1)\n",
    "y = weight * X + bias\n",
    "\n",
    "X[:10], y[:10]"
   ]
  },
  {
   "cell_type": "code",
   "execution_count": 268,
   "id": "aa1f010f",
   "metadata": {},
   "outputs": [
    {
     "data": {
      "text/plain": [
       "(40, 40, 10, 10)"
      ]
     },
     "execution_count": 268,
     "metadata": {},
     "output_type": "execute_result"
    }
   ],
   "source": [
    "train_split = int(0.8 * len(X))\n",
    "X_train, y_train = X[:train_split], y[:train_split]\n",
    "X_test, y_test = X[train_split:], y[train_split:]\n",
    "\n",
    "len(X_train), len(y_train), len(X_test), len(y_test)"
   ]
  },
  {
   "cell_type": "code",
   "execution_count": 269,
   "id": "41a07bb6",
   "metadata": {},
   "outputs": [],
   "source": [
    "# Gráficar datos\n",
    "\n",
    "def plot_predictions(train_data=X_train, \n",
    "                     train_labels=y_train, \n",
    "                     test_data=X_test, \n",
    "                     test_labels=y_test, \n",
    "                     predictions=None):\n",
    "    \n",
    "    plt.figure(figsize=(10,7))\n",
    "\n",
    "    plt.scatter(train_data, train_labels, c=\"b\", s=4, label=\"Training data\")\n",
    "\n",
    "    plt.scatter(test_data, test_labels, c=\"g\", s=4, label=\"Testing data\")\n",
    "\n",
    "    if predictions is not None:\n",
    "\n",
    "        plt.scatter(test_data, predictions, c=\"r\", s=4, label=\"Predictions\")\n",
    "    \n",
    "    plt.legend(prop={\"size\": 14})"
   ]
  },
  {
   "cell_type": "code",
   "execution_count": 270,
   "id": "157c7b33",
   "metadata": {},
   "outputs": [
    {
     "data": {
      "image/png": "[encoded data removed]",
      "text/plain": [
       "<Figure size 1000x700 with 1 Axes>"
      ]
     },
     "metadata": {},
     "output_type": "display_data"
    }
   ],
   "source": [
    "plot_predictions()"
   ]
  },
  {
   "cell_type": "markdown",
   "id": "7e8f7dde",
   "metadata": {},
   "source": [
    "# Modelos de ML: Regresión lineal\n",
    "\n",
    "La regresión lineal es un modelo que busca mediante determinadas cuentas matemáticas buscar la recta lineal que más se acerque a poder predecir determinado valor que represente la salida de un determinado input.\n",
    "\n",
    "Por ejemplo: los precios de una casa, la altura según el paso del tiempo de una determinada población, el IMC de personas que realizan o no deporte, el riesgo de enfermedades según el peso, entre muchas otras combinaciones que incluso pueden llevarse al plano 3D, obteniendo una recta en R3.\n",
    "\n",
    "El fundamento matemático no es tema central de este archivo, sin embargo en caso de querer buscar algunos métodos uno de ellos es el método de minimos cuadrados.\n",
    "\n",
    "Aunque este fundamento matemático no es estrictamente el utilizado por pyTorch, debemos tener en cuenta dos conceptos muy importantes relacionados con análisis matemático:\n",
    "\n",
    "- Descenso del vector gradiente\n",
    "- Retropropagación\n",
    "\n",
    "El bootcamp de momento no va mucho a detalle con esto, ni mucho menos explica el fundamento matemático al nivel que la universidad sí.\n",
    "\n",
    "Es por esto que de momento solo lo dejaré así, luego le dedicaré un .ipynb o PDF necesario a esto para que quede completamen te claro: no es que cada vez que uno programe tenga que hacer esto manualmente ni mucho menos, pero entender que hay detrás de estos algoritmos nos hará sacar un mayor provecho, sino solo será código y ante un error o imprevisto no sabrémos que hacer."
   ]
  },
  {
   "cell_type": "code",
   "execution_count": 271,
   "id": "5725006e",
   "metadata": {},
   "outputs": [],
   "source": [
    "# Instaciaremos una clase para contener el modelo en cuestión\n",
    "\n",
    "class LinearRegressionModel(nn.Module):\n",
    "    def __init__(self):\n",
    "        super().__init__()\n",
    "        self.weights = nn.Parameter(torch.rand(1,\n",
    "                                               requires_grad=True,\n",
    "                                               dtype=torch.float))\n",
    "        self.bias = nn.Parameter(torch.rand(1,\n",
    "                                            requires_grad=True,\n",
    "                                            dtype=torch.float))\n",
    "    # Ya teniendo creado el constructor con los datos de entrada podrémos crear nuestro modelo\n",
    "    # Para ver que tan preciso es nuestro modelo de pyTorch vs un modelo creado manualmente crearé uno\n",
    "    def forward(self, x: torch.Tensor) -> torch.Tensor:\n",
    "        return self.weights * x + self.bias        \n",
    "        "
   ]
  },
  {
   "cell_type": "markdown",
   "id": "60aa5104",
   "metadata": {},
   "source": [
    "# Funciones a tener en cuenta a la hora de realizar modelos\n",
    "\n",
    "· torch.nn \n",
    "\n",
    "· torch.hh.Parameter\n",
    "\n",
    "· torch.nn.Module\n",
    "\n",
    "· torch.optim\n",
    "\n",
    "· def foward()\n",
    "\n",
    "Toda la documentación asociada esta acá: https://docs.pytorch.org/tutorials/index.html.\n",
    "\n",
    "Cabe aclarar que todas estás funciones a día de escribir esto (17/07/2025) no fueron explicadas dado que aún no entiendo bien su funcionamiento, sin embargo son utilizadas en las siguientes etapas:\n",
    "\n",
    "\n",
    "<center><img src=\"img/funciones_torch.jpg\" alt=\"funciones\" width=\"500\"></center>\n",
    "\n"
   ]
  },
  {
   "cell_type": "code",
   "execution_count": 272,
   "id": "70bdb066",
   "metadata": {},
   "outputs": [
    {
     "data": {
      "text/plain": [
       "[Parameter containing:\n",
       " tensor([0.8823], requires_grad=True),\n",
       " Parameter containing:\n",
       " tensor([0.9150], requires_grad=True)]"
      ]
     },
     "execution_count": 272,
     "metadata": {},
     "output_type": "execute_result"
    }
   ],
   "source": [
    "torch.manual_seed(42)\n",
    "\n",
    "# Instanciaremos la clase creada previamente en una subclase\n",
    "\n",
    "model_0 = LinearRegressionModel()\n",
    "\n",
    "list(model_0.parameters())"
   ]
  },
  {
   "cell_type": "code",
   "execution_count": 273,
   "id": "83c097ef",
   "metadata": {},
   "outputs": [
    {
     "data": {
      "text/plain": [
       "OrderedDict([('weights', tensor([0.8823])), ('bias', tensor([0.9150]))])"
      ]
     },
     "execution_count": 273,
     "metadata": {},
     "output_type": "execute_result"
    }
   ],
   "source": [
    "model_0.state_dict()"
   ]
  },
  {
   "cell_type": "code",
   "execution_count": 274,
   "id": "e8388767",
   "metadata": {},
   "outputs": [],
   "source": [
    "with torch.inference_mode():\n",
    "    y_preds = model_0(X_test)"
   ]
  },
  {
   "cell_type": "code",
   "execution_count": 275,
   "id": "e51c3cbc",
   "metadata": {},
   "outputs": [
    {
     "data": {
      "text/plain": [
       "tensor([[0.8600],\n",
       "        [0.8740],\n",
       "        [0.8880],\n",
       "        [0.9020],\n",
       "        [0.9160],\n",
       "        [0.9300],\n",
       "        [0.9440],\n",
       "        [0.9580],\n",
       "        [0.9720],\n",
       "        [0.9860]])"
      ]
     },
     "execution_count": 275,
     "metadata": {},
     "output_type": "execute_result"
    }
   ],
   "source": [
    "y_test # Hasta ahora no es eficiente"
   ]
  },
  {
   "cell_type": "code",
   "execution_count": 276,
   "id": "5eb6fd78",
   "metadata": {},
   "outputs": [
    {
     "data": {
      "image/png": "[encoded data removed]",
      "text/plain": [
       "<Figure size 1000x700 with 1 Axes>"
      ]
     },
     "metadata": {},
     "output_type": "display_data"
    }
   ],
   "source": [
    "plot_predictions(predictions=y_preds)"
   ]
  },
  {
   "cell_type": "markdown",
   "id": "c3af88ca",
   "metadata": {},
   "source": [
    "# Entrenando nuestros modelos\n",
    "\n",
    "La idea principal de entrenar un modelo es transformar parametros aleatorios en parametros conocidos, estos ultimos son salidas validas.\n",
    "\n",
    "En simples palabras es transformar una representación pobre de data en una buena.\n",
    "\n",
    "Una manera de saber que tan pobre o no es nuestra data es usar las funciones ***loos*** o funciones de perdida, también llamados funciones de costo o criterio.\n",
    "\n",
    "Entonces para entrenar nuestros modelos necesitamos:\n",
    "\n",
    "- **Función de perdida:** esta función nos dirá que tan bueno o malo es nuestro modelo.\n",
    "\n",
    "- **Optimizador:** Ajustará nuestro modelo para mejorar la función de perdida\n",
    "\n",
    "Para pyTorch esto se realizará mediante:\n",
    "\n",
    "- Un loop de entrenamiento\n",
    "\n",
    "- Un loop de prueba\n",
    "\n",
    "La documentación asociada a las funciones de perdida es la siguiente: https://docs.pytorch.org/docs/stable/nn.html#loss-functions\n",
    "\n",
    "Entonces, a continuación realizaremos lo siguiente:\n",
    "\n",
    "<center><img src=\"img/blucle_optimizador_y_entrenador.png\" width=\"500\"></center>\n",
    "\n",
    "Comenzaremos instanciando la función de perdida y optimización."
   ]
  },
  {
   "cell_type": "code",
   "execution_count": 277,
   "id": "fa68201e",
   "metadata": {},
   "outputs": [],
   "source": [
    "loss_fn = nn.L1Loss() # Instanciamos la función de perdida.\n",
    "\n",
    "optimizer = torch.optim.SGD(params= # Instanciamos el optimizador, en este caso el del gradiente.\n",
    "                            model_0.parameters(), \n",
    "                            lr=0.01) # lr: learning rate"
   ]
  },
  {
   "cell_type": "markdown",
   "id": "f6f5eb9e",
   "metadata": {},
   "source": [
    "### Ciclo de entrenamiento\n",
    "\n",
    "Para realizar este *ciclo de entrenamiento* también  llamado *train loop* debemos:\n",
    "\n",
    "1. Iterar através de los datos\n",
    "2. Usarla en nuestro modelo\n",
    "3. Calcular la función de perdida\n",
    "4. Optimizar mediante el gradiente\n",
    "5. Reducir la perdida con retroprogragación\n",
    "6. Optimizar pasos *(?)*\n",
    "\n",
    "<center><img src=\"img/train_loop.png\" witdh=\"500\"></center>"
   ]
  },
  {
   "cell_type": "code",
   "execution_count": 278,
   "id": "e7ea50c8",
   "metadata": {},
   "outputs": [
    {
     "data": {
      "text/plain": [
       "OrderedDict([('weights', tensor([0.8784])), ('bias', tensor([0.9050]))])"
      ]
     },
     "execution_count": 278,
     "metadata": {},
     "output_type": "execute_result"
    }
   ],
   "source": [
    "epocas = 1 # Una epoca es una iteración de cada ciclo de entrenamiento\n",
    "\n",
    "for epoca in range(epocas):\n",
    "    # Instaciamos el modelo de entrenamiento \n",
    "    model_0.train()\n",
    "    y_pred = model_0(X_train)\n",
    "    # Calculamos la perdida\n",
    "    loss = loss_fn(y_pred, y_train)\n",
    "    optimizer.zero_grad()\n",
    "    loss.backward()\n",
    "    optimizer.step()\n",
    "\n",
    "    model_0.eval()\n",
    "\n",
    "model_0.state_dict()"
   ]
  },
  {
   "cell_type": "code",
   "execution_count": 279,
   "id": "d5dcc15b",
   "metadata": {},
   "outputs": [],
   "source": [
    "with torch.inference_mode():\n",
    "    y_preds_new = model_0(X_test)"
   ]
  },
  {
   "cell_type": "code",
   "execution_count": 280,
   "id": "1733c973",
   "metadata": {},
   "outputs": [
    {
     "data": {
      "text/plain": [
       "(tensor([[1.6077],\n",
       "         [1.6253],\n",
       "         [1.6428],\n",
       "         [1.6604],\n",
       "         [1.6780],\n",
       "         [1.6955],\n",
       "         [1.7131],\n",
       "         [1.7307],\n",
       "         [1.7482],\n",
       "         [1.7658]]),\n",
       " tensor([[1.6208],\n",
       "         [1.6385],\n",
       "         [1.6561],\n",
       "         [1.6738],\n",
       "         [1.6914],\n",
       "         [1.7090],\n",
       "         [1.7267],\n",
       "         [1.7443],\n",
       "         [1.7620],\n",
       "         [1.7796]]))"
      ]
     },
     "execution_count": 280,
     "metadata": {},
     "output_type": "execute_result"
    },
    {
     "data": {
      "image/png": "[encoded data removed]",
      "text/plain": [
       "<Figure size 1000x700 with 1 Axes>"
      ]
     },
     "metadata": {},
     "output_type": "display_data"
    },
    {
     "data": {
      "image/png": "[encoded data removed]",
      "text/plain": [
       "<Figure size 1000x700 with 1 Axes>"
      ]
     },
     "metadata": {},
     "output_type": "display_data"
    }
   ],
   "source": [
    "plot_predictions(predictions=y_preds_new)\n",
    "plot_predictions(predictions=y_preds)\n",
    "\n",
    "y_preds_new, y_preds # De momento no mejoró casi nada"
   ]
  },
  {
   "cell_type": "markdown",
   "id": "2e37e052",
   "metadata": {},
   "source": [
    "# Ciclo de prueba\n",
    "\n",
    "Para saber si nuestro modelo esta funcionando como es de esperar podrémos valernos de datos y gráficos realizados con matplotlib que nos permitirán visualizar los datos, llamarémos a esto *ciclo de prueba*, en donde iteraremos a través de las epocas y, si nuestro modelo funciona como es de esperar, la función de perdida o loss deberá bajar.\n",
    "\n",
    "Para esto inicialmente llenaremos listas de datos correspondientes a la función de perdida de los datos de entrenamiento y prueba, junto a otra que en el mismo índice tenga la epoca en cuestión. Por lo que nuestras listas deberán ser del mismo tamaño.\n",
    "\n",
    "<center><img src=\"img/test_loop.png\"></center>"
   ]
  },
  {
   "cell_type": "code",
   "execution_count": 281,
   "id": "75345049",
   "metadata": {},
   "outputs": [
    {
     "name": "stdout",
     "output_type": "stream",
     "text": [
      "Epoca: 0 | Perdida en entrenamiento: 0.6745679974555969 | Perdida en prueba: 0.7502816915512085 \n",
      "Epoca: 10 | Perdida en entrenamiento: 0.5593580603599548 | Perdida en prueba: 0.6155718564987183 \n",
      "Epoca: 20 | Perdida en entrenamiento: 0.4441482126712799 | Perdida en prueba: 0.48086196184158325 \n",
      "Epoca: 30 | Perdida en entrenamiento: 0.328938364982605 | Perdida en prueba: 0.346152126789093 \n",
      "Epoca: 40 | Perdida en entrenamiento: 0.21372847259044647 | Perdida en prueba: 0.21144230663776398 \n",
      "Epoca: 50 | Perdida en entrenamiento: 0.09851861745119095 | Perdida en prueba: 0.07673247158527374 \n",
      "Epoca: 60 | Perdida en entrenamiento: 0.009325616993010044 | Perdida en prueba: 0.0205828957259655 \n",
      "Epoca: 70 | Perdida en entrenamiento: 0.005879654549062252 | Perdida en prueba: 0.012997227720916271 \n",
      "Epoca: 80 | Perdida en entrenamiento: 0.0024408488534390926 | Perdida en prueba: 0.004724687431007624 \n",
      "Epoca: 90 | Perdida en entrenamiento: 0.004425036255270243 | Perdida en prueba: 0.005930870771408081 \n",
      "Epoca: 100 | Perdida en entrenamiento: 0.004425036255270243 | Perdida en prueba: 0.005930870771408081 \n",
      "Epoca: 110 | Perdida en entrenamiento: 0.004425036255270243 | Perdida en prueba: 0.005930870771408081 \n",
      "Epoca: 120 | Perdida en entrenamiento: 0.004425036255270243 | Perdida en prueba: 0.005930870771408081 \n",
      "Epoca: 130 | Perdida en entrenamiento: 0.004425036255270243 | Perdida en prueba: 0.005930870771408081 \n",
      "Epoca: 140 | Perdida en entrenamiento: 0.004425036255270243 | Perdida en prueba: 0.005930870771408081 \n",
      "Epoca: 150 | Perdida en entrenamiento: 0.004425036255270243 | Perdida en prueba: 0.005930870771408081 \n",
      "Epoca: 160 | Perdida en entrenamiento: 0.004425036255270243 | Perdida en prueba: 0.005930870771408081 \n",
      "Epoca: 170 | Perdida en entrenamiento: 0.004425036255270243 | Perdida en prueba: 0.005930870771408081 \n",
      "Epoca: 180 | Perdida en entrenamiento: 0.004425036255270243 | Perdida en prueba: 0.005930870771408081 \n",
      "Epoca: 190 | Perdida en entrenamiento: 0.004425036255270243 | Perdida en prueba: 0.005930870771408081 \n"
     ]
    }
   ],
   "source": [
    "torch.manual_seed(42)\n",
    "\n",
    "epocas = 200\n",
    "\n",
    "train_loss_values = []\n",
    "test_loss_values = []\n",
    "contador_epocas = []\n",
    "\n",
    "for epoca in range(epocas):\n",
    "\n",
    "    model_0.train()\n",
    "    \n",
    "    y_pred = model_0(X_train)\n",
    "    loss = loss_fn(y_pred, y_train)\n",
    "\n",
    "    optimizer.zero_grad()\n",
    "    loss.backward()\n",
    "    optimizer.step()\n",
    "    model_0.eval()\n",
    "\n",
    "    with torch.inference_mode():\n",
    "        test_pred = model_0(X_test)\n",
    "\n",
    "        test_loss = loss_fn(test_pred, y_test.type(torch.float))\n",
    "        \n",
    "        if epoca % 10 == 0: # Cada 10 epocas o iteraciones...\n",
    "            contador_epocas.append(epoca)\n",
    "            train_loss_values.append(loss.detach().numpy())\n",
    "            test_loss_values.append(test_loss.detach().numpy())\n",
    "            print(f\"Epoca: {epoca} | Perdida en entrenamiento: {loss} | Perdida en prueba: {test_loss} \")\n"
   ]
  },
  {
   "cell_type": "code",
   "execution_count": 282,
   "id": "ec4fe4da",
   "metadata": {},
   "outputs": [
    {
     "data": {
      "text/plain": [
       "<matplotlib.legend.Legend at 0x205f2350910>"
      ]
     },
     "execution_count": 282,
     "metadata": {},
     "output_type": "execute_result"
    },
    {
     "data": {
      "image/png": "[encoded data removed]",
      "text/plain": [
       "<Figure size 640x480 with 1 Axes>"
      ]
     },
     "metadata": {},
     "output_type": "display_data"
    }
   ],
   "source": [
    "# A simple vista parece mejorar, pero ante la esperada inexperiencia de quienes realizan el curso y la gran cantidad de dantos que suelen manejarse lo mejor es valernos de un gráfico:\n",
    "\n",
    "plt.plot(contador_epocas, train_loss_values, label=\"Train loss\")\n",
    "plt.plot(contador_epocas, test_loss_values, label=\"Test loss\")\n",
    "plt.title(\"Curva de perdida y entrenamiento\")\n",
    "plt.ylabel(\"Perdida\")\n",
    "plt.xlabel(\"Epoca\")\n",
    "plt.grid(zorder=0)\n",
    "plt.legend()"
   ]
  },
  {
   "cell_type": "markdown",
   "id": "68ae5d8c",
   "metadata": {},
   "source": [
    "# Guardando nuestro modelo\n",
    "\n",
    "Podrémos guardar nuestros modelos con una determinada extensión en caso de quererlo, sin la necesidad de enviar un .ipynb comlpleto y cambiar la ruta de nuestros datos.\n",
    "Para esto debemos valernos de las siguientes funciones:\n",
    "\n",
    "1. torch.save\n",
    "2. torch.load\n",
    "3. torch.nn.Module.load_state_dict()\n",
    "\n",
    "La documentación asociada se encuentra en el siguiente sitio: https://docs.pytorch.org/tutorials/beginner/basics/saveloadrun_tutorial.html"
   ]
  },
  {
   "cell_type": "code",
   "execution_count": 283,
   "id": "9f105a05",
   "metadata": {},
   "outputs": [
    {
     "name": "stdout",
     "output_type": "stream",
     "text": [
      "Guardamos el modelo en: models\\pytorch_workflow.pth\n"
     ]
    }
   ],
   "source": [
    "from pathlib import Path # Importamos la libreria\n",
    "\n",
    "# Instanciamos la ruta del directorio\n",
    "\n",
    "MODEL_PATH = Path(\"models\")\n",
    "MODEL_PATH.mkdir(parents=True, exist_ok=True)\n",
    "\n",
    "# Creamos el nombre del directorio\n",
    "MODEL_NAME = \"pytorch_workflow.pth\"\n",
    "MODEL_SAVE_PATH = MODEL_PATH / MODEL_NAME\n",
    "\n",
    "# Guardamos el modelo\n",
    "print(f\"Guardamos el modelo en: {MODEL_SAVE_PATH}\")\n",
    "torch.save(obj=model_0.state_dict(),\n",
    "           f=MODEL_SAVE_PATH) "
   ]
  },
  {
   "cell_type": "code",
   "execution_count": 284,
   "id": "9aa5e18c",
   "metadata": {},
   "outputs": [
    {
     "data": {
      "text/plain": [
       "<All keys matched successfully>"
      ]
     },
     "execution_count": 284,
     "metadata": {},
     "output_type": "execute_result"
    }
   ],
   "source": [
    "# Ahora bien, podrémos cargar también dicho modelo y utilizarlo\n",
    "\n",
    "model_0_cargado = LinearRegressionModel()\n",
    "\n",
    "model_0_cargado.load_state_dict(torch.load(f=MODEL_SAVE_PATH))"
   ]
  },
  {
   "cell_type": "code",
   "execution_count": 285,
   "id": "a1662a42",
   "metadata": {},
   "outputs": [
    {
     "data": {
      "text/plain": [
       "tensor([[0.8530],\n",
       "        [0.8669],\n",
       "        [0.8808],\n",
       "        [0.8946],\n",
       "        [0.9085],\n",
       "        [0.9224],\n",
       "        [0.9363],\n",
       "        [0.9501],\n",
       "        [0.9640],\n",
       "        [0.9779]])"
      ]
     },
     "execution_count": 285,
     "metadata": {},
     "output_type": "execute_result"
    }
   ],
   "source": [
    "model_0_cargado.eval()\n",
    "\n",
    "with torch.inference_mode():\n",
    "    model_0_cargado = model_0_cargado(X_test)\n",
    "\n",
    "model_0_cargado"
   ]
  },
  {
   "cell_type": "code",
   "execution_count": 286,
   "id": "06c7dbdb",
   "metadata": {},
   "outputs": [
    {
     "data": {
      "text/plain": [
       "tensor([[0.8530],\n",
       "        [0.8669],\n",
       "        [0.8808],\n",
       "        [0.8946],\n",
       "        [0.9085],\n",
       "        [0.9224],\n",
       "        [0.9363],\n",
       "        [0.9501],\n",
       "        [0.9640],\n",
       "        [0.9779]])"
      ]
     },
     "execution_count": 286,
     "metadata": {},
     "output_type": "execute_result"
    }
   ],
   "source": [
    "# Cargamos el modelo previo\n",
    "\n",
    "model_0.eval()\n",
    "with torch.inference_mode():\n",
    "    y_preds = model_0(X_test)\n",
    "\n",
    "y_preds"
   ]
  },
  {
   "cell_type": "code",
   "execution_count": 287,
   "id": "259912ff",
   "metadata": {},
   "outputs": [
    {
     "data": {
      "text/plain": [
       "tensor([[True],\n",
       "        [True],\n",
       "        [True],\n",
       "        [True],\n",
       "        [True],\n",
       "        [True],\n",
       "        [True],\n",
       "        [True],\n",
       "        [True],\n",
       "        [True]])"
      ]
     },
     "execution_count": 287,
     "metadata": {},
     "output_type": "execute_result"
    }
   ],
   "source": [
    "y_preds == model_0_cargado"
   ]
  },
  {
   "cell_type": "code",
   "execution_count": 288,
   "id": "2a541ac2",
   "metadata": {},
   "outputs": [
    {
     "name": "stdout",
     "output_type": "stream",
     "text": [
      "Using device: cpu\n"
     ]
    }
   ],
   "source": [
    "device = \"cuda\" if torch.cuda.is_available() else \"cpu\"\n",
    "print(f\"Using device: {device}\")"
   ]
  },
  {
   "cell_type": "markdown",
   "id": "7c43ce24",
   "metadata": {},
   "source": [
    "# Regresión lineal con funciones propias de pyTorch\n",
    "\n",
    "Anteriormente creamos un modelo de regresión líneal manualmente, o casi (se puede bajar más a detalle incluso).\n",
    "\n",
    "Si bien esto no esta mal, lo cierto es que pyTorch nos proporciona un su modelo nn un (mal llamado) objeto *nn.Linear()*.\n",
    "\n",
    "Una vez tengamos este podrémos instanciar la función de perdida y optimización y crear el ciclo de entrenamiento y prueba."
   ]
  },
  {
   "cell_type": "code",
   "execution_count": 289,
   "id": "e50107c3",
   "metadata": {},
   "outputs": [],
   "source": [
    "class LinearRegressionModelV2(nn.Module): # Si las celdas se ejecutan en orden y esta tiene el mismo nombre que la clase anterior esta sobreescribirá la de arriba\n",
    "    def __init__(self):\n",
    "        super().__init__()\n",
    "        self.linear_layer = nn.Linear(in_features=1,\n",
    "                                      out_features=1)\n",
    "        \n",
    "    def forward(self, x: torch.Tensor) -> torch.Tensor:\n",
    "        return self.linear_layer(x)\n",
    "\n",
    "torch.manual_seed(42)\n",
    "model_1 = LinearRegressionModelV2()"
   ]
  },
  {
   "cell_type": "code",
   "execution_count": 290,
   "id": "6fa2a172",
   "metadata": {},
   "outputs": [
    {
     "data": {
      "text/plain": [
       "device(type='cpu')"
      ]
     },
     "execution_count": 290,
     "metadata": {},
     "output_type": "execute_result"
    }
   ],
   "source": [
    "next(model_1.parameters()).device"
   ]
  },
  {
   "cell_type": "code",
   "execution_count": 291,
   "id": "82e459fe",
   "metadata": {},
   "outputs": [],
   "source": [
    "# Función de perdida y optimizador\n",
    "\n",
    "loss_fn = nn.L1Loss()\n",
    "optimizer = torch.optim.SGD(params=model_1.parameters(),\n",
    "                            lr=0.01)"
   ]
  },
  {
   "cell_type": "code",
   "execution_count": 292,
   "id": "47ca14b0",
   "metadata": {},
   "outputs": [
    {
     "name": "stdout",
     "output_type": "stream",
     "text": [
      "Epoca: 0 Perdida: 0.5551779866218567 Prueba de perdida: 0.00754010071977973\n",
      "Epoca: 10 Perdida: 0.4399680495262146 Prueba de perdida: 0.00754010071977973\n",
      "Epoca: 20 Perdida: 0.3247582018375397 Prueba de perdida: 0.00754010071977973\n",
      "Epoca: 30 Perdida: 0.20954827964305878 Prueba de perdida: 0.00754010071977973\n",
      "Epoca: 40 Perdida: 0.09433844685554504 Prueba de perdida: 0.00754010071977973\n",
      "Epoca: 50 Perdida: 0.023886386305093765 Prueba de perdida: 0.00754010071977973\n",
      "Epoca: 60 Perdida: 0.0199567973613739 Prueba de perdida: 0.00754010071977973\n",
      "Epoca: 70 Perdida: 0.016517987474799156 Prueba de perdida: 0.00754010071977973\n",
      "Epoca: 80 Perdida: 0.013089170679450035 Prueba de perdida: 0.00754010071977973\n",
      "Epoca: 90 Perdida: 0.009653178043663502 Prueba de perdida: 0.00754010071977973\n",
      "Epoca: 100 Perdida: 0.006215679459273815 Prueba de perdida: 0.00754010071977973\n",
      "Epoca: 110 Perdida: 0.002787243574857712 Prueba de perdida: 0.00754010071977973\n",
      "Epoca: 120 Perdida: 0.0012645035749301314 Prueba de perdida: 0.00754010071977973\n",
      "Epoca: 130 Perdida: 0.0012645035749301314 Prueba de perdida: 0.00754010071977973\n",
      "Epoca: 140 Perdida: 0.0012645035749301314 Prueba de perdida: 0.00754010071977973\n",
      "Epoca: 150 Perdida: 0.0012645035749301314 Prueba de perdida: 0.00754010071977973\n",
      "Epoca: 160 Perdida: 0.0012645035749301314 Prueba de perdida: 0.00754010071977973\n",
      "Epoca: 170 Perdida: 0.0012645035749301314 Prueba de perdida: 0.00754010071977973\n",
      "Epoca: 180 Perdida: 0.0012645035749301314 Prueba de perdida: 0.00754010071977973\n",
      "Epoca: 190 Perdida: 0.0012645035749301314 Prueba de perdida: 0.00754010071977973\n"
     ]
    }
   ],
   "source": [
    "# Ciclo de entrenamiento y prueba\n",
    "\n",
    "torch.manual_seed(42)\n",
    "\n",
    "epocas = 200\n",
    "\n",
    "for epoca in range(epocas):\n",
    "    model_1.train()\n",
    "\n",
    "    y_pred = model_1(X_train)\n",
    "    loss = loss_fn(y_pred, y_train)\n",
    "\n",
    "    optimizer.zero_grad()\n",
    "    loss.backward()\n",
    "    optimizer.step()\n",
    "\n",
    "    model_1.eval()\n",
    "    with torch.inference_mode():\n",
    "        text_pred = model_1(X_test)\n",
    "        test_loss = loss_fn(test_pred, y_test)\n",
    "\n",
    "    if epoca % 10 == 0:\n",
    "        print(f\"Epoca: {epoca} Perdida: {loss} Prueba de perdida: {test_loss}\")"
   ]
  },
  {
   "cell_type": "code",
   "execution_count": 293,
   "id": "b13a9661",
   "metadata": {},
   "outputs": [
    {
     "data": {
      "text/plain": [
       "tensor([[0.8600],\n",
       "        [0.8739],\n",
       "        [0.8878],\n",
       "        [0.9018],\n",
       "        [0.9157],\n",
       "        [0.9296],\n",
       "        [0.9436],\n",
       "        [0.9575],\n",
       "        [0.9714],\n",
       "        [0.9854]])"
      ]
     },
     "execution_count": 293,
     "metadata": {},
     "output_type": "execute_result"
    }
   ],
   "source": [
    "model_1.eval()\n",
    "\n",
    "with torch.inference_mode():\n",
    "    y_preds = model_1(X_test)\n",
    "y_preds"
   ]
  },
  {
   "cell_type": "code",
   "execution_count": 294,
   "id": "0ce032aa",
   "metadata": {},
   "outputs": [
    {
     "data": {
      "image/png": "[encoded data removed]",
      "text/plain": [
       "<Figure size 1000x700 with 1 Axes>"
      ]
     },
     "metadata": {},
     "output_type": "display_data"
    }
   ],
   "source": [
    "plot_predictions(predictions=y_preds) # Este modelo fue infinitamente superior al realizado manualmente, así el que usamos manualmente quizas no sea el mejor o el más desarrollado"
   ]
  },
  {
   "cell_type": "code",
   "execution_count": null,
   "id": "02a8c13f",
   "metadata": {},
   "outputs": [
    {
     "name": "stdout",
     "output_type": "stream",
     "text": [
      "Guardado en: models\\pytorch_workflow_improved_model.pth\n"
     ]
    },
    {
     "ename": "TypeError",
     "evalue": "save() missing 1 required positional argument: 'f'",
     "output_type": "error",
     "traceback": [
      "\u001b[31m---------------------------------------------------------------------------\u001b[39m",
      "\u001b[31mTypeError\u001b[39m                                 Traceback (most recent call last)",
      "\u001b[36mCell\u001b[39m\u001b[36m \u001b[39m\u001b[32mIn[295]\u001b[39m\u001b[32m, line 12\u001b[39m\n\u001b[32m      9\u001b[39m MODEL_SAVE_PATH = MODEL_PATH / MODEL_NAME\n\u001b[32m     11\u001b[39m \u001b[38;5;28mprint\u001b[39m(\u001b[33mf\u001b[39m\u001b[33m\"\u001b[39m\u001b[33mGuardado en: \u001b[39m\u001b[38;5;132;01m{\u001b[39;00mMODEL_SAVE_PATH\u001b[38;5;132;01m}\u001b[39;00m\u001b[33m\"\u001b[39m)\n\u001b[32m---> \u001b[39m\u001b[32m12\u001b[39m \u001b[43mtorch\u001b[49m\u001b[43m.\u001b[49m\u001b[43msave\u001b[49m\u001b[43m(\u001b[49m\u001b[43mobj\u001b[49m\u001b[43m=\u001b[49m\u001b[43mmodel_1\u001b[49m\u001b[43m.\u001b[49m\u001b[43mstate_dict\u001b[49m\u001b[43m(\u001b[49m\u001b[43m)\u001b[49m\u001b[43m)\u001b[49m\n",
      "\u001b[31mTypeError\u001b[39m: save() missing 1 required positional argument: 'f'"
     ]
    }
   ],
   "source": [
    "# Dado que el modelo sirve, guardemoslo...\n",
    "\n",
    "# Creamos el directorio del modelo\n",
    "MODE_PATH = Path(\"models\")\n",
    "MODEL_PATH.mkdir(parents=True, exist_ok=True)\n",
    "\n",
    "# Instanciamos la ruta\n",
    "MODEL_NAME = \"pytorch_workflow_improved_model.pth\"\n",
    "MODEL_SAVE_PATH = MODEL_PATH / MODEL_NAME\n",
    "\n",
    "print(f\"Guardado en: {MODEL_SAVE_PATH}\")\n",
    "torch.save(obj=model_1.state_dict(), f=MODEL_SAVE_PATH)\n"
   ]
  }
 ],
 "metadata": {
  "kernelspec": {
   "display_name": "Python 3",
   "language": "python",
   "name": "python3"
  },
  "language_info": {
   "codemirror_mode": {
    "name": "ipython",
    "version": 3
   },
   "file_extension": ".py",
   "mimetype": "text/x-python",
   "name": "python",
   "nbconvert_exporter": "python",
   "pygments_lexer": "ipython3",
   "version": "3.13.5"
  }
 },
 "nbformat": 4,
 "nbformat_minor": 5
}
