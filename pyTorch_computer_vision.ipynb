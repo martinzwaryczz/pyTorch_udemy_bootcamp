{
 "cells": [
  {
   "cell_type": "markdown",
   "id": "1ac6705f",
   "metadata": {},
   "source": [
    "# Computer vision problem\n",
    "\n",
    "Un problema de este tipo asignan a un objeto una clase o nombre y permiten reconocer estos.\n",
    "Para tiempo real buenas herramientas son, por ejemplo, YOLO. Aunque esta ultima no es tema de este laboratorio.\n",
    "\n",
    "<center><img src=\"img/computer_vision.png\" width=\"900\"></center>\n",
    "\n",
    "Mayormente las imagenes son tratadas pixel por pixel y una red neuronal se encargará de la identificación de patrones, tomando en cuenta los colores de cada pixel, teniendo como entrada 244x244."
   ]
  },
  {
   "cell_type": "markdown",
   "id": "05c794a8",
   "metadata": {},
   "source": [
    "# Redes redes neuronales convolucionales (CNN)\n",
    "\n",
    "Las redes neuronales convolucionales (CNN) son un tipo de red neuronal diseñada para procesar imágenes y datos con estructura de cuadrícula. Se componen de:\n",
    "\n",
    "1. *Capas de Convolución:* Extraen características utilizando filtros que detectan patrones (bordes, texturas).\n",
    "2. *Capas de Pooling:* Reducen la dimensionalidad y mantienen características importantes, ayudando a prevenir el sobreajuste.\n",
    "3. *Capas Densas:* Conectan todas las neuronas de la capa anterior para clasificar las características en categorías.\n",
    "\n",
    "<center><img src=\"img/red_convolucionales.png\"></center>\n",
    "\n",
    "Estos problemas casi nunca (por no decir nunca) se resuelven de manera lineal, por lo que las funciones de activación rara vez serán lineales, aunque esto depende de la arquitectura."
   ]
  },
  {
   "cell_type": "markdown",
   "id": "8cac1e60",
   "metadata": {},
   "source": [
    "# Torchvision\n",
    "<center><img src=\"img/torchvision.png\"></center>"
   ]
  },
  {
   "cell_type": "code",
   "execution_count": 30,
   "id": "fdd03baa",
   "metadata": {},
   "outputs": [],
   "source": [
    "# Importamos librerias\n",
    "import torch\n",
    "from torch import nn\n",
    "\n",
    "import torchvision\n",
    "from torchvision import datasets\n",
    "from torchvision import transforms\n",
    "from torchvision.transforms import ToTensor\n",
    "\n",
    "import matplotlib.pyplot as plt\n",
    "import pandas as pd\n",
    "import numpy as np"
   ]
  },
  {
   "cell_type": "markdown",
   "id": "0ed4785e",
   "metadata": {},
   "source": [
    "# Obteniendo el set de datos\n",
    "\n",
    "Obtengamos el set de datos con las funciones y métodos de pyTorch"
   ]
  },
  {
   "cell_type": "code",
   "execution_count": 31,
   "id": "fb1f52cb",
   "metadata": {},
   "outputs": [],
   "source": [
    "from torchvision import datasets\n",
    "\n",
    "train_data = datasets.FashionMNIST(\n",
    "    root=\"data\",\n",
    "    train=True,\n",
    "    download=True,\n",
    "    transform=torchvision.transforms.ToTensor(),\n",
    "    target_transform=None\n",
    ")\n",
    "\n",
    "\n",
    "test_data = datasets.FashionMNIST(\n",
    "    root=\"data\",\n",
    "    train=False,\n",
    "    download=True,\n",
    "    transform=ToTensor(),\n",
    "    target_transform=None\n",
    ")"
   ]
  },
  {
   "cell_type": "code",
   "execution_count": 32,
   "id": "40efd29b",
   "metadata": {},
   "outputs": [],
   "source": [
    "from torchvision import datasets, transforms\n",
    "\n",
    "# Definir las transformaciones una sola vez\n",
    "transform = transforms.Compose([\n",
    "    transforms.ToTensor(),              # Convierte la imagen a tensor [1, 28, 28]\n",
    "    transforms.Resize((28, 28))         # (opcional si el dataset no es 28x28)\n",
    "])\n",
    "\n",
    "# Dataset de entrenamiento\n",
    "train_data = datasets.FashionMNIST(\n",
    "    root=\"data\",\n",
    "    train=True,\n",
    "    download=True,\n",
    "    transform=transform,\n",
    "    target_transform=None\n",
    ")\n",
    "\n",
    "# Dataset de prueba\n",
    "test_data = datasets.FashionMNIST(\n",
    "    root=\"data\",\n",
    "    train=False,\n",
    "    download=True,\n",
    "    transform=transform,\n",
    "    target_transform=None\n",
    ")\n"
   ]
  },
  {
   "cell_type": "code",
   "execution_count": 33,
   "id": "4f5a5668",
   "metadata": {},
   "outputs": [
    {
     "name": "stdout",
     "output_type": "stream",
     "text": [
      "Tamaño del set de datos de entrenamiento: 60000, tamaño del set de datos de prueba:10000\n",
      "Clases del set de datos: ['T-shirt/top', 'Trouser', 'Pullover', 'Dress', 'Coat', 'Sandal', 'Shirt', 'Sneaker', 'Bag', 'Ankle boot']\n",
      "Colores en escala de grises 1 , largo 28, ancho: 28\n"
     ]
    }
   ],
   "source": [
    "print(f\"Tamaño del set de datos de entrenamiento: {len(train_data)}, tamaño del set de datos de prueba:{len(test_data)}\")\n",
    "\n",
    "print(f\"Clases del set de datos: {train_data.classes}\")\n",
    "\n",
    "image, label = train_data[0]\n",
    "# image, label\n",
    "\n",
    "print(f\"Colores en escala de grises {image.shape[0]} , largo {image.shape[1]}, ancho: {image.shape[2]}\")"
   ]
  },
  {
   "cell_type": "markdown",
   "id": "a8d05eb0",
   "metadata": {},
   "source": [
    "<center><img src=\"img/dataset_ropa_ejemplo.png\"></center>"
   ]
  },
  {
   "cell_type": "markdown",
   "id": "ef946082",
   "metadata": {},
   "source": [
    "# Visualizemos nuestro set de datos\n",
    "\n",
    "Visualizar, visualizar, vi..."
   ]
  },
  {
   "cell_type": "code",
   "execution_count": 34,
   "id": "39cf9a64",
   "metadata": {},
   "outputs": [
    {
     "name": "stdout",
     "output_type": "stream",
     "text": [
      "torch.Size([1, 28, 28])\n",
      "Comprimido: torch.Size([28, 28])\n"
     ]
    },
    {
     "data": {
      "text/plain": [
       "<matplotlib.image.AxesImage at 0x172243aa350>"
      ]
     },
     "execution_count": 34,
     "metadata": {},
     "output_type": "execute_result"
    },
    {
     "data": {
      "image/png": "[encoded data removed]",
      "text/plain": [
       "<Figure size 640x480 with 1 Axes>"
      ]
     },
     "metadata": {},
     "output_type": "display_data"
    }
   ],
   "source": [
    "import matplotlib.pyplot as plt\n",
    "\n",
    "image, label =  train_data[0]\n",
    "print(f\"{image.shape}\")\n",
    "print(f\"Comprimido: {image.squeeze().shape}\")\n",
    "plt.imshow(image.squeeze()) # image.squeeze() borra la escala de grises, es decir: el 1 restante, luego lo arreglamos con cmap=gray"
   ]
  },
  {
   "cell_type": "code",
   "execution_count": 35,
   "id": "598b008c",
   "metadata": {},
   "outputs": [
    {
     "data": {
      "text/plain": [
       "<matplotlib.image.AxesImage at 0x172243e7ed0>"
      ]
     },
     "execution_count": 35,
     "metadata": {},
     "output_type": "execute_result"
    },
    {
     "data": {
      "image/png": "[encoded data removed]",
      "text/plain": [
       "<Figure size 640x480 with 1 Axes>"
      ]
     },
     "metadata": {},
     "output_type": "display_data"
    }
   ],
   "source": [
    "plt.imshow(image.squeeze(), cmap=\"gray\")"
   ]
  },
  {
   "cell_type": "code",
   "execution_count": 36,
   "id": "cc645ac4",
   "metadata": {},
   "outputs": [
    {
     "data": {
      "image/png": "[encoded data removed]",
      "text/plain": [
       "<Figure size 900x900 with 16 Axes>"
      ]
     },
     "metadata": {},
     "output_type": "display_data"
    }
   ],
   "source": [
    "clases = train_data.classes\n",
    "# Visualizemos todo tipo de datos que tengamos en nuestro set de datos de forma aleatoria...\n",
    "\n",
    "torch.manual_seed(42) # Según la semilla asignada traerá otros elementos del set de datos \n",
    "\n",
    "fig = plt.figure(figsize=(9, 9))\n",
    "fila, col = 4, 4\n",
    "for i in range(1, fila * col + 1):\n",
    "    imagen_random = torch.randint(0, len(train_data), size=[1]).item() # Indice de la posición en el tensor\n",
    "    img, label = train_data[imagen_random] # Ahora la traeremos, así como si fuera un vector \n",
    "    fig.add_subplot(fila, col, i)\n",
    "    plt.imshow(img.squeeze(), cmap=\"gray\")\n",
    "    plt.title(clases[label]) \n",
    "    plt.axis(False)\n"
   ]
  },
  {
   "cell_type": "markdown",
   "id": "6a7e7f04",
   "metadata": {},
   "source": [
    "# Preparar dataloader\n",
    "\n",
    "Los datos actualmente estan cargados en set de datos de pyTorch, el **DataLoader** transforma estos en iterables, diviendo estos en mini conjuntos o conjuntos más pequeños dado su beneficio en su coste computacional.\n",
    "\n",
    "La documentación asociada es la siguiente: https://docs.pytorch.org/tutorials/beginner/basics/data_tutorial.html"
   ]
  },
  {
   "cell_type": "code",
   "execution_count": 37,
   "id": "56307b22",
   "metadata": {},
   "outputs": [
    {
     "data": {
      "text/plain": [
       "(<torch.utils.data.dataloader.DataLoader at 0x17224b1ec10>,\n",
       " <torch.utils.data.dataloader.DataLoader at 0x172202d3bb0>)"
      ]
     },
     "execution_count": 37,
     "metadata": {},
     "output_type": "execute_result"
    }
   ],
   "source": [
    "from torch.utils.data import DataLoader\n",
    "\n",
    "# Configuramos los hiperparametros\n",
    "\n",
    "BATCH_SIZE = 32\n",
    "\n",
    "train_data_loader = DataLoader(dataset=train_data,\n",
    "                               batch_size=BATCH_SIZE,\n",
    "                               shuffle=True)\n",
    "\n",
    "test_data_loader = DataLoader(dataset=test_data,\n",
    "                              batch_size=BATCH_SIZE,\n",
    "                              shuffle=False)\n",
    "\n",
    "\n",
    "train_data_loader, test_data_loader"
   ]
  },
  {
   "cell_type": "code",
   "execution_count": 38,
   "id": "2e7ef0e1",
   "metadata": {},
   "outputs": [
    {
     "name": "stdout",
     "output_type": "stream",
     "text": [
      "DataLoaders: (<torch.utils.data.dataloader.DataLoader object at 0x0000017224B1EC10>, <torch.utils.data.dataloader.DataLoader object at 0x00000172202D3BB0>)\n",
      "Longitud del train_data_loader: 1875 con lotes de 32\n",
      "Longitud del test_data_loader: 313 con lotes de 32\n"
     ]
    }
   ],
   "source": [
    "print(f\"DataLoaders: {train_data_loader, test_data_loader}\")\n",
    "print(f\"Longitud del train_data_loader: {len(train_data_loader)} con lotes de {BATCH_SIZE}\")\n",
    "print(f\"Longitud del test_data_loader: {len(test_data_loader)} con lotes de {BATCH_SIZE}\")"
   ]
  },
  {
   "cell_type": "code",
   "execution_count": 39,
   "id": "214aae3c",
   "metadata": {},
   "outputs": [],
   "source": [
    "train_features_batch, train_labels_batch = next(iter(train_data_loader))"
   ]
  },
  {
   "cell_type": "code",
   "execution_count": 40,
   "id": "45a27306",
   "metadata": {},
   "outputs": [
    {
     "name": "stdout",
     "output_type": "stream",
     "text": [
      "Tamaño: torch.Size([1, 28, 28])\n",
      "Etiqueta: 6\n"
     ]
    },
    {
     "data": {
      "image/png": "[encoded data removed]",
      "text/plain": [
       "<Figure size 640x480 with 1 Axes>"
      ]
     },
     "metadata": {},
     "output_type": "display_data"
    }
   ],
   "source": [
    "torch.manual_seed(42) # Cambiando la semilla podrémos cambiar a otro producto y comprobar si anda bien o hace cualquier cosa\n",
    "\n",
    "random_idx = torch.randint(0, len(train_features_batch), size=[1]).item() # Indice\n",
    "img, label = train_features_batch[random_idx], train_labels_batch[random_idx] \n",
    "plt.imshow(img.squeeze(), cmap=\"grey\")\n",
    "plt.title(clases[label])\n",
    "plt.axis(False)\n",
    "print(f\"Tamaño: {img.shape}\")\n",
    "print(f\"Etiqueta: {label}\")"
   ]
  },
  {
   "cell_type": "markdown",
   "id": "ddc821b8",
   "metadata": {},
   "source": [
    "# Baseline model\n",
    "\n",
    "Un *baseline model* (modelo base o modelo de referencia) en machine learning es un modelo simple y rápido de construir que se utiliza como punto de comparación inicial para evaluar el rendimiento de modelos más complejos.\n",
    "\n",
    "Para esto debemos crear un capa *flatten*: convierte a 1D los tensores y datos. (Pesima explicación, la verdad tampoco entendí muy bien)"
   ]
  },
  {
   "cell_type": "code",
   "execution_count": 41,
   "id": "4594bbe4",
   "metadata": {},
   "outputs": [
    {
     "name": "stdout",
     "output_type": "stream",
     "text": [
      "Antes de flatten: torch.Size([1, 28, 28])\n",
      "Después del flatten: torch.Size([1, 784])\n"
     ]
    },
    {
     "data": {
      "text/plain": [
       "torch.Tensor"
      ]
     },
     "execution_count": 41,
     "metadata": {},
     "output_type": "execute_result"
    }
   ],
   "source": [
    "flatten_model = nn.Flatten()\n",
    "\n",
    "x = train_features_batch[0]\n",
    "print(f\"Antes de flatten: {x.shape}\")\n",
    "\n",
    "output = flatten_model(x) \n",
    "print(f\"Después del flatten: {output.shape}\")\n",
    "\n",
    "# Si a esto le aplicamos squeeze() obtendrémos un gran vector con los valores correspondientes, aunque será de tipo torch.Tensor\n",
    "output.squeeze()\n",
    "type(output)"
   ]
  },
  {
   "cell_type": "code",
   "execution_count": 42,
   "id": "3ef83179",
   "metadata": {},
   "outputs": [],
   "source": [
    "class FashionMNISTModelV0(nn.Module):\n",
    "    def __init__(self,\n",
    "                 input_shape: int,\n",
    "                 hidden_units: int,\n",
    "                 output_shape: int):\n",
    "        super().__init__()\n",
    "        self.layer_stack = nn.Sequential(\n",
    "            nn.Flatten(),\n",
    "            nn.Linear(in_features=input_shape,\n",
    "                      out_features=hidden_units),\n",
    "            nn.Linear(in_features=hidden_units,\n",
    "                      out_features=output_shape)\n",
    "        )\n",
    "\n",
    "    def forward(self, x):\n",
    "        return self.layer_stack(x)"
   ]
  },
  {
   "cell_type": "code",
   "execution_count": 43,
   "id": "a212845b",
   "metadata": {},
   "outputs": [
    {
     "data": {
      "text/plain": [
       "FashionMNISTModelV0(\n",
       "  (layer_stack): Sequential(\n",
       "    (0): Flatten(start_dim=1, end_dim=-1)\n",
       "    (1): Linear(in_features=784, out_features=10, bias=True)\n",
       "    (2): Linear(in_features=10, out_features=10, bias=True)\n",
       "  )\n",
       ")"
      ]
     },
     "execution_count": 43,
     "metadata": {},
     "output_type": "execute_result"
    }
   ],
   "source": [
    "torch.manual_seed(42)\n",
    "\n",
    "model_0 = FashionMNISTModelV0(\n",
    "    input_shape=28*28,\n",
    "    hidden_units=10,\n",
    "    output_shape=len(clases)\n",
    ")\n",
    "\n",
    "model_0"
   ]
  },
  {
   "cell_type": "code",
   "execution_count": 44,
   "id": "cd8fe758",
   "metadata": {},
   "outputs": [
    {
     "data": {
      "text/plain": [
       "tensor([[-0.0315,  0.3171,  0.0531, -0.2525,  0.5959,  0.2112,  0.3233,  0.2694,\n",
       "         -0.1004,  0.0157]], grad_fn=<AddmmBackward0>)"
      ]
     },
     "execution_count": 44,
     "metadata": {},
     "output_type": "execute_result"
    }
   ],
   "source": [
    "dummmy_x = torch.rand([1, 1, 28, 28]) # Prueba para el modelo con arquitectura de tamaño aleatorio\n",
    "model_0(dummmy_x) # .shape"
   ]
  },
  {
   "cell_type": "markdown",
   "id": "2c1a398d",
   "metadata": {},
   "source": [
    "# Configuración de función de perdida, exactitud y evaluación de metricas\n",
    "\n",
    "Nos valdrémos de helper_functions.py"
   ]
  },
  {
   "cell_type": "code",
   "execution_count": 45,
   "id": "d2035a78",
   "metadata": {},
   "outputs": [
    {
     "name": "stdout",
     "output_type": "stream",
     "text": [
      "Ya existe, no hace falta descargarlo\n"
     ]
    }
   ],
   "source": [
    "import requests\n",
    "from pathlib import Path\n",
    "\n",
    "if Path(\"helper_functions.py\").is_file():\n",
    "    print(\"Ya existe, no hace falta descargarlo\")\n",
    "else: \n",
    "    print(\"Descargando... ... ...\")\n",
    "    requerimiento = requests.get(\"https://raw.githubusercontent.com/mrdbourke/pytorch-deep-learning/refs/heads/main/helper_functions.py\")\n",
    "    with open(\"helper_functions.py\", \"wb\") as f:\n",
    "        f.write(requerimiento.content)"
   ]
  },
  {
   "cell_type": "code",
   "execution_count": 46,
   "id": "c449b0cb",
   "metadata": {},
   "outputs": [],
   "source": [
    "from helper_functions import accuracy_fn\n",
    "\n",
    "loss_fn = nn.CrossEntropyLoss()\n",
    "optimizer = torch.optim.SGD(params=model_0.parameters(), lr=0.1)"
   ]
  },
  {
   "cell_type": "markdown",
   "id": "4e613873",
   "metadata": {},
   "source": [
    "# Función de tiempo \n",
    "\n",
    "Crearé una función que medirá el tiempo que tarda en entrenarse la red usando el CPU vs mi GPU.\n",
    "\n",
    "CPU: AMD Ryzen 5 2600 Six-Core Procesessor 3.40 GHz\n",
    "GPU: Radeon RX 570 Sries 4GB\n",
    "RAM: 16 GB"
   ]
  },
  {
   "cell_type": "code",
   "execution_count": 47,
   "id": "5102f51d",
   "metadata": {},
   "outputs": [],
   "source": [
    "from timeit import default_timer as timer\n",
    "\n",
    "def print_train_time(start: float, end: float, device: torch.device = None):\n",
    "    total_time = end - start\n",
    "    print(f\"Tiempo total: {total_time:.3f} segundos\")\n",
    "    return total_time\n",
    "\n",
    "start_time = timer()\n",
    "end_time = timer()"
   ]
  },
  {
   "cell_type": "markdown",
   "id": "8d4a9056",
   "metadata": {},
   "source": [
    "# Ciclo de entrenamiento para los bloques o batches de data\n",
    "\n",
    "1. Iterar a través de las épocas.\n",
    "2. Iterar a través de los bloques de entrenamiento.\n",
    "3. Iterar a través de los bloques de prueba.\n",
    "4. Imprimir que occure.\n",
    "5. Utilizar la función de tiempo"
   ]
  },
  {
   "cell_type": "code",
   "execution_count": 48,
   "id": "2f4de29c",
   "metadata": {},
   "outputs": [
    {
     "name": "stderr",
     "output_type": "stream",
     "text": [
      "  0%|          | 0/3 [00:00<?, ?it/s]"
     ]
    },
    {
     "name": "stdout",
     "output_type": "stream",
     "text": [
      "\n",
      "Época: 0\n",
      "Lotes: 0/60000 samples\n",
      "Lotes: 12000/60000 samples\n",
      "Lotes: 24000/60000 samples\n",
      "Lotes: 36000/60000 samples\n",
      "Lotes: 48000/60000 samples\n"
     ]
    },
    {
     "name": "stderr",
     "output_type": "stream",
     "text": [
      " 33%|███▎      | 1/3 [00:12<00:24, 12.32s/it]"
     ]
    },
    {
     "name": "stdout",
     "output_type": "stream",
     "text": [
      "Perdida de entrenamiento: 0.59039, pérdida en prueba: 0.50954, exactitud de prueba: 82.03874\n",
      "\n",
      "Época: 1\n",
      "Lotes: 0/60000 samples\n",
      "Lotes: 12000/60000 samples\n",
      "Lotes: 24000/60000 samples\n",
      "Lotes: 36000/60000 samples\n",
      "Lotes: 48000/60000 samples\n"
     ]
    },
    {
     "name": "stderr",
     "output_type": "stream",
     "text": [
      " 67%|██████▋   | 2/3 [00:23<00:11, 11.91s/it]"
     ]
    },
    {
     "name": "stdout",
     "output_type": "stream",
     "text": [
      "Perdida de entrenamiento: 0.47633, pérdida en prueba: 0.47989, exactitud de prueba: 83.19688\n",
      "\n",
      "Época: 2\n",
      "Lotes: 0/60000 samples\n",
      "Lotes: 12000/60000 samples\n",
      "Lotes: 24000/60000 samples\n",
      "Lotes: 36000/60000 samples\n",
      "Lotes: 48000/60000 samples\n"
     ]
    },
    {
     "name": "stderr",
     "output_type": "stream",
     "text": [
      "100%|██████████| 3/3 [00:35<00:00, 11.83s/it]"
     ]
    },
    {
     "name": "stdout",
     "output_type": "stream",
     "text": [
      "Perdida de entrenamiento: 0.45503, pérdida en prueba: 0.47664, exactitud de prueba: 83.42652\n",
      "Tiempo total: 35.480 segundos\n"
     ]
    },
    {
     "name": "stderr",
     "output_type": "stream",
     "text": [
      "\n"
     ]
    }
   ],
   "source": [
    "# Acá cambie bastante el código, no me andaba del todo bien inicialmente...\n",
    "from tqdm.auto import tqdm\n",
    "\n",
    "# Timer\n",
    "torch.manual_seed(42)\n",
    "tiempo_inicial_modelo_0 = timer()\n",
    "\n",
    "# Epocas\n",
    "epocas = 3\n",
    "\n",
    "# Ciclo de entrenamiento\n",
    "\n",
    "num_prints = 5  # cantidad de veces que querés mostrar \"Lotes: ...\"\n",
    "samples_total = len(train_data_loader.dataset)\n",
    "print_interval = samples_total // num_prints\n",
    "\n",
    "for epoca in tqdm(range(epocas)):\n",
    "    print(f\"\\nÉpoca: {epoca}\")\n",
    "\n",
    "    train_loss = 0\n",
    "    model_0.train()\n",
    "\n",
    "    for batch, (X, y) in enumerate(train_data_loader):\n",
    "        # 1. Forward pass\n",
    "        y_pred = model_0(X)\n",
    "\n",
    "        # 2. Calcular pérdida\n",
    "        loss = loss_fn(y_pred, y)\n",
    "        train_loss += loss.item()\n",
    "\n",
    "        # 3. Backpropagation\n",
    "        optimizer.zero_grad()\n",
    "        loss.backward()\n",
    "        optimizer.step()\n",
    "\n",
    "        # Mostrar avance cada print_interval muestras\n",
    "        current_sample = batch * len(X)\n",
    "        if current_sample % print_interval < len(X):\n",
    "            print(f\"Lotes: {current_sample}/{samples_total} samples\")\n",
    "\n",
    "    train_loss /= len(train_data_loader)\n",
    "\n",
    "    # Ciclo de prueba\n",
    "    test_loss = 0\n",
    "    test_acc = 0\n",
    "    model_0.eval()\n",
    "    with torch.inference_mode():\n",
    "        for X_test, y_test in test_data_loader:\n",
    "            test_pred = model_0(X_test)\n",
    "            test_loss += loss_fn(test_pred, y_test).item()\n",
    "            test_acc += accuracy_fn(y_true=y_test, y_pred=test_pred.argmax(dim=1))\n",
    "\n",
    "    test_loss /= len(test_data_loader)\n",
    "    test_acc /= len(test_data_loader)\n",
    "\n",
    "    # Mostrar métricas de la época\n",
    "    print(f\"Perdida de entrenamiento: {train_loss:.5f}, pérdida en prueba: {test_loss:.5f}, exactitud de prueba: {test_acc:.5f}\")\n",
    "\n",
    "tiempo_final_modelo_0 = timer()\n",
    "tiempo_total_modelo_0 = print_train_time(start=tiempo_inicial_modelo_0, end=tiempo_final_modelo_0)\n"
   ]
  },
  {
   "cell_type": "markdown",
   "id": "4122878a",
   "metadata": {},
   "source": [
    "# Realizar predicciones\n",
    "\n",
    "Para evaluar el modelo crearemos una función ***eval_model***."
   ]
  },
  {
   "cell_type": "code",
   "execution_count": 49,
   "id": "361b2b78",
   "metadata": {},
   "outputs": [
    {
     "name": "stderr",
     "output_type": "stream",
     "text": [
      "100%|██████████| 313/313 [00:01<00:00, 220.26it/s]\n"
     ]
    }
   ],
   "source": [
    "torch.manual_seed(42)\n",
    "\n",
    "def eval_model(model: torch.nn.Module,\n",
    "               data_loader: torch.utils.data.DataLoader,\n",
    "               loss_fn: torch.nn.Module,\n",
    "               accuracy_fn):\n",
    "    loss, acc = 0, 0\n",
    "    model.eval()\n",
    "    with torch.inference_mode():\n",
    "        for X, y in tqdm(data_loader):\n",
    "            # Realizar predicciones:\n",
    "            y_pred = model(X)\n",
    "            # Perdida y ganancia acumulada por lote\n",
    "            loss += loss_fn(y_pred, y)\n",
    "            acc += accuracy_fn(y_true=y,\n",
    "                               y_pred=y_pred.argmax(dim=1))\n",
    "            \n",
    "        # Perdida y ganancia promedio\n",
    "\n",
    "        loss /= len(data_loader)\n",
    "        acc /= len(data_loader)\n",
    "\n",
    "    return {\"model_name\": model.__class__.__name__,\n",
    "            \"model_loss\": loss.item(),\n",
    "            \"model_acc\": acc}\n",
    "\n",
    "model_0_results = eval_model(model_0, test_data_loader, loss_fn, accuracy_fn) # No hace falta poner atributo=valor, con poner los valores alcanza"
   ]
  },
  {
   "cell_type": "markdown",
   "id": "e7a7c74b",
   "metadata": {},
   "source": [
    "# Nuevo modelo no lineal\n",
    "\n",
    "Dado que el problema cuenta con imagenes que rara vez contiene patrones lineales, tal como se explico previamente, podémos decir que probar con un modelo no lineal probablemente sea la mejor solución, así juguemos con su arquitectura."
   ]
  },
  {
   "cell_type": "code",
   "execution_count": 50,
   "id": "92b45c0d",
   "metadata": {},
   "outputs": [],
   "source": [
    "class FashionMNISTModelV1(nn.Module):\n",
    "    def __init__(self, input_shape: int, hidden_units: int, output_shape: int):\n",
    "        super().__init__()\n",
    "        self.layer_stack = nn.Sequential(\n",
    "            nn.Flatten(),\n",
    "            nn.Linear(in_features=input_shape,\n",
    "                      out_features=hidden_units),\n",
    "            nn.ReLU(),\n",
    "            nn.Linear(in_features=hidden_units,\n",
    "                      out_features=output_shape),\n",
    "            nn.ReLU()\n",
    "        )\n",
    "\n",
    "    def forward(self, x:torch.Tensor):\n",
    "        return self.layer_stack(x)  "
   ]
  },
  {
   "cell_type": "code",
   "execution_count": 51,
   "id": "e150b142",
   "metadata": {},
   "outputs": [],
   "source": [
    "torch.manual_seed(42)\n",
    "model_1 = FashionMNISTModelV1(input_shape=784,\n",
    "                              hidden_units=10,\n",
    "                              output_shape=len(clases))\n",
    "\n",
    "# model_1"
   ]
  },
  {
   "cell_type": "code",
   "execution_count": 52,
   "id": "21c7ec6b",
   "metadata": {},
   "outputs": [],
   "source": [
    "from helper_functions import accuracy_fn\n",
    "\n",
    "loss_fn = nn.CrossEntropyLoss()\n",
    "optimizer = torch.optim.SGD(params=model_1.parameters(), \n",
    "                            lr=0.1)"
   ]
  },
  {
   "cell_type": "markdown",
   "id": "202222ed",
   "metadata": {},
   "source": [
    "# Ciclo de entrenamiento y prueba a una función\n",
    "\n",
    "El hecho de realizar hasta ahora manualmente el ciclo de entrenamiento y prueba se da dado que es útil programar a mano la mayor cantidad de código posible para así aprender bien la tecnologia. Si bien el curso tiene una duración considerable, no esta demás seguir haciendolo manualmente hasta que salga con los ojos cerrados, sin embargo para optimizar tiempo el curso contempla que acá que exista una función que facilite la creación de estos. "
   ]
  },
  {
   "cell_type": "code",
   "execution_count": 53,
   "id": "c75b8846",
   "metadata": {},
   "outputs": [],
   "source": [
    "# Ciclo de entrenamiento\n",
    "\n",
    "def ciclo_de_entrenamiento(model: torch.nn.Module,\n",
    "                           data_loader: torch.utils.data.DataLoader,\n",
    "                           loss_fn: torch.nn.Module,\n",
    "                           optimizer: torch.optim.Optimizer,\n",
    "                           accuracy_fn):\n",
    "    train_loss, train_acc = 0, 0\n",
    "    for batch, (X, y) in enumerate(data_loader): # enumerate = ENUM de Java\n",
    "        # 1. Forward pass\n",
    "        y_pred = model(X)\n",
    "\n",
    "        # 2. Perdida\n",
    "        loss = loss_fn(y_pred, y)\n",
    "        train_loss += loss\n",
    "        train_acc += accuracy_fn(y_true=y,\n",
    "                                 y_pred=y_pred.argmax(dim=1))\n",
    "        \n",
    "        # 3. Optimizer zero grad\n",
    "        optimizer.zero_grad()\n",
    "\n",
    "        # 4. Retropropagación\n",
    "        loss.backward()\n",
    "        # 5. Optimizer step\n",
    "        optimizer.step()\n",
    "\n",
    "    # Perdida y exactitud \n",
    "    train_loss /= len(data_loader)\n",
    "    train_acc /= len(data_loader)\n",
    "    print(f\"Pedida en entrenamiento: {train_loss:.5f}, exactitud en entrenamiento: {train_acc:.2f}\")\n",
    "\n",
    "# Ciclo de prueba\n",
    "\n",
    "def ciclo_de_prueba(model: torch.nn.Module, \n",
    "                    data_loader: torch.utils.data.DataLoader,\n",
    "                    loss_fn: torch.nn.Module,\n",
    "                    accuracy_fn):\n",
    "    \n",
    "    test_loss, test_acc = 0, 0\n",
    "\n",
    "    model.eval()\n",
    "    \n",
    "    with torch.inference_mode():\n",
    "        for X, y in data_loader:\n",
    "            test_pred = model(X)\n",
    "\n",
    "            test_loss += loss_fn(test_pred, y)\n",
    "            test_acc += accuracy_fn(y_true=y, y_pred=test_pred.argmax(dim=1))\n",
    "\n",
    "        test_loss /= len(data_loader)\n",
    "        test_acc /= len(data_loader)\n",
    "        print(f\"Perdida en prueba: {test_loss:.5f}, exactitud en prueba: {test_acc:.2f}\")"
   ]
  },
  {
   "cell_type": "markdown",
   "id": "71736368",
   "metadata": {},
   "source": [
    "# Probemos nuestro modelo con las funciones"
   ]
  },
  {
   "cell_type": "code",
   "execution_count": 54,
   "id": "5c26d133",
   "metadata": {},
   "outputs": [
    {
     "name": "stderr",
     "output_type": "stream",
     "text": [
      "  0%|          | 0/3 [00:00<?, ?it/s]"
     ]
    },
    {
     "name": "stdout",
     "output_type": "stream",
     "text": [
      "Epoca: 0 \n",
      "\n",
      "Pedida en entrenamiento: 1.09199, exactitud en entrenamiento: 61.34\n"
     ]
    },
    {
     "name": "stderr",
     "output_type": "stream",
     "text": [
      " 33%|███▎      | 1/3 [00:12<00:24, 12.29s/it]"
     ]
    },
    {
     "name": "stdout",
     "output_type": "stream",
     "text": [
      "Perdida en prueba: 0.95637, exactitud en prueba: 65.00\n",
      "Epoca: 1 \n",
      "\n",
      "Pedida en entrenamiento: 0.78101, exactitud en entrenamiento: 71.93\n"
     ]
    },
    {
     "name": "stderr",
     "output_type": "stream",
     "text": [
      " 67%|██████▋   | 2/3 [00:25<00:12, 12.91s/it]"
     ]
    },
    {
     "name": "stdout",
     "output_type": "stream",
     "text": [
      "Perdida en prueba: 0.72227, exactitud en prueba: 73.91\n",
      "Epoca: 2 \n",
      "\n",
      "Pedida en entrenamiento: 0.67027, exactitud en entrenamiento: 75.94\n"
     ]
    },
    {
     "name": "stderr",
     "output_type": "stream",
     "text": [
      "100%|██████████| 3/3 [00:37<00:00, 12.61s/it]\n"
     ]
    },
    {
     "name": "stdout",
     "output_type": "stream",
     "text": [
      "Perdida en prueba: 0.68500, exactitud en prueba: 75.02\n",
      "Tiempo total: 37.828 segundos\n"
     ]
    },
    {
     "name": "stderr",
     "output_type": "stream",
     "text": [
      "100%|██████████| 313/313 [00:01<00:00, 216.01it/s]\n"
     ]
    }
   ],
   "source": [
    "torch.manual_seed(42)\n",
    "\n",
    "from timeit import default_timer as timer\n",
    "t_comienzo_entrenamiento_gpu = timer()\n",
    "\n",
    "epocas = 3\n",
    "\n",
    "for epoca in tqdm(range(epocas)):\n",
    "    print(f\"Epoca: {epoca} \\n\")\n",
    "    ciclo_de_entrenamiento(model = model_1,\n",
    "                           data_loader = train_data_loader,\n",
    "                           loss_fn = loss_fn,\n",
    "                           optimizer = optimizer,\n",
    "                           accuracy_fn = accuracy_fn) \n",
    "    \n",
    "    ciclo_de_prueba(model = model_1, \n",
    "                    data_loader = test_data_loader,\n",
    "                    loss_fn = loss_fn,\n",
    "                    accuracy_fn = accuracy_fn)\n",
    "\n",
    "t_finalizacion_entrenamiento_gpu = timer()\n",
    "tiempo_total_modelo_1 = print_train_time(start=t_comienzo_entrenamiento_gpu,\n",
    "                                                       end=t_finalizacion_entrenamiento_gpu)\n",
    "\n",
    "model_1_results = eval_model(model=model_1,\n",
    "                          data_loader=test_data_loader,\n",
    "                          loss_fn=loss_fn,\n",
    "                          accuracy_fn=accuracy_fn)"
   ]
  },
  {
   "cell_type": "code",
   "execution_count": 55,
   "id": "64c20427",
   "metadata": {},
   "outputs": [
    {
     "name": "stdout",
     "output_type": "stream",
     "text": [
      "tiempo de entrenamiento modelo 0:37.827555599971674\n"
     ]
    }
   ],
   "source": [
    "print(f\"tiempo de entrenamiento modelo 0:{tiempo_total_modelo_1}\") # Nombre re mal las variables, el mal nombre fue evolucionando a medida que entendia que pasaba pero las deje así para no romper nada"
   ]
  },
  {
   "cell_type": "markdown",
   "id": "4af0dadf",
   "metadata": {},
   "source": [
    "# Conclusión (?)\n",
    "Tal como podemos ver, así hayamos utilizado funciones de activación no lineales el modelo es incluso peor, la arquitectura es clave para la eficiencia de nuestro modelo.\n",
    "\n",
    "<center><img src=\"img/cnn_basico.png\"></center>\n",
    "\n",
    "Un buen recurso que explica como funcionan estos es el siguiente: https://poloclub.github.io/cnn-explainer/.\n",
    "\n",
    "Con más supusiciones que entendimiento se podría decir que las redes neuronales son a fin de cuentas prueba y error, pero dado el coste computacional, de tiempo y economico que la prueba y error tienen se establecen ciertos estandares de arquitectura con ciertas modificaciones que se adaptan a los requerimientos.\n",
    "\n",
    "Arquitecturas populares son: https://www.geeksforgeeks.org/machine-learning/convolutional-neural-network-cnn-architectures/#:~:text=The%20First%20LeNet%2D5%20architecture,5%20architecture%20has%2060%2C000%20parameters.\n"
   ]
  },
  {
   "cell_type": "markdown",
   "id": "1da3db7b",
   "metadata": {},
   "source": [
    "# CNN: Convultional Neuronal Networks"
   ]
  },
  {
   "cell_type": "code",
   "execution_count": 56,
   "id": "c3280de7",
   "metadata": {},
   "outputs": [],
   "source": [
    "class FashionMNISTModelV2(nn.Module):\n",
    "    def __init__(self, input_shape: int, hidden_units: int, output_shape: int): \n",
    "        super().__init__()\n",
    "        self.conv_block_1 = nn.Sequential( # Podemos decir que una red tiene muchas redes adentro, es por esto que si nuestro arquitectura es más grande podémos dividir en bloques la misma\n",
    "            nn.Conv2d(in_channels=input_shape,\n",
    "                      out_channels=hidden_units,\n",
    "                      kernel_size=3,\n",
    "                      stride=1,\n",
    "                      padding=1),# Hiperparametros, profundizar en el poloclub. \n",
    "            nn.ReLU(),\n",
    "            nn.Conv2d(in_channels=hidden_units,\n",
    "                      out_channels=hidden_units,\n",
    "                      kernel_size=3,\n",
    "                      stride=1,\n",
    "                      padding=1),\n",
    "            nn.ReLU(),\n",
    "            nn.MaxPool2d(kernel_size=2,\n",
    "                         stride=2) # MaxPool2d, ver documentación\n",
    "            ) \n",
    "        self.conv_block_2 = nn.Sequential(\n",
    "            nn.Conv2d(in_channels=hidden_units,\n",
    "                      out_channels=hidden_units,\n",
    "                      kernel_size=3,\n",
    "                      stride=1,\n",
    "                      padding=1),\n",
    "            nn.ReLU(),\n",
    "            nn.Conv2d(in_channels=hidden_units,\n",
    "                      out_channels=hidden_units,\n",
    "                      kernel_size=3,\n",
    "                      stride=1,\n",
    "                      padding=1),\n",
    "            nn.ReLU(),\n",
    "            nn.MaxPool2d(kernel_size=2)\n",
    "        )\n",
    "\n",
    "        self.classifier = nn.Sequential(\n",
    "            nn.Flatten(), # Tendremos como input altura*ancho para tener asi todos los pixeles disponibles\n",
    "            nn.Linear(in_features=hidden_units*7*7,\n",
    "                      out_features=output_shape)\n",
    "        )\n",
    "\n",
    "    def forward(self, x):\n",
    "        x = self.conv_block_1(x)\n",
    "        x = self.conv_block_2(x)\n",
    "        x = self.classifier(x)\n",
    "        \n",
    "        return x"
   ]
  },
  {
   "cell_type": "code",
   "execution_count": 57,
   "id": "60f8dc60",
   "metadata": {},
   "outputs": [
    {
     "name": "stdout",
     "output_type": "stream",
     "text": [
      "Dimensión del lote: torch.Size([32, 3, 64, 64])\n",
      "Dimensión de las imagenes del lote: torch.Size([3, 64, 64])\n",
      "Imagen de prueba: tensor([[[ 1.9269,  1.4873,  0.9007,  ...,  1.8446, -1.1845,  1.3835],\n",
      "         [ 1.4451,  0.8564,  2.2181,  ...,  0.3399,  0.7200,  0.4114],\n",
      "         [ 1.9312,  1.0119, -1.4364,  ..., -0.5558,  0.7043,  0.7099],\n",
      "         ...,\n",
      "         [-0.5610, -0.4830,  0.4770,  ..., -0.2713, -0.9537, -0.6737],\n",
      "         [ 0.3076, -0.1277,  0.0366,  ..., -2.0060,  0.2824, -0.8111],\n",
      "         [-1.5486,  0.0485, -0.7712,  ..., -0.1403,  0.9416, -0.0118]],\n",
      "\n",
      "        [[-0.5197,  1.8524,  1.8365,  ...,  0.8935, -1.5114, -0.8515],\n",
      "         [ 2.0818,  1.0677, -1.4277,  ...,  1.6612, -2.6223, -0.4319],\n",
      "         [-0.1010, -0.4388, -1.9775,  ...,  0.2106,  0.2536, -0.7318],\n",
      "         ...,\n",
      "         [ 0.2779,  0.7342, -0.3736,  ..., -0.4601,  0.1815,  0.1850],\n",
      "         [ 0.7205, -0.2833,  0.0937,  ..., -0.1002, -2.3609,  2.2465],\n",
      "         [-1.3242, -0.1973,  0.2920,  ...,  0.5409,  0.6940,  1.8563]],\n",
      "\n",
      "        [[-0.7978,  1.0261,  1.1465,  ...,  1.2134,  0.9354, -0.0780],\n",
      "         [-1.4647, -1.9571,  0.1017,  ..., -1.9986, -0.7409,  0.7011],\n",
      "         [-1.3938,  0.8466, -1.7191,  ..., -1.1867,  0.1320,  0.3407],\n",
      "         ...,\n",
      "         [ 0.8206, -0.3745,  1.2499,  ..., -0.0676,  0.0385,  0.6335],\n",
      "         [-0.5589, -0.3393,  0.2347,  ...,  2.1181,  2.4569,  1.3083],\n",
      "         [-0.4092,  1.5199,  0.2401,  ..., -0.2558,  0.7870,  0.9924]]])\n"
     ]
    }
   ],
   "source": [
    "torch.manual_seed(42)\n",
    "\n",
    "# Crearemos un lote de imagenes\n",
    "\n",
    "imagenes = torch.randn(size=(32, 3, 64, 64))\n",
    "test_imagenes = imagenes[0]\n",
    "\n",
    "print(f\"Dimensión del lote: {imagenes.shape}\")\n",
    "print(f\"Dimensión de las imagenes del lote: {test_imagenes.shape}\")\n",
    "print(f\"Imagen de prueba: {test_imagenes}\")"
   ]
  },
  {
   "cell_type": "code",
   "execution_count": 58,
   "id": "57711583",
   "metadata": {},
   "outputs": [
    {
     "data": {
      "text/plain": [
       "<bound method Module.state_dict of FashionMNISTModelV2(\n",
       "  (conv_block_1): Sequential(\n",
       "    (0): Conv2d(1, 10, kernel_size=(3, 3), stride=(1, 1), padding=(1, 1))\n",
       "    (1): ReLU()\n",
       "    (2): Conv2d(10, 10, kernel_size=(3, 3), stride=(1, 1), padding=(1, 1))\n",
       "    (3): ReLU()\n",
       "    (4): MaxPool2d(kernel_size=2, stride=2, padding=0, dilation=1, ceil_mode=False)\n",
       "  )\n",
       "  (conv_block_2): Sequential(\n",
       "    (0): Conv2d(10, 10, kernel_size=(3, 3), stride=(1, 1), padding=(1, 1))\n",
       "    (1): ReLU()\n",
       "    (2): Conv2d(10, 10, kernel_size=(3, 3), stride=(1, 1), padding=(1, 1))\n",
       "    (3): ReLU()\n",
       "    (4): MaxPool2d(kernel_size=2, stride=2, padding=0, dilation=1, ceil_mode=False)\n",
       "  )\n",
       "  (classifier): Sequential(\n",
       "    (0): Flatten(start_dim=1, end_dim=-1)\n",
       "    (1): Linear(in_features=490, out_features=10, bias=True)\n",
       "  )\n",
       ")>"
      ]
     },
     "execution_count": 58,
     "metadata": {},
     "output_type": "execute_result"
    }
   ],
   "source": [
    "torch.manual_seed(42)\n",
    "model_2 = FashionMNISTModelV2(input_shape=1,\n",
    "                              hidden_units=10,\n",
    "                              output_shape=len(clases))\n",
    "\n",
    "model_2.state_dict"
   ]
  },
  {
   "cell_type": "code",
   "execution_count": 59,
   "id": "fda77e3e",
   "metadata": {},
   "outputs": [],
   "source": [
    "# plt.imshow(test_imagenes.squeeze(), cmap=\"gray\")"
   ]
  },
  {
   "cell_type": "markdown",
   "id": "d83f3f8c",
   "metadata": {},
   "source": [
    "# Conv2d\n",
    "\n",
    "El funcionamiento de la capa Conv2d es el siguiente:\n",
    "\n",
    "<center><img src=\"img/conv2_layer.gif\"></center>\n",
    "\n",
    "El fundamento matemático esta en el sitio oficial de pyTorch, al no ser maquinas y no tener en parte la necesidad ni capacidad de acceder en tiempo real a cada una de las operaciones matemáticas con entenderla alcanza, y para esto es más eficiente valernos del ejemplo gráfico anteriormente dado."
   ]
  },
  {
   "cell_type": "code",
   "execution_count": 60,
   "id": "2efe606d",
   "metadata": {},
   "outputs": [
    {
     "data": {
      "text/plain": [
       "tensor([[[ 1.5396,  0.0516,  0.6454,  ..., -0.3673,  0.8711,  0.4256],\n",
       "         [ 0.3662,  1.0114, -0.5997,  ...,  0.8983,  0.2809, -0.2741],\n",
       "         [ 1.2664, -1.4054,  0.3727,  ..., -0.3409,  1.2191, -0.0463],\n",
       "         ...,\n",
       "         [-0.1541,  0.5132, -0.3624,  ..., -0.2360, -0.4609, -0.0035],\n",
       "         [ 0.2981, -0.2432,  1.5012,  ..., -0.6289, -0.7283, -0.5767],\n",
       "         [-0.0386, -0.0781, -0.0388,  ...,  0.2842,  0.4228, -0.1802]],\n",
       "\n",
       "        [[-0.2840, -0.0319, -0.4455,  ..., -0.7956,  1.5599, -1.2449],\n",
       "         [ 0.2753, -0.1262, -0.6541,  ..., -0.2211,  0.1999, -0.8856],\n",
       "         [-0.5404, -1.5489,  0.0249,  ..., -0.5932, -1.0913, -0.3849],\n",
       "         ...,\n",
       "         [ 0.3870, -0.4064, -0.8236,  ...,  0.1734, -0.4330, -0.4951],\n",
       "         [-0.1984, -0.6386,  1.0263,  ..., -0.9401, -0.0585, -0.7833],\n",
       "         [-0.6306, -0.2052, -0.3694,  ..., -1.3248,  0.2456, -0.7134]],\n",
       "\n",
       "        [[ 0.4414,  0.5100,  0.4846,  ..., -0.8484,  0.2638,  1.1258],\n",
       "         [ 0.8117,  0.3191, -0.0157,  ...,  1.2686,  0.2319,  0.5003],\n",
       "         [ 0.3212,  0.0485, -0.2581,  ...,  0.2258,  0.2587, -0.8804],\n",
       "         ...,\n",
       "         [-0.1144, -0.1869,  0.0160,  ..., -0.8346,  0.0974,  0.8421],\n",
       "         [ 0.2941,  0.4417,  0.5866,  ..., -0.1224,  0.4814, -0.4799],\n",
       "         [ 0.6059, -0.0415, -0.2028,  ...,  0.1170,  0.2521, -0.4372]],\n",
       "\n",
       "        ...,\n",
       "\n",
       "        [[-0.2560, -0.0477,  0.6380,  ...,  0.6436,  0.7553, -0.7055],\n",
       "         [ 1.5595, -0.2209, -0.9486,  ..., -0.4876,  0.7754,  0.0750],\n",
       "         [-0.0797,  0.2471,  1.1300,  ...,  0.1505,  0.2354,  0.9576],\n",
       "         ...,\n",
       "         [ 1.1065,  0.6839,  1.2183,  ...,  0.3015, -0.1910, -0.1902],\n",
       "         [-0.3486, -0.7173, -0.3582,  ...,  0.4917,  0.7219,  0.1513],\n",
       "         [ 0.0119,  0.1017,  0.7839,  ..., -0.3752, -0.8127, -0.1257]],\n",
       "\n",
       "        [[ 0.3841,  1.1322,  0.1620,  ...,  0.7010,  0.0109,  0.6058],\n",
       "         [ 0.1664,  0.1873,  1.5924,  ...,  0.3733,  0.9096, -0.5399],\n",
       "         [ 0.4094, -0.0861, -0.7935,  ..., -0.1285, -0.9932, -0.3013],\n",
       "         ...,\n",
       "         [ 0.2688, -0.5630, -1.1902,  ...,  0.4493,  0.5404, -0.0103],\n",
       "         [ 0.0535,  0.4411,  0.5313,  ...,  0.0148, -1.0056,  0.3759],\n",
       "         [ 0.3031, -0.1590, -0.1316,  ..., -0.5384, -0.4271, -0.4876]],\n",
       "\n",
       "        [[-1.1865, -0.7280, -1.2331,  ..., -0.9013, -0.0542, -1.5949],\n",
       "         [-0.6345, -0.5920,  0.5326,  ..., -1.0395, -0.7963, -0.0647],\n",
       "         [-0.1132,  0.5166,  0.2569,  ...,  0.5595, -1.6881,  0.9485],\n",
       "         ...,\n",
       "         [-0.0254, -0.2669,  0.1927,  ..., -0.2917,  0.1088, -0.4807],\n",
       "         [-0.2609, -0.2328,  0.1404,  ..., -0.1325, -0.8436, -0.7524],\n",
       "         [-1.1399, -0.1751, -0.8705,  ...,  0.1589,  0.3377,  0.3493]]],\n",
       "       grad_fn=<SqueezeBackward1>)"
      ]
     },
     "execution_count": 60,
     "metadata": {},
     "output_type": "execute_result"
    }
   ],
   "source": [
    "torch.manual_seed(42)\n",
    "\n",
    "conv2d_layer = nn.Conv2d(in_channels=3,\n",
    "                         out_channels=10,\n",
    "                         kernel_size=3,\n",
    "                         stride=1,\n",
    "                         padding=0)\n",
    "\n",
    "conv2d_layer(test_imagenes)"
   ]
  },
  {
   "cell_type": "code",
   "execution_count": 61,
   "id": "1c14322d",
   "metadata": {},
   "outputs": [
    {
     "data": {
      "text/plain": [
       "(torch.Size([3, 64, 64]), torch.Size([1, 3, 64, 64]))"
      ]
     },
     "execution_count": 61,
     "metadata": {},
     "output_type": "execute_result"
    }
   ],
   "source": [
    "test_imagenes.shape, test_imagenes.unsqueeze(dim=0).shape"
   ]
  },
  {
   "cell_type": "markdown",
   "id": "e140c535",
   "metadata": {},
   "source": [
    "# MaxPool2d\n",
    "\n",
    "La documentación asociada se encuentra aqui: https://docs.pytorch.org/docs/stable/generated/torch.nn.MaxPool2d.html\n",
    "Un ejemplo gráfico de como funciona esta tipo de funciones de activación es la siguiente:\n",
    "<center><img src=\"img/max_pool.png\"></center>"
   ]
  },
  {
   "cell_type": "code",
   "execution_count": 62,
   "id": "6a752b7c",
   "metadata": {},
   "outputs": [
    {
     "name": "stdout",
     "output_type": "stream",
     "text": [
      "Dimensión de la imagen original: torch.Size([3, 64, 64])\n",
      "Dimensión de la imagen descomprimida: torch.Size([1, 3, 64, 64])\n",
      "Después de pasarlo por la capa conv2d: torch.Size([1, 10, 62, 62])\n",
      "Después de pasarlo por la capa conv2d y luego maxPool2D: torch.Size([1, 10, 31, 31])\n"
     ]
    }
   ],
   "source": [
    "# Tamaño original de las imagenes de prueba\n",
    "\n",
    "print(f\"Dimensión de la imagen original: {test_imagenes.shape}\")\n",
    "print(f\"Dimensión de la imagen descomprimida: {test_imagenes.unsqueeze(0).shape}\")\n",
    "\n",
    "# Capa nn.MaxPool2d\n",
    "max_pool_layer = nn.MaxPool2d(kernel_size=2)\n",
    "\n",
    "# Pasa por la capa conv2D\n",
    "test_imagenes_en_conv2D = conv2d_layer(test_imagenes.unsqueeze(dim=0))\n",
    "print(f\"Después de pasarlo por la capa conv2d: {test_imagenes_en_conv2D.shape}\")\n",
    "\n",
    "# Pasa por la capa maxPool2D\n",
    "\n",
    "test_imagenes_en_maxPool2D = max_pool_layer(test_imagenes_en_conv2D)\n",
    "print(f\"Después de pasarlo por la capa conv2d y luego maxPool2D: {test_imagenes_en_maxPool2D.shape}\")"
   ]
  },
  {
   "cell_type": "code",
   "execution_count": 63,
   "id": "8102f198",
   "metadata": {},
   "outputs": [
    {
     "name": "stdout",
     "output_type": "stream",
     "text": [
      "\n",
      "MaxPool2d tensor: tensor([[[[0.3367]]]])\n",
      "Dimensión del MaxPool2d tensor: torch.Size([1, 1, 1, 1])\n"
     ]
    }
   ],
   "source": [
    "torch.manual_seed(42)\n",
    "\n",
    "random_tensor = torch.randn(size=(1, 1, 2, 2))\n",
    "\n",
    "max_pool_layer = nn.MaxPool2d(kernel_size=2)\n",
    "\n",
    "max_pool_tensor = max_pool_layer(random_tensor)\n",
    "print(f\"\\nMaxPool2d tensor: {max_pool_tensor}\")\n",
    "print(f\"Dimensión del MaxPool2d tensor: {max_pool_tensor.shape}\")"
   ]
  },
  {
   "cell_type": "markdown",
   "id": "63eb8446",
   "metadata": {},
   "source": [
    "Hasta ahora nuestra red tiene el siguiente formato:\n",
    "<center><img src=\"img/red_CNN_P1.png\"></center>"
   ]
  },
  {
   "cell_type": "markdown",
   "id": "82a2000c",
   "metadata": {},
   "source": [
    "# Modelo 2 con CNN\n",
    "\n",
    "1. Instanciaremos las funciones de perdida y optimización\n",
    "2. Crearemos las funciones correspondientes"
   ]
  },
  {
   "cell_type": "code",
   "execution_count": 64,
   "id": "c7ed2f06",
   "metadata": {},
   "outputs": [],
   "source": [
    "# Perdida y optimización\n",
    "from helper_functions import accuracy_fn\n",
    "\n",
    "loss_fn = nn.CrossEntropyLoss()\n",
    "optimizer = torch.optim.SGD(params=model_2.parameters(),\n",
    "                            lr=0.1)"
   ]
  },
  {
   "cell_type": "code",
   "execution_count": 65,
   "id": "6ab72c39",
   "metadata": {},
   "outputs": [
    {
     "name": "stderr",
     "output_type": "stream",
     "text": [
      "  0%|          | 0/3 [00:00<?, ?it/s]"
     ]
    },
    {
     "name": "stdout",
     "output_type": "stream",
     "text": [
      "Epoca: 0\n",
      "\n",
      "Pedida en entrenamiento: 0.58819, exactitud en entrenamiento: 78.67\n"
     ]
    },
    {
     "name": "stderr",
     "output_type": "stream",
     "text": [
      " 33%|███▎      | 1/3 [00:35<01:11, 35.71s/it]"
     ]
    },
    {
     "name": "stdout",
     "output_type": "stream",
     "text": [
      "Perdida en prueba: 0.40317, exactitud en prueba: 85.76\n",
      "Epoca: 1\n",
      "\n",
      "Pedida en entrenamiento: 0.36085, exactitud en entrenamiento: 86.94\n"
     ]
    },
    {
     "name": "stderr",
     "output_type": "stream",
     "text": [
      " 67%|██████▋   | 2/3 [01:09<00:34, 34.59s/it]"
     ]
    },
    {
     "name": "stdout",
     "output_type": "stream",
     "text": [
      "Perdida en prueba: 0.34778, exactitud en prueba: 87.11\n",
      "Epoca: 2\n",
      "\n",
      "Pedida en entrenamiento: 0.32424, exactitud en entrenamiento: 88.19\n"
     ]
    },
    {
     "name": "stderr",
     "output_type": "stream",
     "text": [
      "100%|██████████| 3/3 [01:45<00:00, 35.14s/it]"
     ]
    },
    {
     "name": "stdout",
     "output_type": "stream",
     "text": [
      "Perdida en prueba: 0.31492, exactitud en prueba: 88.69\n",
      "Tiempo total: 105.415 segundos\n"
     ]
    },
    {
     "name": "stderr",
     "output_type": "stream",
     "text": [
      "\n"
     ]
    }
   ],
   "source": [
    "torch.manual_seed(42)\n",
    "\n",
    "from timeit import default_timer as timer\n",
    "inicio_modelo_2 = timer()\n",
    "epocas = 3\n",
    "for epoca in tqdm(range(epocas)):\n",
    "    print(f\"Epoca: {epoca}\\n\")\n",
    "    ciclo_de_entrenamiento(model=model_2,\n",
    "                           data_loader=train_data_loader,\n",
    "                           loss_fn=loss_fn,\n",
    "                           optimizer=optimizer,\n",
    "                           accuracy_fn=accuracy_fn) \n",
    "    ciclo_de_prueba(model=model_2,\n",
    "                    data_loader=test_data_loader,\n",
    "                    loss_fn=loss_fn,\n",
    "                    accuracy_fn=accuracy_fn)\n",
    "\n",
    "finalizacion_modelo_2 = timer()\n",
    "tiempo_total_modelo_2 = print_train_time(start=inicio_modelo_2, end=finalizacion_modelo_2)\n"
   ]
  },
  {
   "cell_type": "code",
   "execution_count": 66,
   "id": "bfc9a8b1",
   "metadata": {},
   "outputs": [
    {
     "name": "stderr",
     "output_type": "stream",
     "text": [
      "100%|██████████| 313/313 [00:02<00:00, 123.67it/s]\n"
     ]
    },
    {
     "data": {
      "text/plain": [
       "{'model_name': 'FashionMNISTModelV2',\n",
       " 'model_loss': 0.31491801142692566,\n",
       " 'model_acc': 88.68809904153355}"
      ]
     },
     "execution_count": 66,
     "metadata": {},
     "output_type": "execute_result"
    }
   ],
   "source": [
    "model_2_results = eval_model(model=model_2,\n",
    "                             data_loader=test_data_loader,\n",
    "                             loss_fn=loss_fn,\n",
    "                             accuracy_fn=accuracy_fn)\n",
    "model_2_results\n",
    "\n"
   ]
  },
  {
   "cell_type": "code",
   "execution_count": 67,
   "id": "fc903480",
   "metadata": {},
   "outputs": [
    {
     "name": "stdout",
     "output_type": "stream",
     "text": [
      "                Modelo   Pérdida  Exactitud\n",
      "0  FashionMNISTModelV0  0.476639  83.426518\n",
      "1  FashionMNISTModelV1  0.685001  75.019968\n",
      "2  FashionMNISTModelV2  0.314918  88.688099\n"
     ]
    }
   ],
   "source": [
    "# Comparación de resultados del modelo junto a sus tiempos de entrenamiento correspondientes\n",
    "\n",
    "import pandas as pd\n",
    "compare_results = pd.DataFrame([model_0_results,\n",
    "                               model_1_results,\n",
    "                               model_2_results]) # Ponerlo como una lista, sino no anda\n",
    "\n",
    "compare_results.rename(columns={\n",
    "    \"model_name\": \"Modelo\",\n",
    "    \"model_loss\": \"Pérdida\",\n",
    "    \"model_acc\": \"Exactitud\",\n",
    "    \"tiempo_de_entrenamiento\": \"Tiempo de Entrenamiento (s)\"\n",
    "}, inplace=True)\n",
    "\n",
    "\n",
    "print(compare_results)"
   ]
  },
  {
   "cell_type": "code",
   "execution_count": 68,
   "id": "4318cf7b",
   "metadata": {},
   "outputs": [
    {
     "data": {
      "text/html": [
       "<div>\n",
       "<style scoped>\n",
       "    .dataframe tbody tr th:only-of-type {\n",
       "        vertical-align: middle;\n",
       "    }\n",
       "\n",
       "    .dataframe tbody tr th {\n",
       "        vertical-align: top;\n",
       "    }\n",
       "\n",
       "    .dataframe thead th {\n",
       "        text-align: right;\n",
       "    }\n",
       "</style>\n",
       "<table border=\"1\" class=\"dataframe\">\n",
       "  <thead>\n",
       "    <tr style=\"text-align: right;\">\n",
       "      <th></th>\n",
       "      <th>Modelo</th>\n",
       "      <th>Pérdida</th>\n",
       "      <th>Exactitud</th>\n",
       "      <th>tiempo_de_entrenamiento</th>\n",
       "    </tr>\n",
       "  </thead>\n",
       "  <tbody>\n",
       "    <tr>\n",
       "      <th>0</th>\n",
       "      <td>FashionMNISTModelV0</td>\n",
       "      <td>0.476639</td>\n",
       "      <td>83.426518</td>\n",
       "      <td>35.479699</td>\n",
       "    </tr>\n",
       "    <tr>\n",
       "      <th>1</th>\n",
       "      <td>FashionMNISTModelV1</td>\n",
       "      <td>0.685001</td>\n",
       "      <td>75.019968</td>\n",
       "      <td>37.827556</td>\n",
       "    </tr>\n",
       "    <tr>\n",
       "      <th>2</th>\n",
       "      <td>FashionMNISTModelV2</td>\n",
       "      <td>0.314918</td>\n",
       "      <td>88.688099</td>\n",
       "      <td>105.414966</td>\n",
       "    </tr>\n",
       "  </tbody>\n",
       "</table>\n",
       "</div>"
      ],
      "text/plain": [
       "                Modelo   Pérdida  Exactitud  tiempo_de_entrenamiento\n",
       "0  FashionMNISTModelV0  0.476639  83.426518                35.479699\n",
       "1  FashionMNISTModelV1  0.685001  75.019968                37.827556\n",
       "2  FashionMNISTModelV2  0.314918  88.688099               105.414966"
      ]
     },
     "execution_count": 68,
     "metadata": {},
     "output_type": "execute_result"
    }
   ],
   "source": [
    "# Comparación entre tiempos de entrenamiento, anidamos una columna\n",
    "\n",
    "compare_results[\"tiempo_de_entrenamiento\"] = pd.DataFrame([tiempo_total_modelo_0,\n",
    "                             tiempo_total_modelo_1,\n",
    "                             tiempo_total_modelo_2])\n",
    "\n",
    "compare_results # Luego cambiaré los nombres de los campos\n"
   ]
  },
  {
   "cell_type": "code",
   "execution_count": 69,
   "id": "a3de58fd",
   "metadata": {},
   "outputs": [
    {
     "data": {
      "text/plain": [
       "Text(0, 0.5, 'Modelo')"
      ]
     },
     "execution_count": 69,
     "metadata": {},
     "output_type": "execute_result"
    },
    {
     "data": {
      "image/png": "[encoded data removed]",
      "text/plain": [
       "<Figure size 640x480 with 1 Axes>"
      ]
     },
     "metadata": {},
     "output_type": "display_data"
    }
   ],
   "source": [
    "compare_results.set_index(\"Modelo\")[\"Exactitud\"].plot(kind=\"barh\")\n",
    "plt.xlabel(\"Exactitud\")\n",
    "plt.ylabel(\"Modelo\")"
   ]
  },
  {
   "cell_type": "markdown",
   "id": "f8fd433d",
   "metadata": {},
   "source": [
    "# Predicciones\n",
    "\n",
    "Ya realizamos 3 modelos, pudimos ver como el V2, mezclando funciones de activación lineales y no lineales con una estructura más robusta es el más efectivo.\n",
    "\n",
    "Estamos en condiciones de utilizar estos con nuestro set de datos de ropa."
   ]
  },
  {
   "cell_type": "code",
   "execution_count": 70,
   "id": "57b0285b",
   "metadata": {},
   "outputs": [],
   "source": [
    "def realizar_predicciones(model: torch.nn.Module, \n",
    "                          data: list):\n",
    "    pred_probs = []\n",
    "    model.eval()\n",
    "    with torch.inference_mode():\n",
    "        for sample in data:\n",
    "            sample = torch.unsqueeze(sample, dim=0)\n",
    "            pred_logit = model(sample)\n",
    "            pred_prob = torch.softmax(pred_logit.squeeze(), dim=0)\n",
    "            pred_probs.append(pred_prob)\n",
    "            \n",
    "    \n",
    "    return torch.stack(pred_probs)"
   ]
  },
  {
   "cell_type": "code",
   "execution_count": 71,
   "id": "4ea77471",
   "metadata": {},
   "outputs": [
    {
     "data": {
      "text/plain": [
       "torch.Size([1, 28, 28])"
      ]
     },
     "execution_count": 71,
     "metadata": {},
     "output_type": "execute_result"
    }
   ],
   "source": [
    "import random\n",
    "random.seed(42)\n",
    "test_samples = []\n",
    "test_labels = []\n",
    "\n",
    "for sample, label in random.sample(list(test_data), k=9):\n",
    "    test_samples.append(sample)\n",
    "    test_labels.append(label)\n",
    "\n",
    "test_samples[0].shape"
   ]
  },
  {
   "cell_type": "code",
   "execution_count": 72,
   "id": "3c82fc6c",
   "metadata": {},
   "outputs": [
    {
     "data": {
      "text/plain": [
       "Text(0.5, 1.0, 'Sandal')"
      ]
     },
     "execution_count": 72,
     "metadata": {},
     "output_type": "execute_result"
    },
    {
     "data": {
      "image/png": "[encoded data removed]",
      "text/plain": [
       "<Figure size 640x480 with 1 Axes>"
      ]
     },
     "metadata": {},
     "output_type": "display_data"
    }
   ],
   "source": [
    "plt.imshow(test_samples[0].squeeze(), cmap=\"gray\")\n",
    "plt.title(clases[test_labels[0]])"
   ]
  },
  {
   "cell_type": "code",
   "execution_count": 73,
   "id": "fe7dfe32",
   "metadata": {},
   "outputs": [],
   "source": [
    "# Ahora si, realizaremos predicciones a gusto\n",
    "\n",
    "pred_probs = realizar_predicciones(model=model_2,\n",
    "                                   data=test_samples)\n",
    "\n",
    "# pred_probs\n",
    "\n",
    "# test_labels"
   ]
  },
  {
   "cell_type": "code",
   "execution_count": 74,
   "id": "4376c70d",
   "metadata": {},
   "outputs": [
    {
     "data": {
      "text/plain": [
       "tensor([5, 1, 7, 4, 3, 0, 4, 7, 1])"
      ]
     },
     "execution_count": 74,
     "metadata": {},
     "output_type": "execute_result"
    }
   ],
   "source": [
    "predd_clases = pred_probs.argmax(dim=1)\n",
    "predd_clases"
   ]
  },
  {
   "cell_type": "code",
   "execution_count": 75,
   "id": "ccdc63b3",
   "metadata": {},
   "outputs": [
    {
     "data": {
      "image/png": "[encoded data removed]",
      "text/plain": [
       "<Figure size 900x900 with 9 Axes>"
      ]
     },
     "metadata": {},
     "output_type": "display_data"
    }
   ],
   "source": [
    "plt.figure(figsize=(9, 9))\n",
    "nrows = 3\n",
    "ncols = 3\n",
    "\n",
    "for i, sample in enumerate(test_samples):\n",
    "    # Crear sub graficos correspondientes\n",
    "    plt.subplot(nrows, ncols, i+1)\n",
    "    plt.subplots_adjust(hspace=0.6, wspace=0.2)\n",
    "    plt.axis(False)\n",
    "\n",
    "    # Graficar esto:\n",
    "    plt.imshow(sample.squeeze(), cmap=\"gray\")\n",
    "\n",
    "    # Encontrar la predicción...\n",
    "\n",
    "    pred_label = clases[predd_clases[i]]\n",
    "    \n",
    "    label_correcto = clases[test_labels[i]]\n",
    "\n",
    "    titulo = f\"Pred: {pred_label}, Verd: {label_correcto}\"\n",
    "\n",
    "    if pred_label == label_correcto:\n",
    "        plt.title(titulo, fontsize=10, c=\"g\")\n",
    "    else:\n",
    "        plt.title(titulo, fontsize=10, c=\"r\")\n",
    " \n",
    "plt.tight_layout()"
   ]
  },
  {
   "cell_type": "markdown",
   "id": "1194995c",
   "metadata": {},
   "source": [
    "Pobrémos sin random.seed()"
   ]
  },
  {
   "cell_type": "code",
   "execution_count": 76,
   "id": "3933934a",
   "metadata": {},
   "outputs": [
    {
     "data": {
      "image/png": "[encoded data removed]",
      "text/plain": [
       "<Figure size 900x900 with 9 Axes>"
      ]
     },
     "metadata": {},
     "output_type": "display_data"
    }
   ],
   "source": [
    "test_samples = []\n",
    "test_labels = []\n",
    "\n",
    "for sample, label in random.sample(list(test_data), k=9):\n",
    "    test_samples.append(sample)\n",
    "    test_labels.append(label)\n",
    "\n",
    "test_samples[0].shape\n",
    "\n",
    "pred_probs = realizar_predicciones(model=model_2,\n",
    "                                   data=test_samples)\n",
    "\n",
    "predd_clases = pred_probs.argmax(dim=1)\n",
    "\n",
    "plt.figure(figsize=(9, 9))\n",
    "nrows = 3\n",
    "ncols = 3\n",
    "\n",
    "for i, sample in enumerate(test_samples):\n",
    "    # Crear sub graficos correspondientes\n",
    "    plt.subplot(nrows, ncols, i+1)\n",
    "    plt.subplots_adjust(hspace=0.6, wspace=0.2)\n",
    "    plt.axis(False)\n",
    "\n",
    "    # Graficar esto:\n",
    "    plt.imshow(sample.squeeze(), cmap=\"gray\")\n",
    "\n",
    "    # Encontrar la predicción...\n",
    "\n",
    "    pred_label = clases[predd_clases[i]]\n",
    "    \n",
    "    label_correcto = clases[test_labels[i]]\n",
    "\n",
    "    titulo = f\"Pred: {pred_label}, Verd: {label_correcto}\"\n",
    "\n",
    "    if pred_label == label_correcto:\n",
    "        plt.title(titulo, fontsize=10, c=\"g\")\n",
    "    else:\n",
    "        plt.title(titulo, fontsize=10, c=\"r\")\n",
    " \n",
    "plt.tight_layout()"
   ]
  },
  {
   "cell_type": "markdown",
   "id": "c96464c1",
   "metadata": {},
   "source": [
    "# Matriz de confusión\n",
    "\n",
    "La matriz de confusión es una manera muy buena de clasificar nuestros modelos de clasificación de manera visual: https://lightning.ai/docs/torchmetrics/stable/classification/confusion_matrix.html.\n",
    "Los pasos a realizar serán:\n",
    "1. Realizar predicciones con nuestro modelo entrenado.\n",
    "2. Realizar la matriz de confusión.\n",
    "3. Gráficar la matriz de confusión e interpretarla. "
   ]
  },
  {
   "cell_type": "code",
   "execution_count": null,
   "id": "faebde5a",
   "metadata": {},
   "outputs": [
    {
     "name": "stderr",
     "output_type": "stream",
     "text": [
      "Realizado predicciones...: 100%|██████████| 313/313 [00:02<00:00, 105.84it/s]\n"
     ]
    },
    {
     "data": {
      "text/plain": [
       "tensor([9, 2, 1, 1, 6, 1, 4, 6, 5, 7])"
      ]
     },
     "execution_count": 84,
     "metadata": {},
     "output_type": "execute_result"
    }
   ],
   "source": [
    "# 1.\n",
    "from tqdm.auto import tqdm\n",
    "\n",
    "y_preds = []\n",
    "model_2.eval()\n",
    "with torch.inference_mode():\n",
    "    for X, y in tqdm(test_data_loader, desc=\"Realizado predicciones...\"): # El desc es un print sin salto de linea muy bueno\n",
    "        # Forward pass\n",
    "        y_logit = model_2(X)\n",
    "        y_pred = torch.softmax(y_logit.squeeze(), dim=0).argmax(dim=1)\n",
    "        y_preds.append(y_pred) \n",
    "        \n",
    "y_pred_tensor = torch.cat(y_preds) # Concatena las predicciones en un tensor\n",
    "y_pred_tensor[:10]\n",
    "# len(y_pred_tensor)"
   ]
  },
  {
   "cell_type": "code",
   "execution_count": 87,
   "id": "770d73fc",
   "metadata": {},
   "outputs": [],
   "source": [
    "# 2.\n",
    "from torchmetrics import ConfusionMatrix\n",
    "from mlxtend.plotting import plot_confusion_matrix\n",
    "\n",
    "confmat = ConfusionMatrix(num_classes=len(clases), task='multiclass')\n",
    "confmat_tensor = confmat(preds=y_pred_tensor,\n",
    "                         target=test_data.targets)"
   ]
  },
  {
   "cell_type": "code",
   "execution_count": 89,
   "id": "7645d258",
   "metadata": {},
   "outputs": [
    {
     "data": {
      "image/png": "[encoded data removed]",
      "text/plain": [
       "<Figure size 1000x800 with 1 Axes>"
      ]
     },
     "metadata": {},
     "output_type": "display_data"
    }
   ],
   "source": [
    "# 3.\n",
    "fig, ax = plot_confusion_matrix(\n",
    "    conf_mat=confmat_tensor.numpy(),\n",
    "    class_names=clases,\n",
    "    figsize=(10, 8)\n",
    ")"
   ]
  },
  {
   "cell_type": "markdown",
   "id": "f09e3d73",
   "metadata": {},
   "source": [
    "# Guardamos nuestro modelo"
   ]
  },
  {
   "cell_type": "code",
   "execution_count": null,
   "id": "83ec34de",
   "metadata": {},
   "outputs": [
    {
     "data": {
      "text/plain": [
       "WindowsPath('models/modelo_2.pth')"
      ]
     },
     "execution_count": 1,
     "metadata": {},
     "output_type": "execute_result"
    }
   ],
   "source": [
    "from pathlib import Path\n",
    "\n",
    "# Ruta del modelo\n",
    "MODEL_PATH = Path(\"models\")\n",
    "MODEL_PATH.mkdir(parents=True,\n",
    "                 exist_ok=True)\n",
    "\n",
    "# Guardamos el modelo\n",
    "\n",
    "MODEL_NAME = \"modelo_2.pth\"\n",
    "MODEL_SAVE_PATH = MODEL_PATH / MODEL_NAME\n",
    "\n",
    "torch.save(obj=model_2.state_dict())"
   ]
  },
  {
   "cell_type": "markdown",
   "id": "9589a65e",
   "metadata": {},
   "source": [
    "# Cargamos nuestro modelo"
   ]
  },
  {
   "cell_type": "code",
   "execution_count": null,
   "id": "1abbeb60",
   "metadata": {},
   "outputs": [
    {
     "ename": "NameError",
     "evalue": "name 'FashionMNISTModelV2' is not defined",
     "output_type": "error",
     "traceback": [
      "\u001b[31m---------------------------------------------------------------------------\u001b[39m",
      "\u001b[31mNameError\u001b[39m                                 Traceback (most recent call last)",
      "\u001b[36mCell\u001b[39m\u001b[36m \u001b[39m\u001b[32mIn[2]\u001b[39m\u001b[32m, line 1\u001b[39m\n\u001b[32m----> \u001b[39m\u001b[32m1\u001b[39m loaded_model_2 = \u001b[43mFashionMNISTModelV2\u001b[49m(input_shape=\u001b[32m1\u001b[39m, \n\u001b[32m      2\u001b[39m                                     hidden_units=\u001b[32m10\u001b[39m, \n\u001b[32m      3\u001b[39m                                     output_shape=\u001b[32m10\u001b[39m) \n\u001b[32m      5\u001b[39m loaded_model_2.load_state_dict(torch.load(f=MODEL_SAVE_PATH))\n",
      "\u001b[31mNameError\u001b[39m: name 'FashionMNISTModelV2' is not defined"
     ]
    }
   ],
   "source": [
    "loaded_model_2 = FashionMNISTModelV2(input_shape=1, \n",
    "                                    hidden_units=10, \n",
    "                                    output_shape=10) \n",
    "\n",
    "loaded_model_2.load_state_dict(torch.load(f=MODEL_SAVE_PATH))"
   ]
  }
 ],
 "metadata": {
  "kernelspec": {
   "display_name": "Python 3",
   "language": "python",
   "name": "python3"
  },
  "language_info": {
   "codemirror_mode": {
    "name": "ipython",
    "version": 3
   },
   "file_extension": ".py",
   "mimetype": "text/x-python",
   "name": "python",
   "nbconvert_exporter": "python",
   "pygments_lexer": "ipython3",
   "version": "3.13.5"
  }
 },
 "nbformat": 4,
 "nbformat_minor": 5
}
