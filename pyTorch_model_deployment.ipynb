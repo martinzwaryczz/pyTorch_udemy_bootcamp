{
 "cells": [
  {
   "cell_type": "markdown",
   "id": "0e2743bc",
   "metadata": {},
   "source": [
    "# Model deployment\n",
    "\n",
    "Nuestros modelos deben ser, preferiblemente, utilizables para los demas...\n",
    "\n",
    "Independientemente de nuestra separación de datos para la prueba de nuestros modelos, si estos no son probados en el mundo real, ¿qué son...?\n",
    "\n",
    "<center><img heigth=700 width=700 src=\"img/model_deployment.png\"></center>\n",
    "\n",
    "Una buena practica para llevar a cabo este ultimo \"dataset\" es *MLOps*: https://es.wikipedia.org/wiki/MLOps.\n",
    "\n",
    "Estos aspectos son los pre-producción de nuestro modelo o proyecto de software, es importante destacar esto ya que si bien la practica y experiencia son más importantes que la teoria muchas veces damos por hecho que este tema no tiene sentido cuando lo cierto es que lo tiene y mucho, que las cosas funcionen bien nos dará comida como programadores, no que nos guste como codeamos nuestro modelo o programa."
   ]
  },
  {
   "cell_type": "markdown",
   "id": "ea10c612",
   "metadata": {},
   "source": [
    "Previo a nuestra salida a producción debemos preguntarnos...:\n",
    "\n",
    " ***1. ¿Cual es el escenario ideal de funcionamiento de nuestro modelo?***\n",
    "- Trabajar todo el tiempo\n",
    "- Trabajar rapidamente\n",
    "\n",
    "***2. ¿Donde va a andar nuestro modelo?***\n",
    "- En la nube (cloud)\n",
    "- Procesador (CPU, cuda)\n",
    "- GPU\n",
    "\n",
    "***3. ¿Cómo funcionará?***\n",
    "- Online (tiempo real)\n",
    "- Offline (batch)"
   ]
  },
  {
   "cell_type": "markdown",
   "id": "796fdbeb",
   "metadata": {},
   "source": [
    "# Modelos y la nube (Cloud)\n",
    "\n",
    "Nuestros modelos son muy utiles para nosotros, sirve de mucho y claramente tienen un gran código detras que nos llevo horas de código, practica y paciencia... sin embargo estos mayormente son utilizados no en PCs locales sino en la nube, pongamos como ejemplo un auto de tesla:\n",
    "\n",
    "<center><img src=\"img/cloud_vs_edge.png\"></center>\n",
    "\n",
    "Lo que es para nosotros \"la nube\" son en realidad miles de PCs conectadas de tal manera que nuestros modelos son infitamente mejores entrenados que en nuestra PC local.\n",
    "\n",
    "Como extra el curso nos proporciona el siguiente recurso para correr nuestros modelos en la web: https://onnxruntime.ai/index.html"
   ]
  },
  {
   "cell_type": "markdown",
   "id": "b7d46497",
   "metadata": {},
   "source": [
    "Los resultados podrán ser o no en tiempo real.\n",
    "\n",
    "Los modelos correran localmente si la seguridad lo amerita y/o si la necesidad de computo no es muy grande.\n",
    "\n",
    "Algunos recursos para realizar MLOps son los siguientes:\n",
    "\n",
    "<center><img width=700 heigth=700 src=\"img/ml_ops.png\"></center>\n",
    "\n",
    "Trataremos de simular esto en este laboratorio."
   ]
  },
  {
   "cell_type": "code",
   "execution_count": 1,
   "id": "39506ee9",
   "metadata": {},
   "outputs": [
    {
     "name": "stderr",
     "output_type": "stream",
     "text": [
      "c:\\Users\\marti\\AppData\\Local\\Programs\\Python\\Python313\\Lib\\site-packages\\tqdm\\auto.py:21: TqdmWarning: IProgress not found. Please update jupyter and ipywidgets. See https://ipywidgets.readthedocs.io/en/stable/user_install.html\n",
      "  from .autonotebook import tqdm as notebook_tqdm\n"
     ]
    }
   ],
   "source": [
    "import matplotlib.pyplot as plt\n",
    "import torch\n",
    "import torchvision\n",
    "\n",
    "from torch import nn\n",
    "from torchvision import transforms\n",
    "from torchinfo import summary\n",
    "\n",
    "from going_modular.going_modular import data_setup, engine\n",
    "from helper_functions import download_data, set_seeds, plot_loss_curves"
   ]
  },
  {
   "cell_type": "code",
   "execution_count": 2,
   "id": "0726d841",
   "metadata": {},
   "outputs": [
    {
     "name": "stdout",
     "output_type": "stream",
     "text": [
      "[INFO] data\\pizza_steak_sushi_20_percent directory exists, skipping download.\n"
     ]
    },
    {
     "data": {
      "text/plain": [
       "WindowsPath('data/pizza_steak_sushi_20_percent')"
      ]
     },
     "execution_count": 2,
     "metadata": {},
     "output_type": "execute_result"
    }
   ],
   "source": [
    "# Descargamos el set de datos\n",
    "\n",
    "data_20_percent_path = download_data(source=\"https://github.com/mrdbourke/pytorch-deep-learning/raw/main/data/pizza_steak_sushi_20_percent.zip\",\n",
    "                                     destination=\"pizza_steak_sushi_20_percent\")\n",
    "\n",
    "data_20_percent_path"
   ]
  },
  {
   "cell_type": "code",
   "execution_count": 3,
   "id": "45399486",
   "metadata": {},
   "outputs": [],
   "source": [
    "# Creamos los directorios\n",
    "\n",
    "train_dir = data_20_percent_path / \"train\"\n",
    "test_dir = data_20_percent_path / \"test\""
   ]
  },
  {
   "cell_type": "markdown",
   "id": "4cda8735",
   "metadata": {},
   "source": [
    "# Esperamos...\n",
    "\n",
    "Que tenga un 95% de exactitud y que la velocidad sea de 30 FPS (No se que quiere decir con 30 FPS, no es un juego ni hay una interfaz gráfica pero bueno, se espera velocidad y eso es lo importante).\n",
    "\n",
    "Los modelos que vimos fueron los siguientes:\n",
    "\n",
    "- EffNetB2\n",
    "- ViT-B/16\n",
    "\n",
    "Previamente ademas de crear estos modelos creamos un *feature extractor* para cada uno, esto nos servirá ahora para evaluarlos también..."
   ]
  },
  {
   "cell_type": "code",
   "execution_count": 4,
   "id": "991928db",
   "metadata": {},
   "outputs": [],
   "source": [
    "# Pesos y transforms:\n",
    "effnetb2_weights = torchvision.models.EfficientNet_B2_Weights.DEFAULT\n",
    "\n",
    "effnetb2_transforms = effnetb2_weights.transforms()\n",
    "\n",
    "# Instanciamos un modelo con los pesos que ya creamos antes\n",
    "effnetb2 = torchvision.models.efficientnet_b2(weights=effnetb2_weights)\n",
    "\n",
    "for param in effnetb2.parameters():\n",
    "    param.requires_grad = False\n",
    "\n",
    "# effnetb2"
   ]
  },
  {
   "cell_type": "code",
   "execution_count": 5,
   "id": "5fdb8a71",
   "metadata": {},
   "outputs": [
    {
     "data": {
      "text/plain": [
       "Sequential(\n",
       "  (0): Dropout(p=0.3, inplace=True)\n",
       "  (1): Linear(in_features=1408, out_features=1000, bias=True)\n",
       ")"
      ]
     },
     "execution_count": 5,
     "metadata": {},
     "output_type": "execute_result"
    }
   ],
   "source": [
    "effnetb2.classifier # head, debemos cambiar la salida a 3 clases (pizza, steak, sushi)"
   ]
  },
  {
   "cell_type": "code",
   "execution_count": 6,
   "id": "57826854",
   "metadata": {},
   "outputs": [
    {
     "data": {
      "text/plain": [
       "Sequential(\n",
       "  (0): Dropout(p=0.3, inplace=True)\n",
       "  (1): Linear(in_features=1408, out_features=3, bias=True)\n",
       ")"
      ]
     },
     "execution_count": 6,
     "metadata": {},
     "output_type": "execute_result"
    }
   ],
   "source": [
    "# Actualizamos el head\n",
    "effnetb2.classifier = nn.Sequential(\n",
    "    nn.Dropout(p=0.3, inplace=True),\n",
    "    nn.Linear(in_features=1408,\n",
    "              out_features=3)\n",
    ")\n",
    "\n",
    "effnetb2.classifier"
   ]
  },
  {
   "cell_type": "code",
   "execution_count": 7,
   "id": "c8d05f49",
   "metadata": {},
   "outputs": [],
   "source": [
    "# Simplifiquemos todo en una función...\n",
    "\n",
    "def create_effnetb2_model(num_classes:int=3,\n",
    "                         seed:int=42):\n",
    "    \n",
    "    \"\"\" Crea un extractor de atributos del modelo EfficientNetB2\n",
    "    \n",
    "    Args:\n",
    "        num_classes (int, opcional): numero de clases a clasificar, el default es 3\n",
    "        seed(int, opcional): semilla de aleatoriedad, el default es 42\n",
    "    \"\"\"\n",
    "    # 1. Creamos el modelo con los pesos y transforms correspondientes\n",
    "    weights = torchvision.models.EfficientNet_B2_Weights.DEFAULT\n",
    "    transforms = weights.transforms()\n",
    "    model = torchvision.models.efficientnet_b2(weights=weights)\n",
    "\n",
    "    # 2. requieres_grad = False en las capas base\n",
    "    for param in model.parameters():\n",
    "        param.requires_grad = False\n",
    "\n",
    "    # 3. Crear aleatoriedad y cambiar el head del modelo\n",
    "    torch.manual_seed(seed)\n",
    "    model.classifier = nn.Sequential(\n",
    "        nn.Dropout(p=0.3, inplace=True),\n",
    "        nn.Linear(in_features=1408, out_features=num_classes)\n",
    "    )\n",
    "\n",
    "    return model, transforms"
   ]
  },
  {
   "cell_type": "code",
   "execution_count": 8,
   "id": "edaa69e5",
   "metadata": {},
   "outputs": [],
   "source": [
    "effnetb2, effnetb2_transforms = create_effnetb2_model(num_classes=3,seed=42)"
   ]
  },
  {
   "cell_type": "code",
   "execution_count": 9,
   "id": "838b6749",
   "metadata": {},
   "outputs": [
    {
     "data": {
      "text/plain": [
       "============================================================================================================================================\n",
       "Layer (type (var_name))                                      Input Shape          Output Shape         Param #              Trainable\n",
       "============================================================================================================================================\n",
       "EfficientNet (EfficientNet)                                  [1, 3, 224, 224]     [1, 3]               --                   Partial\n",
       "├─Sequential (features)                                      [1, 3, 224, 224]     [1, 1408, 7, 7]      --                   False\n",
       "│    └─Conv2dNormActivation (0)                              [1, 3, 224, 224]     [1, 32, 112, 112]    --                   False\n",
       "│    │    └─Conv2d (0)                                       [1, 3, 224, 224]     [1, 32, 112, 112]    (864)                False\n",
       "│    │    └─BatchNorm2d (1)                                  [1, 32, 112, 112]    [1, 32, 112, 112]    (64)                 False\n",
       "│    │    └─SiLU (2)                                         [1, 32, 112, 112]    [1, 32, 112, 112]    --                   --\n",
       "│    └─Sequential (1)                                        [1, 32, 112, 112]    [1, 16, 112, 112]    --                   False\n",
       "│    │    └─MBConv (0)                                       [1, 32, 112, 112]    [1, 16, 112, 112]    (1,448)              False\n",
       "│    │    └─MBConv (1)                                       [1, 16, 112, 112]    [1, 16, 112, 112]    (612)                False\n",
       "│    └─Sequential (2)                                        [1, 16, 112, 112]    [1, 24, 56, 56]      --                   False\n",
       "│    │    └─MBConv (0)                                       [1, 16, 112, 112]    [1, 24, 56, 56]      (6,004)              False\n",
       "│    │    └─MBConv (1)                                       [1, 24, 56, 56]      [1, 24, 56, 56]      (10,710)             False\n",
       "│    │    └─MBConv (2)                                       [1, 24, 56, 56]      [1, 24, 56, 56]      (10,710)             False\n",
       "│    └─Sequential (3)                                        [1, 24, 56, 56]      [1, 48, 28, 28]      --                   False\n",
       "│    │    └─MBConv (0)                                       [1, 24, 56, 56]      [1, 48, 28, 28]      (16,518)             False\n",
       "│    │    └─MBConv (1)                                       [1, 48, 28, 28]      [1, 48, 28, 28]      (43,308)             False\n",
       "│    │    └─MBConv (2)                                       [1, 48, 28, 28]      [1, 48, 28, 28]      (43,308)             False\n",
       "│    └─Sequential (4)                                        [1, 48, 28, 28]      [1, 88, 14, 14]      --                   False\n",
       "│    │    └─MBConv (0)                                       [1, 48, 28, 28]      [1, 88, 14, 14]      (50,300)             False\n",
       "│    │    └─MBConv (1)                                       [1, 88, 14, 14]      [1, 88, 14, 14]      (123,750)            False\n",
       "│    │    └─MBConv (2)                                       [1, 88, 14, 14]      [1, 88, 14, 14]      (123,750)            False\n",
       "│    │    └─MBConv (3)                                       [1, 88, 14, 14]      [1, 88, 14, 14]      (123,750)            False\n",
       "│    └─Sequential (5)                                        [1, 88, 14, 14]      [1, 120, 14, 14]     --                   False\n",
       "│    │    └─MBConv (0)                                       [1, 88, 14, 14]      [1, 120, 14, 14]     (149,158)            False\n",
       "│    │    └─MBConv (1)                                       [1, 120, 14, 14]     [1, 120, 14, 14]     (237,870)            False\n",
       "│    │    └─MBConv (2)                                       [1, 120, 14, 14]     [1, 120, 14, 14]     (237,870)            False\n",
       "│    │    └─MBConv (3)                                       [1, 120, 14, 14]     [1, 120, 14, 14]     (237,870)            False\n",
       "│    └─Sequential (6)                                        [1, 120, 14, 14]     [1, 208, 7, 7]       --                   False\n",
       "│    │    └─MBConv (0)                                       [1, 120, 14, 14]     [1, 208, 7, 7]       (301,406)            False\n",
       "│    │    └─MBConv (1)                                       [1, 208, 7, 7]       [1, 208, 7, 7]       (686,868)            False\n",
       "│    │    └─MBConv (2)                                       [1, 208, 7, 7]       [1, 208, 7, 7]       (686,868)            False\n",
       "│    │    └─MBConv (3)                                       [1, 208, 7, 7]       [1, 208, 7, 7]       (686,868)            False\n",
       "│    │    └─MBConv (4)                                       [1, 208, 7, 7]       [1, 208, 7, 7]       (686,868)            False\n",
       "│    └─Sequential (7)                                        [1, 208, 7, 7]       [1, 352, 7, 7]       --                   False\n",
       "│    │    └─MBConv (0)                                       [1, 208, 7, 7]       [1, 352, 7, 7]       (846,900)            False\n",
       "│    │    └─MBConv (1)                                       [1, 352, 7, 7]       [1, 352, 7, 7]       (1,888,920)          False\n",
       "│    └─Conv2dNormActivation (8)                              [1, 352, 7, 7]       [1, 1408, 7, 7]      --                   False\n",
       "│    │    └─Conv2d (0)                                       [1, 352, 7, 7]       [1, 1408, 7, 7]      (495,616)            False\n",
       "│    │    └─BatchNorm2d (1)                                  [1, 1408, 7, 7]      [1, 1408, 7, 7]      (2,816)              False\n",
       "│    │    └─SiLU (2)                                         [1, 1408, 7, 7]      [1, 1408, 7, 7]      --                   --\n",
       "├─AdaptiveAvgPool2d (avgpool)                                [1, 1408, 7, 7]      [1, 1408, 1, 1]      --                   --\n",
       "├─Sequential (classifier)                                    [1, 1408]            [1, 3]               --                   True\n",
       "│    └─Dropout (0)                                           [1, 1408]            [1, 1408]            --                   --\n",
       "│    └─Linear (1)                                            [1, 1408]            [1, 3]               4,227                True\n",
       "============================================================================================================================================\n",
       "Total params: 7,705,221\n",
       "Trainable params: 4,227\n",
       "Non-trainable params: 7,700,994\n",
       "Total mult-adds (Units.MEGABYTES): 657.64\n",
       "============================================================================================================================================\n",
       "Input size (MB): 0.60\n",
       "Forward/backward pass size (MB): 156.80\n",
       "Params size (MB): 30.82\n",
       "Estimated Total Size (MB): 188.22\n",
       "============================================================================================================================================"
      ]
     },
     "execution_count": 9,
     "metadata": {},
     "output_type": "execute_result"
    }
   ],
   "source": [
    "from torchinfo import summary\n",
    "\n",
    "summary(effnetb2, \n",
    "         input_size=(1, 3, 224, 224),\n",
    "         col_names=[\"input_size\", \"output_size\", \"num_params\", \"trainable\"],\n",
    "         col_width=20,\n",
    "         row_settings=[\"var_names\"])"
   ]
  },
  {
   "cell_type": "code",
   "execution_count": 10,
   "id": "a3a91244",
   "metadata": {},
   "outputs": [],
   "source": [
    "# DataLoaders\n",
    "from going_modular.going_modular import data_setup\n",
    "train_data_loader_effnetb2, test_data_loader_effnetb2, class_names = data_setup.create_dataloaders(train_dir=train_dir,\n",
    "                                                                                                   test_dir=test_dir,\n",
    "                                                                                                   transform=effnetb2_transforms,\n",
    "                                                                                                   batch_size=32)\n",
    "\n",
    "# len(train_data_loader_effnetb2), len(test_data_loader_effnetb2), class_names"
   ]
  },
  {
   "cell_type": "code",
   "execution_count": 11,
   "id": "d8aacb9f",
   "metadata": {},
   "outputs": [
    {
     "name": "stderr",
     "output_type": "stream",
     "text": [
      "  0%|          | 0/10 [00:00<?, ?it/s]c:\\Users\\marti\\AppData\\Local\\Programs\\Python\\Python313\\Lib\\site-packages\\torch\\utils\\data\\dataloader.py:665: UserWarning: 'pin_memory' argument is set as true but no accelerator is found, then device pinned memory won't be used.\n",
      "  warnings.warn(warn_msg)\n",
      " 10%|█         | 1/10 [03:06<27:58, 186.49s/it]"
     ]
    },
    {
     "name": "stdout",
     "output_type": "stream",
     "text": [
      "Epoch: 1 | train_loss: 0.9877 | train_acc: 0.5729 | test_loss: 0.7434 | test_acc: 0.9284\n"
     ]
    },
    {
     "name": "stderr",
     "output_type": "stream",
     "text": [
      " 20%|██        | 2/10 [05:41<22:23, 167.99s/it]"
     ]
    },
    {
     "name": "stdout",
     "output_type": "stream",
     "text": [
      "Epoch: 2 | train_loss: 0.7031 | train_acc: 0.8854 | test_loss: 0.5845 | test_acc: 0.9409\n"
     ]
    },
    {
     "name": "stderr",
     "output_type": "stream",
     "text": [
      " 30%|███       | 3/10 [08:03<18:11, 155.93s/it]"
     ]
    },
    {
     "name": "stdout",
     "output_type": "stream",
     "text": [
      "Epoch: 3 | train_loss: 0.5907 | train_acc: 0.8187 | test_loss: 0.4750 | test_acc: 0.9347\n"
     ]
    },
    {
     "name": "stderr",
     "output_type": "stream",
     "text": [
      " 40%|████      | 4/10 [10:30<15:15, 152.63s/it]"
     ]
    },
    {
     "name": "stdout",
     "output_type": "stream",
     "text": [
      "Epoch: 4 | train_loss: 0.4885 | train_acc: 0.8729 | test_loss: 0.4018 | test_acc: 0.9409\n"
     ]
    },
    {
     "name": "stderr",
     "output_type": "stream",
     "text": [
      " 50%|█████     | 5/10 [12:36<11:54, 142.97s/it]"
     ]
    },
    {
     "name": "stdout",
     "output_type": "stream",
     "text": [
      "Epoch: 5 | train_loss: 0.4122 | train_acc: 0.9271 | test_loss: 0.3759 | test_acc: 0.9659\n"
     ]
    },
    {
     "name": "stderr",
     "output_type": "stream",
     "text": [
      " 60%|██████    | 6/10 [14:43<09:09, 137.41s/it]"
     ]
    },
    {
     "name": "stdout",
     "output_type": "stream",
     "text": [
      "Epoch: 6 | train_loss: 0.4277 | train_acc: 0.8875 | test_loss: 0.3498 | test_acc: 0.9659\n"
     ]
    },
    {
     "name": "stderr",
     "output_type": "stream",
     "text": [
      " 70%|███████   | 7/10 [16:39<06:31, 130.44s/it]"
     ]
    },
    {
     "name": "stdout",
     "output_type": "stream",
     "text": [
      "Epoch: 7 | train_loss: 0.3927 | train_acc: 0.8792 | test_loss: 0.3230 | test_acc: 0.9347\n"
     ]
    },
    {
     "name": "stderr",
     "output_type": "stream",
     "text": [
      " 80%|████████  | 8/10 [18:42<04:16, 128.07s/it]"
     ]
    },
    {
     "name": "stdout",
     "output_type": "stream",
     "text": [
      "Epoch: 8 | train_loss: 0.3267 | train_acc: 0.8896 | test_loss: 0.3115 | test_acc: 0.9437\n"
     ]
    },
    {
     "name": "stderr",
     "output_type": "stream",
     "text": [
      " 90%|█████████ | 9/10 [20:35<02:03, 123.48s/it]"
     ]
    },
    {
     "name": "stdout",
     "output_type": "stream",
     "text": [
      "Epoch: 9 | train_loss: 0.3139 | train_acc: 0.9083 | test_loss: 0.3006 | test_acc: 0.9563\n"
     ]
    },
    {
     "name": "stderr",
     "output_type": "stream",
     "text": [
      "100%|██████████| 10/10 [22:16<00:00, 133.66s/it]"
     ]
    },
    {
     "name": "stdout",
     "output_type": "stream",
     "text": [
      "Epoch: 10 | train_loss: 0.2874 | train_acc: 0.9396 | test_loss: 0.2657 | test_acc: 0.9597\n"
     ]
    },
    {
     "name": "stderr",
     "output_type": "stream",
     "text": [
      "\n"
     ]
    }
   ],
   "source": [
    "# Llevemos los datos al modelo entonces...\n",
    "\n",
    "from going_modular.going_modular import engine\n",
    "\n",
    "# Función de perdida\n",
    "loss_fn = torch.nn.CrossEntropyLoss()\n",
    "\n",
    "# Optimizador\n",
    "optimizer = torch.optim.Adam(params=effnetb2.parameters(),\n",
    "                             lr=1e-3)\n",
    "\n",
    "# Función de entrenamiento de engine\n",
    "set_seeds()\n",
    "effnetb2_results = engine.train(model=effnetb2,\n",
    "                                train_dataloader=train_data_loader_effnetb2,\n",
    "                                test_dataloader=test_data_loader_effnetb2,\n",
    "                                epochs=10,\n",
    "                                optimizer=optimizer,\n",
    "                                loss_fn=loss_fn,\n",
    "                                device=\"cpu\")"
   ]
  },
  {
   "cell_type": "code",
   "execution_count": 12,
   "id": "ba5579dd",
   "metadata": {},
   "outputs": [
    {
     "data": {
      "image/png": "[encoded data removed]",
      "text/plain": [
       "<Figure size 1500x700 with 2 Axes>"
      ]
     },
     "metadata": {},
     "output_type": "display_data"
    }
   ],
   "source": [
    "# Grafiquemos esto...\n",
    "from helper_functions import plot_loss_curves\n",
    "\n",
    "plot_loss_curves(results=effnetb2_results)"
   ]
  },
  {
   "cell_type": "markdown",
   "id": "f7346333",
   "metadata": {},
   "source": [
    "El modelo responde muy bien, no esta sobreentrenado, una buena idea será guardarlo.\n",
    "\n",
    "Así sea bueno, es importante previo a sacarlo a producción ver cuanto pesa."
   ]
  },
  {
   "cell_type": "code",
   "execution_count": 13,
   "id": "6d822eb6",
   "metadata": {},
   "outputs": [
    {
     "name": "stdout",
     "output_type": "stream",
     "text": [
      "[INFO] Saving model to: models\\09_pretrained_effnetb2_feature_extractor_pizza_steak_sushi_20_percent.pth\n"
     ]
    }
   ],
   "source": [
    "from going_modular.going_modular import utils\n",
    "\n",
    "utils.save_model(model=effnetb2,\n",
    "                 target_dir=\"models\",\n",
    "                 model_name=\"09_pretrained_effnetb2_feature_extractor_pizza_steak_sushi_20_percent.pth\")"
   ]
  },
  {
   "cell_type": "code",
   "execution_count": 14,
   "id": "083ef6fc",
   "metadata": {},
   "outputs": [
    {
     "name": "stdout",
     "output_type": "stream",
     "text": [
      "Tamaño del pretrained effnetb2 feature extractor model: 29.86 MB\n"
     ]
    }
   ],
   "source": [
    "from pathlib import Path\n",
    "\n",
    "pretrained_effnetb2_model_size = Path(\"models/09_pretrained_effnetb2_feature_extractor_pizza_steak_sushi_20_percent.pth\").stat().st_size / (1024 * 1024)\n",
    "print(f\"Tamaño del pretrained effnetb2 feature extractor model: {round(pretrained_effnetb2_model_size, 2)} MB\")"
   ]
  },
  {
   "cell_type": "code",
   "execution_count": 15,
   "id": "60b3fc26",
   "metadata": {},
   "outputs": [
    {
     "data": {
      "text/plain": [
       "{'test_loss': 0.2656757295131683,\n",
       " 'test_acc': 0.959659090909091,\n",
       " 'number_of_parameters': 7705221,\n",
       " 'model_size': 29.8577299118042}"
      ]
     },
     "execution_count": 15,
     "metadata": {},
     "output_type": "execute_result"
    }
   ],
   "source": [
    "# Diccionario con las estadisticas de nuestro EffNetB2\n",
    "\n",
    "effnet2_total_params = sum(torch.numel(param) for param in effnetb2.parameters()) # Iteramos por compresión y sumamos...\n",
    "\n",
    "effnetb2_stats = {\"test_loss\": effnetb2_results[\"test_loss\"][-1],\n",
    "                  \"test_acc\": effnetb2_results[\"test_acc\"][-1],\n",
    "                  \"number_of_parameters\": effnet2_total_params,\n",
    "                  \"model_size\": pretrained_effnetb2_model_size}\n",
    "\n",
    "effnetb2_stats"
   ]
  },
  {
   "cell_type": "markdown",
   "id": "45f7e074",
   "metadata": {},
   "source": [
    "# Hacemos lo mismo con ViT"
   ]
  },
  {
   "cell_type": "code",
   "execution_count": 16,
   "id": "0e4816b4",
   "metadata": {},
   "outputs": [
    {
     "data": {
      "text/plain": [
       "Sequential(\n",
       "  (head): Linear(in_features=768, out_features=1000, bias=True)\n",
       ")"
      ]
     },
     "execution_count": 16,
     "metadata": {},
     "output_type": "execute_result"
    }
   ],
   "source": [
    "vit = torchvision.models.vit_b_16()\n",
    "vit.heads # Cambiar outputs"
   ]
  },
  {
   "cell_type": "code",
   "execution_count": 17,
   "id": "cb3203ee",
   "metadata": {},
   "outputs": [],
   "source": [
    "def create_vit_model(num_classes:int=3,\n",
    "                     seed:int=42):\n",
    "    # Crear un modelo ViT_B_16 pre entrenado con pesos y transforms\n",
    "    weights = torchvision.models.ViT_B_16_Weights.DEFAULT\n",
    "    transforms = weights.transforms()\n",
    "    model = torchvision.models.vit_b_16(weights=weights)\n",
    "\n",
    "    for param in model.parameters():\n",
    "        param.requires_grad = False\n",
    "    \n",
    "    torch.manual_seed(seed)\n",
    "    model.heads = nn.Sequential(nn.Linear(in_features=768,\n",
    "                                          out_features=num_classes))\n",
    "    \n",
    "    return model, transforms"
   ]
  },
  {
   "cell_type": "code",
   "execution_count": 18,
   "id": "c247f92a",
   "metadata": {},
   "outputs": [
    {
     "data": {
      "text/plain": [
       "ImageClassification(\n",
       "    crop_size=[224]\n",
       "    resize_size=[256]\n",
       "    mean=[0.485, 0.456, 0.406]\n",
       "    std=[0.229, 0.224, 0.225]\n",
       "    interpolation=InterpolationMode.BILINEAR\n",
       ")"
      ]
     },
     "execution_count": 18,
     "metadata": {},
     "output_type": "execute_result"
    }
   ],
   "source": [
    "vit, vit_transforms = create_vit_model()\n",
    "vit_transforms"
   ]
  },
  {
   "cell_type": "code",
   "execution_count": 19,
   "id": "69f495d6",
   "metadata": {},
   "outputs": [
    {
     "data": {
      "text/plain": [
       "ImageClassification(\n",
       "    crop_size=[288]\n",
       "    resize_size=[288]\n",
       "    mean=[0.485, 0.456, 0.406]\n",
       "    std=[0.229, 0.224, 0.225]\n",
       "    interpolation=InterpolationMode.BICUBIC\n",
       ")"
      ]
     },
     "execution_count": 19,
     "metadata": {},
     "output_type": "execute_result"
    }
   ],
   "source": [
    "effnetb2_transforms # Son casi iguales"
   ]
  },
  {
   "cell_type": "code",
   "execution_count": 20,
   "id": "44824853",
   "metadata": {},
   "outputs": [
    {
     "data": {
      "text/plain": [
       "============================================================================================================================================\n",
       "Layer (type (var_name))                                      Input Shape          Output Shape         Param #              Trainable\n",
       "============================================================================================================================================\n",
       "VisionTransformer (VisionTransformer)                        [1, 3, 224, 224]     [1, 3]               768                  Partial\n",
       "├─Conv2d (conv_proj)                                         [1, 3, 224, 224]     [1, 768, 14, 14]     (590,592)            False\n",
       "├─Encoder (encoder)                                          [1, 197, 768]        [1, 197, 768]        151,296              False\n",
       "│    └─Dropout (dropout)                                     [1, 197, 768]        [1, 197, 768]        --                   --\n",
       "│    └─Sequential (layers)                                   [1, 197, 768]        [1, 197, 768]        --                   False\n",
       "│    │    └─EncoderBlock (encoder_layer_0)                   [1, 197, 768]        [1, 197, 768]        (7,087,872)          False\n",
       "│    │    └─EncoderBlock (encoder_layer_1)                   [1, 197, 768]        [1, 197, 768]        (7,087,872)          False\n",
       "│    │    └─EncoderBlock (encoder_layer_2)                   [1, 197, 768]        [1, 197, 768]        (7,087,872)          False\n",
       "│    │    └─EncoderBlock (encoder_layer_3)                   [1, 197, 768]        [1, 197, 768]        (7,087,872)          False\n",
       "│    │    └─EncoderBlock (encoder_layer_4)                   [1, 197, 768]        [1, 197, 768]        (7,087,872)          False\n",
       "│    │    └─EncoderBlock (encoder_layer_5)                   [1, 197, 768]        [1, 197, 768]        (7,087,872)          False\n",
       "│    │    └─EncoderBlock (encoder_layer_6)                   [1, 197, 768]        [1, 197, 768]        (7,087,872)          False\n",
       "│    │    └─EncoderBlock (encoder_layer_7)                   [1, 197, 768]        [1, 197, 768]        (7,087,872)          False\n",
       "│    │    └─EncoderBlock (encoder_layer_8)                   [1, 197, 768]        [1, 197, 768]        (7,087,872)          False\n",
       "│    │    └─EncoderBlock (encoder_layer_9)                   [1, 197, 768]        [1, 197, 768]        (7,087,872)          False\n",
       "│    │    └─EncoderBlock (encoder_layer_10)                  [1, 197, 768]        [1, 197, 768]        (7,087,872)          False\n",
       "│    │    └─EncoderBlock (encoder_layer_11)                  [1, 197, 768]        [1, 197, 768]        (7,087,872)          False\n",
       "│    └─LayerNorm (ln)                                        [1, 197, 768]        [1, 197, 768]        (1,536)              False\n",
       "├─Sequential (heads)                                         [1, 768]             [1, 3]               --                   True\n",
       "│    └─Linear (0)                                            [1, 768]             [1, 3]               2,307                True\n",
       "============================================================================================================================================\n",
       "Total params: 85,800,963\n",
       "Trainable params: 2,307\n",
       "Non-trainable params: 85,798,656\n",
       "Total mult-adds (Units.MEGABYTES): 172.47\n",
       "============================================================================================================================================\n",
       "Input size (MB): 0.60\n",
       "Forward/backward pass size (MB): 104.09\n",
       "Params size (MB): 229.20\n",
       "Estimated Total Size (MB): 333.89\n",
       "============================================================================================================================================"
      ]
     },
     "execution_count": 20,
     "metadata": {},
     "output_type": "execute_result"
    }
   ],
   "source": [
    "from torchinfo import summary\n",
    "\n",
    "summary(vit, \n",
    "        input_size=(1, 3, 224, 224),\n",
    "        col_names=[\"input_size\", \"output_size\", \"num_params\", \"trainable\"],\n",
    "        col_width=20,\n",
    "        row_settings=[\"var_names\"])"
   ]
  },
  {
   "cell_type": "markdown",
   "id": "1e80cb4c",
   "metadata": {},
   "source": [
    "# DataLoadersr para ViT feature extractor"
   ]
  },
  {
   "cell_type": "code",
   "execution_count": 21,
   "id": "e236a5ba",
   "metadata": {},
   "outputs": [],
   "source": [
    "from going_modular.going_modular import data_setup\n",
    "\n",
    "train_data_loader_vit, test_data_loader_vit, class_names = data_setup.create_dataloaders(train_dir=train_dir,\n",
    "                                                                                         test_dir=test_dir,\n",
    "                                                                                         transform=vit_transforms,\n",
    "                                                                                         batch_size=32)\n",
    "\n",
    "# len(train_data_loader_vit), len(test_data_loader_vit), class_names"
   ]
  },
  {
   "cell_type": "markdown",
   "id": "c1e25fcc",
   "metadata": {},
   "source": [
    "# Entrenamiento para ViT feature extractor"
   ]
  },
  {
   "cell_type": "code",
   "execution_count": 22,
   "id": "cac8ef5f",
   "metadata": {},
   "outputs": [
    {
     "name": "stderr",
     "output_type": "stream",
     "text": [
      " 10%|█         | 1/10 [03:49<34:21, 229.09s/it]"
     ]
    },
    {
     "name": "stdout",
     "output_type": "stream",
     "text": [
      "Epoch: 1 | train_loss: 0.7020 | train_acc: 0.7521 | test_loss: 0.2714 | test_acc: 0.9381\n"
     ]
    },
    {
     "name": "stderr",
     "output_type": "stream",
     "text": [
      " 20%|██        | 2/10 [08:51<36:18, 272.36s/it]"
     ]
    },
    {
     "name": "stdout",
     "output_type": "stream",
     "text": [
      "Epoch: 2 | train_loss: 0.2532 | train_acc: 0.9062 | test_loss: 0.1672 | test_acc: 0.9602\n"
     ]
    },
    {
     "name": "stderr",
     "output_type": "stream",
     "text": [
      " 30%|███       | 3/10 [14:18<34:40, 297.18s/it]"
     ]
    },
    {
     "name": "stdout",
     "output_type": "stream",
     "text": [
      "Epoch: 3 | train_loss: 0.1764 | train_acc: 0.9542 | test_loss: 0.1273 | test_acc: 0.9693\n"
     ]
    },
    {
     "name": "stderr",
     "output_type": "stream",
     "text": [
      " 40%|████      | 4/10 [19:05<29:18, 293.00s/it]"
     ]
    },
    {
     "name": "stdout",
     "output_type": "stream",
     "text": [
      "Epoch: 4 | train_loss: 0.1276 | train_acc: 0.9625 | test_loss: 0.1074 | test_acc: 0.9722\n"
     ]
    },
    {
     "name": "stderr",
     "output_type": "stream",
     "text": [
      " 50%|█████     | 5/10 [23:11<23:01, 276.24s/it]"
     ]
    },
    {
     "name": "stdout",
     "output_type": "stream",
     "text": [
      "Epoch: 5 | train_loss: 0.1159 | train_acc: 0.9646 | test_loss: 0.0953 | test_acc: 0.9784\n"
     ]
    },
    {
     "name": "stderr",
     "output_type": "stream",
     "text": [
      " 60%|██████    | 6/10 [27:26<17:55, 268.92s/it]"
     ]
    },
    {
     "name": "stdout",
     "output_type": "stream",
     "text": [
      "Epoch: 6 | train_loss: 0.1274 | train_acc: 0.9375 | test_loss: 0.0832 | test_acc: 0.9722\n"
     ]
    },
    {
     "name": "stderr",
     "output_type": "stream",
     "text": [
      " 70%|███████   | 7/10 [31:54<13:26, 268.70s/it]"
     ]
    },
    {
     "name": "stdout",
     "output_type": "stream",
     "text": [
      "Epoch: 7 | train_loss: 0.0897 | train_acc: 0.9771 | test_loss: 0.0845 | test_acc: 0.9784\n"
     ]
    },
    {
     "name": "stderr",
     "output_type": "stream",
     "text": [
      " 80%|████████  | 8/10 [36:35<09:05, 272.64s/it]"
     ]
    },
    {
     "name": "stdout",
     "output_type": "stream",
     "text": [
      "Epoch: 8 | train_loss: 0.0919 | train_acc: 0.9812 | test_loss: 0.0764 | test_acc: 0.9722\n"
     ]
    },
    {
     "name": "stderr",
     "output_type": "stream",
     "text": [
      " 90%|█████████ | 9/10 [41:12<04:33, 273.96s/it]"
     ]
    },
    {
     "name": "stdout",
     "output_type": "stream",
     "text": [
      "Epoch: 9 | train_loss: 0.0922 | train_acc: 0.9792 | test_loss: 0.0734 | test_acc: 0.9784\n"
     ]
    },
    {
     "name": "stderr",
     "output_type": "stream",
     "text": [
      "100%|██████████| 10/10 [46:32<00:00, 279.29s/it]"
     ]
    },
    {
     "name": "stdout",
     "output_type": "stream",
     "text": [
      "Epoch: 10 | train_loss: 0.0658 | train_acc: 0.9833 | test_loss: 0.0644 | test_acc: 0.9847\n"
     ]
    },
    {
     "name": "stderr",
     "output_type": "stream",
     "text": [
      "\n"
     ]
    }
   ],
   "source": [
    "from going_modular.going_modular import engine\n",
    "\n",
    "# Optimizador\n",
    "optimizer = torch.optim.Adam(params=vit.parameters(),\n",
    "                             lr=1e-3)\n",
    "\n",
    "# Función de perdida\n",
    "loss_fn = torch.nn.CrossEntropyLoss()\n",
    "\n",
    "# Entrenamiento...\n",
    "set_seeds()\n",
    "vit_results = engine.train(model=vit, \n",
    "                           train_dataloader=train_data_loader_vit,\n",
    "                           test_dataloader=test_data_loader_vit,\n",
    "                           loss_fn=loss_fn,\n",
    "                           optimizer=optimizer,\n",
    "                           epochs=10,\n",
    "                           device=\"cpu\")"
   ]
  },
  {
   "cell_type": "code",
   "execution_count": 23,
   "id": "34cf33e5",
   "metadata": {},
   "outputs": [
    {
     "data": {
      "image/png": "[encoded data removed]",
      "text/plain": [
       "<Figure size 1500x700 with 2 Axes>"
      ]
     },
     "metadata": {},
     "output_type": "display_data"
    }
   ],
   "source": [
    "from helper_functions import plot_loss_curves\n",
    "\n",
    "plot_loss_curves(vit_results) # Se hizo desear pero funcino bien"
   ]
  },
  {
   "cell_type": "code",
   "execution_count": 24,
   "id": "c272a213",
   "metadata": {},
   "outputs": [
    {
     "name": "stdout",
     "output_type": "stream",
     "text": [
      "[INFO] Saving model to: models\\09_pretrained_vir_feature_extractor_pizza_steak_sushi_20_percent.pth\n"
     ]
    }
   ],
   "source": [
    "# Guardemos el modelo...\n",
    "from going_modular.going_modular import utils\n",
    "\n",
    "utils.save_model(model=vit,\n",
    "                 target_dir=\"models\",\n",
    "                 model_name=\"09_pretrained_vir_feature_extractor_pizza_steak_sushi_20_percent.pth\")"
   ]
  },
  {
   "cell_type": "code",
   "execution_count": 25,
   "id": "5c019c8a",
   "metadata": {},
   "outputs": [
    {
     "name": "stdout",
     "output_type": "stream",
     "text": [
      "Tamaño del modelo preentrenado ViT: 327 MB\n"
     ]
    }
   ],
   "source": [
    "\n",
    "from pathlib import Path\n",
    "pretrained_vit_model_size = Path(\"models/09_pretrained_vir_feature_extractor_pizza_steak_sushi_20_percent.pth\").stat().st_size // (1024*1024)\n",
    "print(f\"Tamaño del modelo preentrenado ViT: {pretrained_vit_model_size} MB\")"
   ]
  },
  {
   "cell_type": "code",
   "execution_count": 26,
   "id": "693194eb",
   "metadata": {},
   "outputs": [],
   "source": [
    "vit_total_params = sum(torch.numel(param) for param in vit.parameters())\n",
    "vit_total_params\n",
    "\n",
    "# Diccionario de las estadisticas de nuestro modelo ViT\n",
    "\n",
    "vit_stats = {\"test_loss\": vit_results[\"test_loss\"][-1],\n",
    "             \"test_acc\": vit_results[\"test_acc\"][-1],\n",
    "             \"number_of_parameters\": vit_total_params,\n",
    "             \"model_size\": pretrained_vit_model_size}\n"
   ]
  },
  {
   "cell_type": "markdown",
   "id": "d03d193d",
   "metadata": {},
   "source": [
    "Ya podrémos crear predicciones con nuestros modelos, creemos entonces una lista con los directorios correspondientes..."
   ]
  },
  {
   "cell_type": "code",
   "execution_count": 27,
   "id": "5d9bb2c1",
   "metadata": {},
   "outputs": [
    {
     "name": "stdout",
     "output_type": "stream",
     "text": [
      "[INFO] Encontrando todos los .jpg del directorio: data\\pizza_steak_sushi_20_percent\\test...\n"
     ]
    }
   ],
   "source": [
    "from pathlib import Path\n",
    "\n",
    "print(f\"[INFO] Encontrando todos los .jpg del directorio: {test_dir}...\")\n",
    "test_data_paths = list(Path(test_dir).glob(\"*/*.jpg\"))"
   ]
  },
  {
   "cell_type": "markdown",
   "id": "96af1792",
   "metadata": {},
   "source": [
    "# Función para generar predicciones\n",
    "\n",
    "Ahora que ya tenemos una lista de rutas de imagenes podrémos crear una función *pred_and_store()*:\n",
    "\n",
    "1. Creamos una función que toma una lista de rutas de imagenes, un modelo entrenado de PyTorch, una serie de Transforms, una lista de clases a predecir y el device (cuda o cpu, dado que hice por terco el curso en mi PC siempre será cpu).\n",
    "2. Crear una lista vacia para almacenar un diccionario con predicciones. Buscamos una función que retorne una lista de diccinarios, uno por predicción.\n",
    "3. Iterar por la ruta deseada. \n",
    "4. Crear un diccionario vacio por cada iteración en el loop para guardar los valores predictivos por muestra.\n",
    "5. Obtener la ruta de la muestra y el nombre de la clase verdadera.\n",
    "6. Inicializar un timer usando `timeit.default_timer()`.\n",
    "7. Abrir la imagen usando `PIL.Image.open(path)`\n",
    "8. Transformar la imagen (transform) para que pueda ser utilizada por nuestro modelo agregando una dimensión batch y enviar la imagen al device.\n",
    "9. Preparar el modelo en `inference_mode()` y ponerlo en modo `eval()`.\n",
    "10. Calcular la probabiblidad de la predicción son `torch.softmax()` y el label usando `torch.argmax()`.\n",
    "11. Añadir la probabilidad de predicción y clase al diccionario creado en el paso 4.\n",
    "12. Finalizar el timer creado en el paso 6. \n",
    "13. Ver si la predicción es valida. \n",
    "14. Añadir esta al diccinario.\n",
    "15. Retornar la lista de diccinarios de predicción."
   ]
  },
  {
   "cell_type": "code",
   "execution_count": 28,
   "id": "df7f31f4",
   "metadata": {},
   "outputs": [],
   "source": [
    "import pathlib\n",
    "import torch\n",
    "\n",
    "from PIL import Image\n",
    "from timeit import default_timer as timer\n",
    "from tqdm.auto import tqdm\n",
    "from typing import List, Dict\n",
    "\n",
    "# 1. Crear función\n",
    "\n",
    "def pred_and_store(paths: List[pathlib.Path],\n",
    "                   model: torch.nn.Module,\n",
    "                   transform: torchvision.transforms,\n",
    "                   class_names: List[str],\n",
    "                   device: str = \"cpu\") -> List[Dict]:\n",
    "    # 2. Lista vacia con predicciones\n",
    "    pred_list = []\n",
    "\n",
    "    # 3. Iteramos por los directorios\n",
    "    for path in tqdm(paths):\n",
    "\n",
    "        # 4. Diccionario vacio para guardar predicciones\n",
    "        pred_dict = {}\n",
    "\n",
    "        # 5. Muestra de la ruta y la clase verdadera\n",
    "        pred_dict[\"image_path\"] = path\n",
    "        class_name = path.parent.stem\n",
    "        pred_dict[\"class_name\"] = class_name\n",
    "\n",
    "        # 6. Inicializamos timer\n",
    "        start_time = timer()\n",
    "\n",
    "        # 7. Abrimos la ruta de  la imagen\n",
    "        img = Image.open(path)\n",
    "\n",
    "        # 8. Transformamos la imagen, añadimos una dimensión batch\n",
    "        transformed_image = transform(img).unsqueeze(0)\n",
    "\n",
    "        #9. model.eval()\n",
    "        model.eval()\n",
    "\n",
    "        # 10. Con la probabilidad de la predicción y en inference_mode() trabajamos sobre los proximos pasos\n",
    "        with torch.inference_mode():\n",
    "            pred_logit = model(transformed_image)\n",
    "            pred_prob = torch.softmax(pred_logit, dim=1)\n",
    "            pred_label = torch.argmax(pred_prob, dim=1)\n",
    "            pred_class = class_names[pred_label]\n",
    "\n",
    "            # 11. Añadimos la probabilidad al diccinario\n",
    "            pred_dict[\"pred_prob\"] = round(pred_prob.unsqueeze(0).max().cpu().item(), 4)\n",
    "            pred_dict[\"pred_class\"] = pred_class\n",
    "\n",
    "            # 12. Terminamos el timer()\n",
    "            end_time = timer()\n",
    "            pred_dict[\"time_for_pred\"] = round(end_time - start_time, 4)\n",
    "        \n",
    "        # 13. Ver si la predicción es valida\n",
    "        pred_dict[\"correct\"] = class_name == pred_class\n",
    "\n",
    "        # 14. Añadimos el diccionario a a lista...\n",
    "        pred_list.append(pred_dict)\n",
    "    \n",
    "    # Retornamos la lista...\n",
    "    return pred_list"
   ]
  },
  {
   "cell_type": "markdown",
   "id": "78c487d9",
   "metadata": {},
   "source": [
    "Ya podrémos probar nuestra función..."
   ]
  },
  {
   "cell_type": "code",
   "execution_count": 29,
   "id": "8b35cace",
   "metadata": {},
   "outputs": [
    {
     "name": "stderr",
     "output_type": "stream",
     "text": [
      "100%|██████████| 150/150 [00:15<00:00,  9.51it/s]\n"
     ]
    }
   ],
   "source": [
    "effnetb2_test_pred_dicts = pred_and_store(paths=test_data_paths,\n",
    "                                          model=effnetb2,\n",
    "                                          transform=effnetb2_transforms,\n",
    "                                          class_names=class_names,\n",
    "                                          device=\"cpu\")"
   ]
  },
  {
   "cell_type": "code",
   "execution_count": 30,
   "id": "bd437b17",
   "metadata": {},
   "outputs": [],
   "source": [
    "# effnetb2_test_pred_dicts"
   ]
  },
  {
   "cell_type": "code",
   "execution_count": 31,
   "id": "3021b714",
   "metadata": {},
   "outputs": [
    {
     "data": {
      "text/html": [
       "<div>\n",
       "<style scoped>\n",
       "    .dataframe tbody tr th:only-of-type {\n",
       "        vertical-align: middle;\n",
       "    }\n",
       "\n",
       "    .dataframe tbody tr th {\n",
       "        vertical-align: top;\n",
       "    }\n",
       "\n",
       "    .dataframe thead th {\n",
       "        text-align: right;\n",
       "    }\n",
       "</style>\n",
       "<table border=\"1\" class=\"dataframe\">\n",
       "  <thead>\n",
       "    <tr style=\"text-align: right;\">\n",
       "      <th></th>\n",
       "      <th>image_path</th>\n",
       "      <th>class_name</th>\n",
       "      <th>pred_prob</th>\n",
       "      <th>pred_class</th>\n",
       "      <th>time_for_pred</th>\n",
       "      <th>correct</th>\n",
       "    </tr>\n",
       "  </thead>\n",
       "  <tbody>\n",
       "    <tr>\n",
       "      <th>0</th>\n",
       "      <td>data\\pizza_steak_sushi_20_percent\\test\\pizza\\1...</td>\n",
       "      <td>pizza</td>\n",
       "      <td>0.9926</td>\n",
       "      <td>pizza</td>\n",
       "      <td>0.6010</td>\n",
       "      <td>True</td>\n",
       "    </tr>\n",
       "    <tr>\n",
       "      <th>1</th>\n",
       "      <td>data\\pizza_steak_sushi_20_percent\\test\\pizza\\1...</td>\n",
       "      <td>pizza</td>\n",
       "      <td>0.5349</td>\n",
       "      <td>pizza</td>\n",
       "      <td>0.1020</td>\n",
       "      <td>True</td>\n",
       "    </tr>\n",
       "    <tr>\n",
       "      <th>2</th>\n",
       "      <td>data\\pizza_steak_sushi_20_percent\\test\\pizza\\1...</td>\n",
       "      <td>pizza</td>\n",
       "      <td>0.9910</td>\n",
       "      <td>pizza</td>\n",
       "      <td>0.1170</td>\n",
       "      <td>True</td>\n",
       "    </tr>\n",
       "    <tr>\n",
       "      <th>3</th>\n",
       "      <td>data\\pizza_steak_sushi_20_percent\\test\\pizza\\1...</td>\n",
       "      <td>pizza</td>\n",
       "      <td>0.7013</td>\n",
       "      <td>pizza</td>\n",
       "      <td>0.0970</td>\n",
       "      <td>True</td>\n",
       "    </tr>\n",
       "    <tr>\n",
       "      <th>4</th>\n",
       "      <td>data\\pizza_steak_sushi_20_percent\\test\\pizza\\1...</td>\n",
       "      <td>pizza</td>\n",
       "      <td>0.7696</td>\n",
       "      <td>pizza</td>\n",
       "      <td>0.1023</td>\n",
       "      <td>True</td>\n",
       "    </tr>\n",
       "  </tbody>\n",
       "</table>\n",
       "</div>"
      ],
      "text/plain": [
       "                                          image_path class_name  pred_prob  \\\n",
       "0  data\\pizza_steak_sushi_20_percent\\test\\pizza\\1...      pizza     0.9926   \n",
       "1  data\\pizza_steak_sushi_20_percent\\test\\pizza\\1...      pizza     0.5349   \n",
       "2  data\\pizza_steak_sushi_20_percent\\test\\pizza\\1...      pizza     0.9910   \n",
       "3  data\\pizza_steak_sushi_20_percent\\test\\pizza\\1...      pizza     0.7013   \n",
       "4  data\\pizza_steak_sushi_20_percent\\test\\pizza\\1...      pizza     0.7696   \n",
       "\n",
       "  pred_class  time_for_pred  correct  \n",
       "0      pizza         0.6010     True  \n",
       "1      pizza         0.1020     True  \n",
       "2      pizza         0.1170     True  \n",
       "3      pizza         0.0970     True  \n",
       "4      pizza         0.1023     True  "
      ]
     },
     "execution_count": 31,
     "metadata": {},
     "output_type": "execute_result"
    }
   ],
   "source": [
    "# Llevaremos effnetb2_test_pred_dicts a un DataFrame, esto nos permitirá usar numpy para obtener datos relevantes de nuestro experimento...\n",
    "\n",
    "import pandas as pd\n",
    "\n",
    "effnetb2_test_pred_df = pd.DataFrame(effnetb2_test_pred_dicts)\n",
    "effnetb2_test_pred_df.head()"
   ]
  },
  {
   "cell_type": "code",
   "execution_count": 32,
   "id": "9c9fb9d2",
   "metadata": {},
   "outputs": [
    {
     "data": {
      "text/plain": [
       "correct\n",
       "True     144\n",
       "False      6\n",
       "Name: count, dtype: int64"
      ]
     },
     "execution_count": 32,
     "metadata": {},
     "output_type": "execute_result"
    }
   ],
   "source": [
    "effnetb2_test_pred_df.correct.value_counts() # correct -> campo del dataframe"
   ]
  },
  {
   "cell_type": "code",
   "execution_count": 33,
   "id": "56ef1468",
   "metadata": {},
   "outputs": [
    {
     "name": "stdout",
     "output_type": "stream",
     "text": [
      "Tiempo promedio por predicción effnetb2: 0.104\n"
     ]
    },
    {
     "data": {
      "text/plain": [
       "{'test_loss': 0.2656757295131683,\n",
       " 'test_acc': 0.959659090909091,\n",
       " 'number_of_parameters': 7705221,\n",
       " 'model_size': 29.8577299118042,\n",
       " 'time_per_pred_cpu': np.float64(0.104)}"
      ]
     },
     "execution_count": 33,
     "metadata": {},
     "output_type": "execute_result"
    }
   ],
   "source": [
    "# Tiempo promedio por predicción\n",
    "\n",
    "effnetb2_average_time_per_pred = round(effnetb2_test_pred_df.time_for_pred.mean(), 4)\n",
    "print(f\"Tiempo promedio por predicción effnetb2: {effnetb2_average_time_per_pred}\")\n",
    "\n",
    "effnetb2_stats[\"time_per_pred_cpu\"] = effnetb2_average_time_per_pred\n",
    "effnetb2_stats"
   ]
  },
  {
   "cell_type": "markdown",
   "id": "1d34f72a",
   "metadata": {},
   "source": [
    "Hagamos lo mismo con la arquitectura ViT:"
   ]
  },
  {
   "cell_type": "code",
   "execution_count": 34,
   "id": "8f7b23c0",
   "metadata": {},
   "outputs": [
    {
     "name": "stderr",
     "output_type": "stream",
     "text": [
      "100%|██████████| 150/150 [01:05<00:00,  2.30it/s]\n"
     ]
    }
   ],
   "source": [
    "vit_test_pred_dicts = pred_and_store(paths=test_data_paths,\n",
    "                                     model=vit,\n",
    "                                     transform=vit_transforms,\n",
    "                                     class_names=class_names,\n",
    "                                     device=\"cpu\")"
   ]
  },
  {
   "cell_type": "code",
   "execution_count": 35,
   "id": "31bd8916",
   "metadata": {},
   "outputs": [],
   "source": [
    "# vit_test_pred_dicts"
   ]
  },
  {
   "cell_type": "code",
   "execution_count": 36,
   "id": "ead653ac",
   "metadata": {},
   "outputs": [
    {
     "data": {
      "text/html": [
       "<div>\n",
       "<style scoped>\n",
       "    .dataframe tbody tr th:only-of-type {\n",
       "        vertical-align: middle;\n",
       "    }\n",
       "\n",
       "    .dataframe tbody tr th {\n",
       "        vertical-align: top;\n",
       "    }\n",
       "\n",
       "    .dataframe thead th {\n",
       "        text-align: right;\n",
       "    }\n",
       "</style>\n",
       "<table border=\"1\" class=\"dataframe\">\n",
       "  <thead>\n",
       "    <tr style=\"text-align: right;\">\n",
       "      <th></th>\n",
       "      <th>image_path</th>\n",
       "      <th>class_name</th>\n",
       "      <th>pred_prob</th>\n",
       "      <th>pred_class</th>\n",
       "      <th>time_for_pred</th>\n",
       "      <th>correct</th>\n",
       "    </tr>\n",
       "  </thead>\n",
       "  <tbody>\n",
       "    <tr>\n",
       "      <th>0</th>\n",
       "      <td>data\\pizza_steak_sushi_20_percent\\test\\pizza\\1...</td>\n",
       "      <td>pizza</td>\n",
       "      <td>0.9987</td>\n",
       "      <td>pizza</td>\n",
       "      <td>0.5633</td>\n",
       "      <td>True</td>\n",
       "    </tr>\n",
       "    <tr>\n",
       "      <th>1</th>\n",
       "      <td>data\\pizza_steak_sushi_20_percent\\test\\pizza\\1...</td>\n",
       "      <td>pizza</td>\n",
       "      <td>0.9957</td>\n",
       "      <td>pizza</td>\n",
       "      <td>0.4840</td>\n",
       "      <td>True</td>\n",
       "    </tr>\n",
       "    <tr>\n",
       "      <th>2</th>\n",
       "      <td>data\\pizza_steak_sushi_20_percent\\test\\pizza\\1...</td>\n",
       "      <td>pizza</td>\n",
       "      <td>0.9987</td>\n",
       "      <td>pizza</td>\n",
       "      <td>0.5316</td>\n",
       "      <td>True</td>\n",
       "    </tr>\n",
       "    <tr>\n",
       "      <th>3</th>\n",
       "      <td>data\\pizza_steak_sushi_20_percent\\test\\pizza\\1...</td>\n",
       "      <td>pizza</td>\n",
       "      <td>0.9869</td>\n",
       "      <td>pizza</td>\n",
       "      <td>0.4273</td>\n",
       "      <td>True</td>\n",
       "    </tr>\n",
       "    <tr>\n",
       "      <th>4</th>\n",
       "      <td>data\\pizza_steak_sushi_20_percent\\test\\pizza\\1...</td>\n",
       "      <td>pizza</td>\n",
       "      <td>0.9698</td>\n",
       "      <td>pizza</td>\n",
       "      <td>0.4220</td>\n",
       "      <td>True</td>\n",
       "    </tr>\n",
       "  </tbody>\n",
       "</table>\n",
       "</div>"
      ],
      "text/plain": [
       "                                          image_path class_name  pred_prob  \\\n",
       "0  data\\pizza_steak_sushi_20_percent\\test\\pizza\\1...      pizza     0.9987   \n",
       "1  data\\pizza_steak_sushi_20_percent\\test\\pizza\\1...      pizza     0.9957   \n",
       "2  data\\pizza_steak_sushi_20_percent\\test\\pizza\\1...      pizza     0.9987   \n",
       "3  data\\pizza_steak_sushi_20_percent\\test\\pizza\\1...      pizza     0.9869   \n",
       "4  data\\pizza_steak_sushi_20_percent\\test\\pizza\\1...      pizza     0.9698   \n",
       "\n",
       "  pred_class  time_for_pred  correct  \n",
       "0      pizza         0.5633     True  \n",
       "1      pizza         0.4840     True  \n",
       "2      pizza         0.5316     True  \n",
       "3      pizza         0.4273     True  \n",
       "4      pizza         0.4220     True  "
      ]
     },
     "execution_count": 36,
     "metadata": {},
     "output_type": "execute_result"
    }
   ],
   "source": [
    "import pandas as pd\n",
    "vit_test_pred_df = pd.DataFrame(vit_test_pred_dicts)\n",
    "vit_test_pred_df.head()"
   ]
  },
  {
   "cell_type": "code",
   "execution_count": 37,
   "id": "63cb7481",
   "metadata": {},
   "outputs": [
    {
     "data": {
      "text/plain": [
       "correct\n",
       "True     148\n",
       "False      2\n",
       "Name: count, dtype: int64"
      ]
     },
     "execution_count": 37,
     "metadata": {},
     "output_type": "execute_result"
    }
   ],
   "source": [
    "vit_test_pred_df.correct.value_counts()"
   ]
  },
  {
   "cell_type": "code",
   "execution_count": 38,
   "id": "20dc057c",
   "metadata": {},
   "outputs": [
    {
     "name": "stdout",
     "output_type": "stream",
     "text": [
      "Tiempo promedio por predicción arquitectura ViT: 0.4327\n"
     ]
    }
   ],
   "source": [
    "vit_average_time_per_pred = round(vit_test_pred_df.time_for_pred.mean(), 4)\n",
    "print(f\"Tiempo promedio por predicción arquitectura ViT: {vit_average_time_per_pred}\")"
   ]
  },
  {
   "cell_type": "code",
   "execution_count": 39,
   "id": "11764538",
   "metadata": {},
   "outputs": [
    {
     "data": {
      "text/plain": [
       "{'test_loss': 0.06443445552140474,\n",
       " 'test_acc': 0.984659090909091,\n",
       " 'number_of_parameters': 85800963,\n",
       " 'model_size': 327,\n",
       " 'time_per_pred_cpu': np.float64(0.4327)}"
      ]
     },
     "execution_count": 39,
     "metadata": {},
     "output_type": "execute_result"
    }
   ],
   "source": [
    "vit_stats[\"time_per_pred_cpu\"] = round(vit_test_pred_df.time_for_pred.mean(), 4)\n",
    "vit_stats"
   ]
  },
  {
   "cell_type": "markdown",
   "id": "ce60c097",
   "metadata": {},
   "source": [
    "# Comparemos modelos...\n",
    "\n",
    "Ya tenemos dos modelos entrenados con el mismo dataset y hardware, ahora comparemos cual es mejor..."
   ]
  },
  {
   "cell_type": "code",
   "execution_count": 40,
   "id": "2d2c0349",
   "metadata": {},
   "outputs": [
    {
     "data": {
      "text/html": [
       "<div>\n",
       "<style scoped>\n",
       "    .dataframe tbody tr th:only-of-type {\n",
       "        vertical-align: middle;\n",
       "    }\n",
       "\n",
       "    .dataframe tbody tr th {\n",
       "        vertical-align: top;\n",
       "    }\n",
       "\n",
       "    .dataframe thead th {\n",
       "        text-align: right;\n",
       "    }\n",
       "</style>\n",
       "<table border=\"1\" class=\"dataframe\">\n",
       "  <thead>\n",
       "    <tr style=\"text-align: right;\">\n",
       "      <th></th>\n",
       "      <th>test_loss</th>\n",
       "      <th>test_acc</th>\n",
       "      <th>number_of_parameters</th>\n",
       "      <th>model_size</th>\n",
       "      <th>time_per_pred_cpu</th>\n",
       "      <th>model</th>\n",
       "    </tr>\n",
       "  </thead>\n",
       "  <tbody>\n",
       "    <tr>\n",
       "      <th>0</th>\n",
       "      <td>0.265676</td>\n",
       "      <td>95.97</td>\n",
       "      <td>7705221</td>\n",
       "      <td>29.85773</td>\n",
       "      <td>0.1040</td>\n",
       "      <td>EffnetB2</td>\n",
       "    </tr>\n",
       "    <tr>\n",
       "      <th>1</th>\n",
       "      <td>0.064434</td>\n",
       "      <td>98.47</td>\n",
       "      <td>85800963</td>\n",
       "      <td>327.00000</td>\n",
       "      <td>0.4327</td>\n",
       "      <td>ViT</td>\n",
       "    </tr>\n",
       "  </tbody>\n",
       "</table>\n",
       "</div>"
      ],
      "text/plain": [
       "   test_loss  test_acc  number_of_parameters  model_size  time_per_pred_cpu  \\\n",
       "0   0.265676     95.97               7705221    29.85773             0.1040   \n",
       "1   0.064434     98.47              85800963   327.00000             0.4327   \n",
       "\n",
       "      model  \n",
       "0  EffnetB2  \n",
       "1       ViT  "
      ]
     },
     "execution_count": 40,
     "metadata": {},
     "output_type": "execute_result"
    }
   ],
   "source": [
    "# Llevemos nuestros resultados a un DataFrame\n",
    "df = pd.DataFrame([effnetb2_stats, vit_stats])\n",
    "\n",
    "# Añadimos una columna indicadora de nombres\n",
    "\n",
    "df[\"model\"] = [\"EffnetB2\", \"ViT\"]\n",
    "\n",
    "df[\"test_acc\"] = round(df[\"test_acc\"] * 100, 2)\n",
    "\n",
    "df"
   ]
  },
  {
   "cell_type": "markdown",
   "id": "67358f88",
   "metadata": {},
   "source": [
    "Teniendo en cuenta que función de perdida es menor y que exactitud de mayor podrémos saber cual es el menor.\n",
    "En este caso y dado mi hardware podemos ver como la exactitud de ambos modelos son cercanas, pero el ViT tiene menos perdida por gran cantidad, por lo que en mi PC anduvo mejor el ViT... \n",
    "El numero de parametros del EffNet sin embargo es menor por muchísima cantidad."
   ]
  },
  {
   "cell_type": "code",
   "execution_count": 41,
   "id": "ae54205d",
   "metadata": {},
   "outputs": [
    {
     "data": {
      "text/html": [
       "<div>\n",
       "<style scoped>\n",
       "    .dataframe tbody tr th:only-of-type {\n",
       "        vertical-align: middle;\n",
       "    }\n",
       "\n",
       "    .dataframe tbody tr th {\n",
       "        vertical-align: top;\n",
       "    }\n",
       "\n",
       "    .dataframe thead th {\n",
       "        text-align: right;\n",
       "    }\n",
       "</style>\n",
       "<table border=\"1\" class=\"dataframe\">\n",
       "  <thead>\n",
       "    <tr style=\"text-align: right;\">\n",
       "      <th></th>\n",
       "      <th>test_loss</th>\n",
       "      <th>test_acc</th>\n",
       "      <th>number_of_parameters</th>\n",
       "      <th>model_size</th>\n",
       "      <th>time_per_pred_cpu</th>\n",
       "    </tr>\n",
       "  </thead>\n",
       "  <tbody>\n",
       "    <tr>\n",
       "      <th>ViT a EffnetB2 radios</th>\n",
       "      <td>0.24253</td>\n",
       "      <td>1.02605</td>\n",
       "      <td>11.135432</td>\n",
       "      <td>10.951938</td>\n",
       "      <td>4.160577</td>\n",
       "    </tr>\n",
       "  </tbody>\n",
       "</table>\n",
       "</div>"
      ],
      "text/plain": [
       "                       test_loss  test_acc  number_of_parameters  model_size  \\\n",
       "ViT a EffnetB2 radios    0.24253   1.02605             11.135432   10.951938   \n",
       "\n",
       "                       time_per_pred_cpu  \n",
       "ViT a EffnetB2 radios           4.160577  "
      ]
     },
     "execution_count": 41,
     "metadata": {},
     "output_type": "execute_result"
    }
   ],
   "source": [
    "# Comparemos los modelos según sus caracteristicas...\n",
    "pd.DataFrame(data=df.set_index(\"model\").loc[\"ViT\"] / df.set_index(\"model\").loc[\"EffnetB2\"],\n",
    "             columns=[\"ViT a EffnetB2 radios\"]).T"
   ]
  },
  {
   "cell_type": "markdown",
   "id": "d536d6ad",
   "metadata": {},
   "source": [
    "# Grafiquemos la velocidad y el rendimiento en un *scatterplot*.\n",
    "\n",
    "Para esto realizaremos lo siguiente:\n",
    "1. Crear un scatterplot con la comparación del DataFrame EffNetB2 y ViT.\n",
    "2. Añadir titulos y labels correspondientes.\n",
    "3. Anotar las muestras correspondientes en el gráfico.\n",
    "4. Crear una *legend* (leyenda) para ver el tamaño del modelo."
   ]
  },
  {
   "cell_type": "code",
   "execution_count": 42,
   "id": "c5251104",
   "metadata": {},
   "outputs": [
    {
     "data": {
      "image/png": "[encoded data removed]",
      "text/plain": [
       "<Figure size 1200x800 with 1 Axes>"
      ]
     },
     "metadata": {},
     "output_type": "display_data"
    }
   ],
   "source": [
    "import matplotlib.pyplot as plt\n",
    "\n",
    "# 1. Crear el grafico\n",
    "fix, ax = plt.subplots(figsize=(12, 8))\n",
    "scatter = ax.scatter(data=df,\n",
    "                     x=\"time_per_pred_cpu\",\n",
    "                     y=\"test_acc\",\n",
    "                     c=[\"blue\", \"orange\"],\n",
    "                     s=\"model_size\")\n",
    "\n",
    "# 2. Añadir los titulos y labels\n",
    "ax.set_title(\"FoodVision Mini diferencia entre velocidad y rendimiento\", fontsize=18)\n",
    "ax.set_xlabel(\"Tiempo de predicción por imagen\", fontsize=14)\n",
    "ax.tick_params(axis=\"both\", labelsize=12)\n",
    "ax.grid(\"on\")\n",
    "\n",
    "# 3. Anotemos las muestras utilizadas...\n",
    "for index, row in df.iterrows():\n",
    "    ax.annotate(text=row[\"model\"],\n",
    "                xy=(row[\"time_per_pred_cpu\"], row[\"test_acc\"]),\n",
    "                size=12)\n",
    "# 4. Leyenda\n",
    "handles, labels = scatter.legend_elements(prop=\"sizes\", alpha=0.5)\n",
    "model_size_legend = ax.legend(handles,\n",
    "                              labels,\n",
    "                              loc=\"lower right\",\n",
    "                              title=\"Tamaño del modelo (MB)\",\n",
    "                              fontsize=12)"
   ]
  },
  {
   "cell_type": "markdown",
   "id": "6353e757",
   "metadata": {},
   "source": [
    "# Función `predict()` para ir de:\n",
    "Imagenes de comida -> ML Model (ViT o EffNetB2) -> Salidas"
   ]
  },
  {
   "cell_type": "code",
   "execution_count": 43,
   "id": "e813bd93",
   "metadata": {},
   "outputs": [],
   "source": [
    "from typing import Tuple, Dict\n",
    "\n",
    "def predict(img) -> Tuple[Dict, float]:\n",
    "    # Inicializamos timer\n",
    "    start_time = timer()\n",
    "\n",
    "    # Creamos los transforms\n",
    "    img = effnetb2_transforms(img).unsqueeze(0)\n",
    "\n",
    "    # Ponemos el modelo en eval mode\n",
    "    effnetb2.eval()\n",
    "    with torch.inference_mode():\n",
    "        # Imagen transformada através del modelo\n",
    "        pred_probs = torch.softmax(effnetb2(img), dim=1)\n",
    "    \n",
    "    # Diccionario con labels de predicción y probabilidad por compresión\n",
    "    pred_labels_and_probs = {class_names[i]: float(pred_probs[0][i]) for i in range(len(class_names))}\n",
    "    \n",
    "    # Tiempo de predicción\n",
    "    pred_time = round(timer() - start_time, 5)\n",
    "\n",
    "    # Retornamos diccionario y tiempo de predicción\n",
    "    return pred_labels_and_probs, pred_time"
   ]
  },
  {
   "cell_type": "markdown",
   "id": "4a496e3f",
   "metadata": {},
   "source": [
    "Ahora creemos una lista con las rutas de nuestras imagenes de prueba..."
   ]
  },
  {
   "cell_type": "code",
   "execution_count": 44,
   "id": "453169cf",
   "metadata": {},
   "outputs": [
    {
     "name": "stdout",
     "output_type": "stream",
     "text": [
      "Abriendo data\\pizza_steak_sushi_20_percent\\test\\pizza\\1687143.jpg...\n"
     ]
    },
    {
     "data": {
      "text/plain": [
       "(0.27722,\n",
       " {'pizza': 0.9344996213912964,\n",
       "  'steak': 0.04998898506164551,\n",
       "  'sushi': 0.01551135629415512})"
      ]
     },
     "execution_count": 44,
     "metadata": {},
     "output_type": "execute_result"
    }
   ],
   "source": [
    "import random\n",
    "from PIL import Image\n",
    "\n",
    "# Lista de directorios de prueba\n",
    "test_data_paths = list(Path(test_dir).glob(\"*/*.jpg\"))\n",
    "\n",
    "# Lista aleatorea de directorios\n",
    "random_image_path = random.sample(test_data_paths, k=1)[0]\n",
    "\n",
    "# Abrimos la imagen \n",
    "image = Image.open(random_image_path)\n",
    "print(f\"Abriendo {random_image_path}...\")\n",
    "\n",
    "# Predicción\n",
    "pred_dict, pred_time = predict(img=image)\n",
    "pred_time, pred_dict"
   ]
  },
  {
   "cell_type": "code",
   "execution_count": 45,
   "id": "13f8de8b",
   "metadata": {},
   "outputs": [
    {
     "data": {
      "text/plain": [
       "[['data\\\\pizza_steak_sushi_20_percent\\\\test\\\\steak\\\\108310.jpg'],\n",
       " ['data\\\\pizza_steak_sushi_20_percent\\\\test\\\\steak\\\\2069289.jpg'],\n",
       " ['data\\\\pizza_steak_sushi_20_percent\\\\test\\\\pizza\\\\724290.jpg']]"
      ]
     },
     "execution_count": 45,
     "metadata": {},
     "output_type": "execute_result"
    }
   ],
   "source": [
    "example_list = [[str(filepath)] for filepath in random.sample(test_data_paths, k=3)]\n",
    "example_list"
   ]
  },
  {
   "cell_type": "markdown",
   "id": "04b81a11",
   "metadata": {},
   "source": [
    "# Gradio\n",
    "\n",
    "Gradio es una biblioteca de Python que facilita la creación de interfaces de usuario interactivas para modelos de aprendizaje automático (machine learning).\n",
    "\n",
    "Permite a los desarrolladores construir aplicaciones web de manera rápida y sencilla, donde los usuarios pueden interactuar con modelos, cargar datos y ver resultados en tiempo real."
   ]
  },
  {
   "cell_type": "code",
   "execution_count": 46,
   "id": "9f8c4b28",
   "metadata": {},
   "outputs": [
    {
     "name": "stdout",
     "output_type": "stream",
     "text": [
      "* Running on local URL:  http://127.0.0.1:7860\n",
      "* Running on public URL: https://cf5e39a9615c3c328b.gradio.live\n",
      "\n",
      "This share link expires in 1 week. For free permanent hosting and GPU upgrades, run `gradio deploy` from the terminal in the working directory to deploy to Hugging Face Spaces (https://huggingface.co/spaces)\n"
     ]
    },
    {
     "data": {
      "text/html": [
       "<div><iframe src=\"https://cf5e39a9615c3c328b.gradio.live\" width=\"100%\" height=\"500\" allow=\"autoplay; camera; microphone; clipboard-read; clipboard-write;\" frameborder=\"0\" allowfullscreen></iframe></div>"
      ],
      "text/plain": [
       "<IPython.core.display.HTML object>"
      ]
     },
     "metadata": {},
     "output_type": "display_data"
    },
    {
     "data": {
      "text/plain": []
     },
     "execution_count": 46,
     "metadata": {},
     "output_type": "execute_result"
    }
   ],
   "source": [
    "import gradio as gr\n",
    "\n",
    "# Crear titulo, descripción y articulo\n",
    "title = \"FoodVision Mini\"\n",
    "description = \"Modelo EfficientNetB2 Feature Extractor\"\n",
    "article = \"Creado por Martin Zwarycz durante el curso de PyTorch de ZeroToMastery\"\n",
    "\n",
    "demo = gr.Interface(fn=predict,\n",
    "                    inputs=gr.Image(type=\"pil\"),\n",
    "                    outputs=[gr.Label(num_top_classes=3, label=\"Predicciones\"),\n",
    "                             gr.Number(label=\"Tiempo en predecir(s)\")],\n",
    "                    examples=example_list,\n",
    "                    title=title,\n",
    "                    description=description,\n",
    "                    article=article)\n",
    "\n",
    "demo.launch(debug=False,\n",
    "            share=True)"
   ]
  },
  {
   "cell_type": "markdown",
   "id": "4e5e4a14",
   "metadata": {},
   "source": [
    "# Almacenemos en `demos` los archivos de nuestro FoodVisionz app creado en gradio."
   ]
  },
  {
   "cell_type": "code",
   "execution_count": 47,
   "id": "acfb0511",
   "metadata": {},
   "outputs": [],
   "source": [
    "import shutil \n",
    "from pathlib import Path\n",
    "\n",
    "foodvision_mini_demo_path = Path(\"demos/foodvision_mini/\")\n",
    "\n",
    "if foodvision_mini_demo_path.exists():\n",
    "    shutil.rmtree(foodvision_mini_demo_path)\n",
    "    foodvision_mini_demo_path.mkdir(parents=True,\n",
    "                                    exist_ok=True)\n",
    "else: \n",
    "        foodvision_mini_demo_path.mkdir(parents=True,\n",
    "                                        exist_ok=True)"
   ]
  },
  {
   "cell_type": "code",
   "execution_count": 48,
   "id": "48c23692",
   "metadata": {},
   "outputs": [
    {
     "name": "stdout",
     "output_type": "stream",
     "text": [
      "Copiando data\\pizza_steak_sushi_20_percent\\test\\sushi\\592799.jpg a demos\\foodvision_mini\\592799.jpg\n",
      "Copiando data\\pizza_steak_sushi_20_percent\\test\\steak\\3622237.jpg a demos\\foodvision_mini\\3622237.jpg\n",
      "Copiando data\\pizza_steak_sushi_20_percent\\test\\pizza\\2582289.jpg a demos\\foodvision_mini\\2582289.jpg\n"
     ]
    }
   ],
   "source": [
    "# Insertemos ejemplos...\n",
    "import shutil \n",
    "from pathlib import Path\n",
    "\n",
    "# 1. Crear directorio de ejemplos\n",
    "foodvision_mini_examples_path = foodvision_mini_demo_path / \"examples\"\n",
    "foodvision_mini_demo_path.mkdir(parents=True, exist_ok=True)\n",
    "\n",
    "# 2. Poner 3 ejemplos al azar hardcodeados\n",
    "foodvision_mini_examples = [Path(\"data/pizza_steak_sushi_20_percent/test/sushi/592799.jpg\"),\n",
    "                            Path(\"data/pizza_steak_sushi_20_percent/test/steak/3622237.jpg\"),\n",
    "                            Path(\"data/pizza_steak_sushi_20_percent/test/pizza/2582289.jpg\")]\n",
    "\n",
    "# 3. Copiar las imagenes de prueba a los directorios de ejemplo\n",
    "for example in foodvision_mini_examples:\n",
    "    destination = foodvision_mini_demo_path / example.name\n",
    "    print(f\"Copiando {example} a {destination}\")\n",
    "    shutil.copy2(src=example, dst=destination)"
   ]
  },
  {
   "cell_type": "code",
   "execution_count": 49,
   "id": "b299261d",
   "metadata": {},
   "outputs": [
    {
     "data": {
      "text/plain": [
       "[['examples/2582289.jpg'], ['examples/3622237.jpg'], ['examples/592799.jpg']]"
      ]
     },
     "execution_count": 49,
     "metadata": {},
     "output_type": "execute_result"
    }
   ],
   "source": [
    "import os\n",
    "# Confirmamos por compresión en una lista de lista de directorios si todo se realizo correctamente:\n",
    "\n",
    "example_list = [[\"examples/\" + example] for example in os.listdir(foodvision_mini_demo_path)]\n",
    "example_list"
   ]
  },
  {
   "cell_type": "code",
   "execution_count": 50,
   "id": "e53c70e0",
   "metadata": {},
   "outputs": [
    {
     "name": "stdout",
     "output_type": "stream",
     "text": [
      "Intentando mover models/09_pretrained_vir_feature_extractor_pizza_steak_sushi_20_percent.pth a demos\\foodvision_mini\\09_pretrained_vir_feature_extractor_pizza_steak_sushi_20_percent.pth...\n",
      "Modelo movido\n"
     ]
    }
   ],
   "source": [
    "# Movamos el modelo entrenado EffNetB2 a nuestro directorio\n",
    "\n",
    "import shutil \n",
    "\n",
    "# Creamos nueva ruta\n",
    "effnetb2_foodvision_mini_model_path = \"models/09_pretrained_vir_feature_extractor_pizza_steak_sushi_20_percent.pth\"\n",
    "effnetb2_foodvision_mini_model_destination = foodvision_mini_demo_path / effnetb2_foodvision_mini_model_path.split(\"/\")[1]\n",
    "\n",
    "# effnetb2_foodvision_mini_model_path.split(\"/\")[1]\n",
    "# effnetb2_foodvision_mini_model_destination\n",
    "\n",
    "# Movamos el archivo con un Try catch\n",
    "try:\n",
    "    print(f\"Intentando mover {effnetb2_foodvision_mini_model_path} a {effnetb2_foodvision_mini_model_destination}...\")\n",
    "    # Movamos....\n",
    "    shutil.move(src=effnetb2_foodvision_mini_model_path,\n",
    "                dst=effnetb2_foodvision_mini_model_destination)\n",
    "    \n",
    "    print(\"Modelo movido\")\n",
    "except:\n",
    "    print(f\"No se encuentro el modelo en {effnetb2_foodvision_mini_model_path}, quizas ya fue movido...\")\n",
    "    print(f\"El modelo ya existe en {effnetb2_foodvision_mini_model_destination}: {effnetb2_foodvision_mini_model_destination.exists()}\")"
   ]
  },
  {
   "cell_type": "markdown",
   "id": "aaef7466",
   "metadata": {},
   "source": [
    "Llevemos el modelo EffNetB2 a un script de Python, lo llamaremos `model.py`."
   ]
  },
  {
   "cell_type": "code",
   "execution_count": 51,
   "id": "3cef24ed",
   "metadata": {},
   "outputs": [
    {
     "name": "stdout",
     "output_type": "stream",
     "text": [
      "Writing demos/foodvision_mini/model.py\n"
     ]
    }
   ],
   "source": [
    "%%writefile demos/foodvision_mini/model.py\n",
    "import torch\n",
    "import torchvision\n",
    "\n",
    "from torch import nn\n",
    "\n",
    "def create_effnetb2_model(num_classes:int=3,\n",
    "                         seed:int=42):\n",
    "    \"\"\"Crea un modelo EfficientNetB2 feature extractor and transforms\n",
    "    \n",
    "    Args:\n",
    "        num_classes (int, optional): numero de clases a identificar.\n",
    "        Default: 3\n",
    "    \n",
    "    Retorna:\n",
    "          model (torch.nn.Module): EffNetB feature extractor model.\n",
    "          transforms (torchvision.transforms): EffNet image transforms\"\"\"\n",
    "\n",
    "    # Crear pesos ya entrenados, transforms y el modelo en cuestión\n",
    "    weights = torchvision.models.EfficientNet_B2_Weights.DEFAULT\n",
    "    transforms = weights.tranforms()\n",
    "    model = torchvision.models.efficientnet_b2(weights=weights)\n",
    "\n",
    "    # Congelamos las capas base\n",
    "      for param in model.parameters():\n",
    "        param.requires_grad = False\n",
    "\n",
    "    # Cambiamos el classifier head y la semilla de aleatoriedad\n",
    "    torch.manual_seed(seed)\n",
    "     model.classifier = nn.Sequential(\n",
    "        nn.Dropout(p=0.3, inplace=True),\n",
    "        nn.Linear(in_features=1408, out_features=num_classes),\n",
    "        )\n",
    "\n",
    "    return model, transforms"
   ]
  },
  {
   "cell_type": "markdown",
   "id": "15b24386",
   "metadata": {},
   "source": [
    "Llevmos también el modelo de Gradio a un script de Python `app.py`, para esto haremos lo siguiente:\n",
    "1. Importar gradio\n",
    "2. Preparar el modelo\n",
    "3. Crear la función `predict()`\n",
    "4. Crear la interfaz gradio"
   ]
  },
  {
   "cell_type": "code",
   "execution_count": 52,
   "id": "523836ca",
   "metadata": {},
   "outputs": [
    {
     "name": "stdout",
     "output_type": "stream",
     "text": [
      "Writing demos/foodvision_mini/app.py\n"
     ]
    }
   ],
   "source": [
    "%%writefile demos/foodvision_mini/app.py\n",
    "\n",
    "# 1. Importo grado y librerias a utilizar\n",
    "import gradio as gr\n",
    "import os\n",
    "import torch\n",
    "\n",
    "from model import create_effnetb2_model\n",
    "from timeit import default_timer as timer\n",
    "from typing import Tuple, Dict\n",
    "\n",
    "class_names = [\"pizza\", \"steak\", \"sushi\"]\n",
    "\n",
    "# 2. Preparamos el modelo:\n",
    "effnetb2, effnetb2_transforms = create_effnetb2_model(\n",
    "    num_classes=3\n",
    ")\n",
    "\n",
    "# Guardamos pesos\n",
    "effnetb2.load_state_dict(\n",
    "    torch.loader(\n",
    "        f=\"09_pretrained_vir_feature_extractor_pizza_steak_sushi_20_percent.pth\",\n",
    "        map_location=\"cpu\"\n",
    "    )\n",
    ")\n",
    "\n",
    "# 3. Creamos la función predict\n",
    "def predict(img) -> Tuple[Dict, float]:\n",
    "    # Inicializamos timer\n",
    "    start_time = timer()\n",
    "\n",
    "    # Creamos los transforms\n",
    "    img = effnetb2_transforms(img).unsqueeze(0)\n",
    "\n",
    "    # Ponemos el modelo en eval mode\n",
    "    effnetb2.eval()\n",
    "    with torch.inference_mode():\n",
    "        # Imagen transformada através del modelo\n",
    "        pred_probs = torch.softmax(effnetb2(img), dim=1)\n",
    "    \n",
    "    # Diccionario con labels de predicción y probabilidad por compresión\n",
    "    pred_labels_and_probs = {class_names[i]: float(pred_probs[0][i]) for i in range(len(class_names))}\n",
    "    \n",
    "    # Tiempo de predicción\n",
    "    pred_time = round(timer() - start_time, 5)\n",
    "\n",
    "    # Retornamos diccionario y tiempo de predicción\n",
    "    return pred_labels_and_probs, pred_time\n",
    "\n",
    "# Interfaz Gradio\n",
    "\n",
    "title = \"FoodVision Mini\"\n",
    "description = \"EfficientNetB2 feature extractor\"\n",
    "article = \"Creado por Martín Zwarycz durante la realización del bootcamp de PyTorch.\"\n",
    "\n",
    "# Create examples list from \"examples/\" directory\n",
    "example_list = [[\"examples/\" + example] for example in os.listdir(\"examples\")]\n",
    "\n",
    "# Create the Gradio demo\n",
    "demo = gr.Interface(fn=predict, # mapping function from input to output\n",
    "                    inputs=gr.Image(type=\"pil\"), # what are the inputs?\n",
    "                    outputs=[gr.Label(num_top_classes=3, label=\"Predictions\"), # what are the outputs?\n",
    "                             gr.Number(label=\"Prediction time (s)\")], # our fn has two outputs, therefore we have two outputs\n",
    "                    # Create examples list from \"examples/\" directory\n",
    "                    examples=example_list, \n",
    "                    title=title,\n",
    "                    description=description,\n",
    "                    article=article)\n",
    "\n",
    "# Launch the demo!\n",
    "demo.launch()"
   ]
  },
  {
   "cell_type": "markdown",
   "id": "ca019de7",
   "metadata": {},
   "source": [
    "Debemos crear (no entiendo si obligatoriamente de momento) un archivo llamado `requirements.txt`"
   ]
  },
  {
   "cell_type": "code",
   "execution_count": 53,
   "id": "7f634ad9",
   "metadata": {},
   "outputs": [
    {
     "name": "stdout",
     "output_type": "stream",
     "text": [
      "Writing demos/foodvision_mini/requirements.txt\n"
     ]
    }
   ],
   "source": [
    "%%writefile demos/foodvision_mini/requirements.txt\n",
    "torch==1.12.0\n",
    "torchvision==0.13.0\n",
    "gradio==3.1.4"
   ]
  },
  {
   "cell_type": "markdown",
   "id": "42845531",
   "metadata": {},
   "source": [
    "# Extra: mejoremos nuestro modelo...\n",
    "\n",
    "Nuestros modelos fueron entrenados con 3 posibles clases... ¿qué tal si ahora sumamos más...? ¿qué tal si tenemos 101 clases posibles...?\n",
    "<center><img src=\"img/food_vision_big.png\"></center>"
   ]
  },
  {
   "cell_type": "code",
   "execution_count": 55,
   "id": "9c45a94a",
   "metadata": {},
   "outputs": [
    {
     "data": {
      "text/plain": [
       "============================================================================================================================================\n",
       "Layer (type (var_name))                                      Input Shape          Output Shape         Param #              Trainable\n",
       "============================================================================================================================================\n",
       "EfficientNet (EfficientNet)                                  [1, 3, 224, 224]     [1, 101]             --                   Partial\n",
       "├─Sequential (features)                                      [1, 3, 224, 224]     [1, 1408, 7, 7]      --                   False\n",
       "│    └─Conv2dNormActivation (0)                              [1, 3, 224, 224]     [1, 32, 112, 112]    --                   False\n",
       "│    │    └─Conv2d (0)                                       [1, 3, 224, 224]     [1, 32, 112, 112]    (864)                False\n",
       "│    │    └─BatchNorm2d (1)                                  [1, 32, 112, 112]    [1, 32, 112, 112]    (64)                 False\n",
       "│    │    └─SiLU (2)                                         [1, 32, 112, 112]    [1, 32, 112, 112]    --                   --\n",
       "│    └─Sequential (1)                                        [1, 32, 112, 112]    [1, 16, 112, 112]    --                   False\n",
       "│    │    └─MBConv (0)                                       [1, 32, 112, 112]    [1, 16, 112, 112]    (1,448)              False\n",
       "│    │    └─MBConv (1)                                       [1, 16, 112, 112]    [1, 16, 112, 112]    (612)                False\n",
       "│    └─Sequential (2)                                        [1, 16, 112, 112]    [1, 24, 56, 56]      --                   False\n",
       "│    │    └─MBConv (0)                                       [1, 16, 112, 112]    [1, 24, 56, 56]      (6,004)              False\n",
       "│    │    └─MBConv (1)                                       [1, 24, 56, 56]      [1, 24, 56, 56]      (10,710)             False\n",
       "│    │    └─MBConv (2)                                       [1, 24, 56, 56]      [1, 24, 56, 56]      (10,710)             False\n",
       "│    └─Sequential (3)                                        [1, 24, 56, 56]      [1, 48, 28, 28]      --                   False\n",
       "│    │    └─MBConv (0)                                       [1, 24, 56, 56]      [1, 48, 28, 28]      (16,518)             False\n",
       "│    │    └─MBConv (1)                                       [1, 48, 28, 28]      [1, 48, 28, 28]      (43,308)             False\n",
       "│    │    └─MBConv (2)                                       [1, 48, 28, 28]      [1, 48, 28, 28]      (43,308)             False\n",
       "│    └─Sequential (4)                                        [1, 48, 28, 28]      [1, 88, 14, 14]      --                   False\n",
       "│    │    └─MBConv (0)                                       [1, 48, 28, 28]      [1, 88, 14, 14]      (50,300)             False\n",
       "│    │    └─MBConv (1)                                       [1, 88, 14, 14]      [1, 88, 14, 14]      (123,750)            False\n",
       "│    │    └─MBConv (2)                                       [1, 88, 14, 14]      [1, 88, 14, 14]      (123,750)            False\n",
       "│    │    └─MBConv (3)                                       [1, 88, 14, 14]      [1, 88, 14, 14]      (123,750)            False\n",
       "│    └─Sequential (5)                                        [1, 88, 14, 14]      [1, 120, 14, 14]     --                   False\n",
       "│    │    └─MBConv (0)                                       [1, 88, 14, 14]      [1, 120, 14, 14]     (149,158)            False\n",
       "│    │    └─MBConv (1)                                       [1, 120, 14, 14]     [1, 120, 14, 14]     (237,870)            False\n",
       "│    │    └─MBConv (2)                                       [1, 120, 14, 14]     [1, 120, 14, 14]     (237,870)            False\n",
       "│    │    └─MBConv (3)                                       [1, 120, 14, 14]     [1, 120, 14, 14]     (237,870)            False\n",
       "│    └─Sequential (6)                                        [1, 120, 14, 14]     [1, 208, 7, 7]       --                   False\n",
       "│    │    └─MBConv (0)                                       [1, 120, 14, 14]     [1, 208, 7, 7]       (301,406)            False\n",
       "│    │    └─MBConv (1)                                       [1, 208, 7, 7]       [1, 208, 7, 7]       (686,868)            False\n",
       "│    │    └─MBConv (2)                                       [1, 208, 7, 7]       [1, 208, 7, 7]       (686,868)            False\n",
       "│    │    └─MBConv (3)                                       [1, 208, 7, 7]       [1, 208, 7, 7]       (686,868)            False\n",
       "│    │    └─MBConv (4)                                       [1, 208, 7, 7]       [1, 208, 7, 7]       (686,868)            False\n",
       "│    └─Sequential (7)                                        [1, 208, 7, 7]       [1, 352, 7, 7]       --                   False\n",
       "│    │    └─MBConv (0)                                       [1, 208, 7, 7]       [1, 352, 7, 7]       (846,900)            False\n",
       "│    │    └─MBConv (1)                                       [1, 352, 7, 7]       [1, 352, 7, 7]       (1,888,920)          False\n",
       "│    └─Conv2dNormActivation (8)                              [1, 352, 7, 7]       [1, 1408, 7, 7]      --                   False\n",
       "│    │    └─Conv2d (0)                                       [1, 352, 7, 7]       [1, 1408, 7, 7]      (495,616)            False\n",
       "│    │    └─BatchNorm2d (1)                                  [1, 1408, 7, 7]      [1, 1408, 7, 7]      (2,816)              False\n",
       "│    │    └─SiLU (2)                                         [1, 1408, 7, 7]      [1, 1408, 7, 7]      --                   --\n",
       "├─AdaptiveAvgPool2d (avgpool)                                [1, 1408, 7, 7]      [1, 1408, 1, 1]      --                   --\n",
       "├─Sequential (classifier)                                    [1, 1408]            [1, 101]             --                   True\n",
       "│    └─Dropout (0)                                           [1, 1408]            [1, 1408]            --                   --\n",
       "│    └─Linear (1)                                            [1, 1408]            [1, 101]             142,309              True\n",
       "============================================================================================================================================\n",
       "Total params: 7,843,303\n",
       "Trainable params: 142,309\n",
       "Non-trainable params: 7,700,994\n",
       "Total mult-adds (Units.MEGABYTES): 657.78\n",
       "============================================================================================================================================\n",
       "Input size (MB): 0.60\n",
       "Forward/backward pass size (MB): 156.80\n",
       "Params size (MB): 31.37\n",
       "Estimated Total Size (MB): 188.77\n",
       "============================================================================================================================================"
      ]
     },
     "execution_count": 55,
     "metadata": {},
     "output_type": "execute_result"
    }
   ],
   "source": [
    "effnetb2_food101, effnetb2_transforms = create_effnetb2_model(num_classes=101)\n",
    "\n",
    "from torchinfo import summary\n",
    "\n",
    "summary(effnetb2_food101, \n",
    "         input_size=(1, 3, 224, 224),\n",
    "         col_names=[\"input_size\", \"output_size\", \"num_params\", \"trainable\"],\n",
    "         col_width=20,\n",
    "         row_settings=[\"var_names\"])"
   ]
  },
  {
   "cell_type": "code",
   "execution_count": 57,
   "id": "05378f27",
   "metadata": {},
   "outputs": [],
   "source": [
    "# Transforms\n",
    "\n",
    "food101_train_transforms = torchvision.transforms.Compose([\n",
    "    torchvision.transforms.TrivialAugmentWide(),\n",
    "    effnetb2_transforms,\n",
    "])\n",
    "\n",
    "# food101_train_transforms, effnetb2_transforms"
   ]
  },
  {
   "cell_type": "code",
   "execution_count": 58,
   "id": "e62e22bd",
   "metadata": {},
   "outputs": [
    {
     "name": "stderr",
     "output_type": "stream",
     "text": [
      "100%|██████████| 5.00G/5.00G [11:20<00:00, 7.35MB/s]   \n"
     ]
    }
   ],
   "source": [
    "# Importamos y configuramos DataSet\n",
    "\n",
    "from torchvision import datasets\n",
    "from pathlib import Path\n",
    "\n",
    "data_dir = Path(\"data\")\n",
    "\n",
    "# Data de entrenamiento: (750 imagenes)\n",
    "train_data = datasets.Food101(root=data_dir,\n",
    "                              split=\"train\",\n",
    "                              transform=food101_train_transforms,\n",
    "                              download=True)\n",
    "\n",
    "# Data de testeo: (250 imagenes)\n",
    "test_data = datasets.Food101(root=data_dir,\n",
    "                             split=\"test\",\n",
    "                             transform=effnetb2_transforms,\n",
    "                             download=True)"
   ]
  },
  {
   "cell_type": "code",
   "execution_count": 60,
   "id": "8f7b2331",
   "metadata": {},
   "outputs": [],
   "source": [
    "food101_class_names = train_data.classes\n",
    "\n",
    "# food101_class_names"
   ]
  },
  {
   "cell_type": "markdown",
   "id": "bd39f984",
   "metadata": {},
   "source": [
    "Separemos ahora si mediante una función el dataset, si mal no estoy esto se puede hacer un sticklearn también..."
   ]
  },
  {
   "cell_type": "code",
   "execution_count": null,
   "id": "3379487f",
   "metadata": {},
   "outputs": [],
   "source": [
    "def split_dataset(dataset:torchvision.datasets, split_size:float=0.2, seed:int=42):\n",
    "    lenth_1 = int(len(dataset) * split_size)\n",
    "    lenth_2 = len(dataset) - lenth_1\n",
    "\n",
    "    random_split_1, random_split_2 = torch.utils.data.random_split(dataset,\n",
    "                                                                   lengths=[lenth_1, lenth_2],\n",
    "                                                                   generator=torch.manual_seed(seed))\n",
    "    return random_split_1, random_split_2"
   ]
  },
  {
   "cell_type": "code",
   "execution_count": 64,
   "id": "f269442e",
   "metadata": {},
   "outputs": [],
   "source": [
    "# separación del 20% de entrnamiento Food101\n",
    "train_data_food101_20_percent, _ = split_dataset(dataset=train_data,\n",
    "                                                 split_size=0.2)\n",
    "\n",
    "# separación de 20% de prueba Food101\n",
    "test_data_food101_20_percent, _ = split_dataset(dataset=test_data,\n",
    "                                                split_size=0.2)\n",
    "\n",
    "# len(train_data_food101_20_percent), len(test_data_food101_20_percent)"
   ]
  },
  {
   "cell_type": "markdown",
   "id": "bc23b1bc",
   "metadata": {},
   "source": [
    "Creemos los DataLoaders...:"
   ]
  },
  {
   "cell_type": "code",
   "execution_count": 66,
   "id": "4aa71bac",
   "metadata": {},
   "outputs": [],
   "source": [
    "import os\n",
    "import torch\n",
    "\n",
    "BATCH_SIZE = 32\n",
    "NUM_WORKERS = 2 \n",
    "\n",
    "# DataLoader Entrenamiento\n",
    "train_data_loader_food101_20_percent = torch.utils.data.DataLoader(train_data_food101_20_percent,\n",
    "                                                                  batch_size=BATCH_SIZE,\n",
    "                                                                  shuffle=True,\n",
    "                                                                  num_workers=NUM_WORKERS)\n",
    "\n",
    "# DataLoader Prueba o Test\n",
    "test_data_loader_food101_20_percent = torch.utils.data.DataLoader(test_data_food101_20_percent,\n",
    "                                                                  batch_size=BATCH_SIZE,\n",
    "                                                                  shuffle=False,\n",
    "                                                                  num_workers=NUM_WORKERS)"
   ]
  },
  {
   "cell_type": "markdown",
   "id": "9dccf31b",
   "metadata": {},
   "source": [
    "#  Ya podrémos entrenar nuestro modelo con el dataset FoodVision completo con 101 clases...\n",
    "\n",
    "Para eso realizaremos:\n",
    "1. 5 épocas\n",
    "2. Un optimizador `Adam`.\n",
    "3. Una función de perdida `CrossEntropyLoss` con `Smoothing` para evitar el sobreentrenamiento, es una tecnica de regularización.\n",
    "4. Crearemos el modelo."
   ]
  },
  {
   "cell_type": "code",
   "execution_count": null,
   "id": "20b325e7",
   "metadata": {},
   "outputs": [
    {
     "name": "stderr",
     "output_type": "stream",
     "text": [
      " 20%|██        | 1/5 [48:20<3:13:20, 2900.01s/it]"
     ]
    },
    {
     "name": "stdout",
     "output_type": "stream",
     "text": [
      "Epoch: 1 | train_loss: 3.6438 | train_acc: 0.2758 | test_loss: 2.7908 | test_acc: 0.4842\n"
     ]
    }
   ],
   "source": [
    "from going_modular.going_modular import engine\n",
    "\n",
    "# 1.Epocas\n",
    "\n",
    "EPOCHS = 5\n",
    "\n",
    "# 2. Optimizador\n",
    "optimizer = torch.optim.Adam(params=effnetb2_food101.parameters(),\n",
    "                             lr=1e-3)\n",
    "# 3. Función de perdida\n",
    "loss_fn = torch.nn.CrossEntropyLoss(label_smoothing=0.1)\n",
    "\n",
    "# 4. Creamos el modelo \n",
    "set_seeds()\n",
    "effnetb2_food101_results = engine.train(model=effnetb2_food101,\n",
    "                                        train_dataloader=train_data_loader_food101_20_percent,\n",
    "                                        test_dataloader=test_data_loader_food101_20_percent,\n",
    "                                        optimizer=optimizer,\n",
    "                                        loss_fn=loss_fn,\n",
    "                                        epochs=EPOCHS,\n",
    "                                        device=\"cpu\")"
   ]
  },
  {
   "cell_type": "code",
   "execution_count": null,
   "id": "f81432e7",
   "metadata": {},
   "outputs": [],
   "source": [
    "from helper_functions import plot_loss_curves\n",
    "\n",
    "plot_loss_curves(effnetb2_food101_results)"
   ]
  },
  {
   "cell_type": "markdown",
   "id": "3f7c1343",
   "metadata": {},
   "source": [
    "# Guardemos el modelo\n",
    "\n",
    "No perdamos este modelo entrenado!"
   ]
  },
  {
   "cell_type": "code",
   "execution_count": null,
   "id": "fbe202f2",
   "metadata": {},
   "outputs": [],
   "source": [
    "from going_modular.going_modular import utils\n",
    "\n",
    "effnetb2_food101_model_path = \"09_pretrained_effnetb2_feature_extractor_food101_20_percent.pth\"\n",
    "\n",
    "utils.save_model(model=effnetb2_food101,\n",
    "                 target_dir=\"models/\",\n",
    "                 model_name=effnetb2_food101_model_path)"
   ]
  },
  {
   "cell_type": "code",
   "execution_count": null,
   "id": "07a0cd43",
   "metadata": {},
   "outputs": [],
   "source": [
    "# Creamos entonces una instancia de EffNetB2 con Food101\n",
    "loaded_effnetb2_food101, effnetb2_transforms = create_effnetb2_model(num_classes=101)\n",
    "\n",
    "# Cargamos el modelo...\n",
    "loaded_effnetb2_food101.load_state_dict(torch.load(\"models/09_pretrained_effnetb2_feature_extractor_food101_20_percent.pth\"))"
   ]
  },
  {
   "cell_type": "markdown",
   "id": "90dcc60c",
   "metadata": {},
   "source": [
    "Con gran parte de los archivos previos y *huggingface* podrémos subir nuestro modelo y usarlo en la web..."
   ]
  }
 ],
 "metadata": {
  "kernelspec": {
   "display_name": "Python 3",
   "language": "python",
   "name": "python3"
  },
  "language_info": {
   "codemirror_mode": {
    "name": "ipython",
    "version": 3
   },
   "file_extension": ".py",
   "mimetype": "text/x-python",
   "name": "python",
   "nbconvert_exporter": "python",
   "pygments_lexer": "ipython3",
   "version": "3.13.5"
  }
 },
 "nbformat": 4,
 "nbformat_minor": 5
}
